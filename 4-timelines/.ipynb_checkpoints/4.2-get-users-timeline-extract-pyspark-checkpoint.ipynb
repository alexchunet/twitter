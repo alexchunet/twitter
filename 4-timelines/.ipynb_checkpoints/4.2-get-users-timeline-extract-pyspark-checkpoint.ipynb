{
 "cells": [
  {
   "cell_type": "code",
   "execution_count": 18,
   "metadata": {},
   "outputs": [],
   "source": [
    "import os\n",
    "import sys\n",
    "import socket\n",
    "import re\n",
    "import numpy as np\n",
    "import string\n",
    "import warnings\n",
    "from timeit import default_timer as timer\n",
    "from datetime import datetime\n",
    "\n",
    "from pyspark.sql import SparkSession\n",
    "from pyspark.sql.functions import udf,desc,row_number,col,year,month,dayofmonth,dayofweek,to_timestamp,size,isnan,when,count,col,count,lit,sum\n",
    "import pyspark.sql.functions as F\n",
    "from pyspark.sql.types import MapType, StringType, IntegerType, StructType, StructField, FloatType, ArrayType\n",
    "from py4j.java_gateway import java_import\n",
    "from functools import reduce\n",
    "from pyspark.sql import DataFrame"
   ]
  },
  {
   "cell_type": "markdown",
   "metadata": {},
   "source": [
    "# Config"
   ]
  },
  {
   "cell_type": "code",
   "execution_count": 3,
   "metadata": {},
   "outputs": [
    {
     "name": "stdout",
     "output_type": "stream",
     "text": [
      "Country: mexico\n"
     ]
    }
   ],
   "source": [
    "country_name = \"united-states\"\n",
    "print('Country:', country_name)"
   ]
  },
  {
   "cell_type": "code",
   "execution_count": 4,
   "metadata": {},
   "outputs": [
    {
     "name": "stdout",
     "output_type": "stream",
     "text": [
      "Create Cluster SparkSession\n",
      "Hostname: c41-04\n"
     ]
    }
   ],
   "source": [
    "try:\n",
    "    spark\n",
    "except NameError:\n",
    "    if 'samuel' in socket.gethostname().lower():\n",
    "        print('Create Local SparkSession')\n",
    "        spark=SparkSession.builder.config(\"spark.driver.host\", \"localhost\").appName(\"extract-timelines\").getOrCreate()\n",
    "    else:\n",
    "        print('Create Cluster SparkSession')\n",
    "        spark=SparkSession.builder.appName(\"extract-timelines\").getOrCreate()\n",
    "        \n",
    "# IgnoreCorruptFiles\n",
    "spark.conf.set(\"spark.sql.files.ignoreCorruptFiles\", \"true\")\n",
    "    \n",
    "print('Hostname:', socket.gethostname())\n",
    "if  'samuel' in socket.gethostname().lower():\n",
    "    path_to_data='../../data/timelines/'\n",
    "else:\n",
    "    path_to_data='/user/spf248/twitter/data/timelines/'"
   ]
  },
  {
   "cell_type": "code",
   "execution_count": null,
   "metadata": {},
   "outputs": [],
   "source": [
    "fs=spark._jvm.org.apache.hadoop.fs.FileSystem.get(spark._jsc.hadoopConfiguration())\n",
    "list_status=fs.listStatus(spark._jvm.org.apache.hadoop.fs.Path(os.path.join(path_to_data,country_name)))\n",
    "paths=[file.getPath().toString() for file in list_status]\n",
    "paths=[path.replace('hdfs://dumbo','') for path in paths if 'json.bz2' in path]\n",
    "np.random.seed(0)\n",
    "paths=np.random.permutation(sorted(paths))\n",
    "print('# Files:', len(paths))"
   ]
  },
  {
   "cell_type": "code",
   "execution_count": null,
   "metadata": {},
   "outputs": [],
   "source": [
    "n_chunks=200\n",
    "print('# Chunks:', n_chunks)\n",
    "paths_chunks=np.array_split(paths, n_chunks)"
   ]
  },
  {
   "cell_type": "markdown",
   "metadata": {},
   "source": [
    "# Import Data"
   ]
  },
  {
   "cell_type": "code",
   "execution_count": null,
   "metadata": {},
   "outputs": [],
   "source": [
    "dfs=[]\n",
    "\n",
    "for i,paths_chunk in enumerate(paths_chunks):\n",
    "    \n",
    "    try:\n",
    "        \n",
    "        print('IMPORT CHUNK', i)\n",
    "        start = timer()\n",
    "\n",
    "        df=spark.read.option(\n",
    "        \"compression\",\"bzip2\").option(\n",
    "        \"multiLine\",\"true\").option(\n",
    "        \"encoding\",\"UTF-8\").json(list(paths_chunk))\n",
    "\n",
    "        df=df.select(\n",
    "        'id_str',\n",
    "        'created_at',\n",
    "        'full_text',\n",
    "        'lang',\n",
    "        'user.id_str',\n",
    "        'user.location',\n",
    "        'coordinates.coordinates',\n",
    "        'place.id',\n",
    "        )\n",
    "\n",
    "        df = df.toDF(*[\n",
    "        'tweet_id',\n",
    "        'created_at',\n",
    "        'text',\n",
    "        'tweet_lang',\n",
    "        'user_id',\n",
    "        'user_location',\n",
    "        'tweet_coordinates',\n",
    "        'place_id',\n",
    "        ])\n",
    "\n",
    "        df = df.withColumn('created_at', to_timestamp('created_at',\"EEE MMM dd HH:mm:ss ZZZZZ yyyy\"))\n",
    "        df = df.withColumn('tweet_longitude', F.col('tweet_coordinates').getItem(0))\n",
    "        df = df.withColumn('tweet_latitude',  F.col('tweet_coordinates').getItem(1))\n",
    "        df = df.drop('tweet_coordinates')\n",
    "\n",
    "        print('# TWEETS:', df.count())\n",
    "        \n",
    "        dfs.append(df)\n",
    "        \n",
    "        end = timer()\n",
    "        print('TIME:', round(end - start), 'SEC')\n",
    "        \n",
    "    except:\n",
    "        \n",
    "        print('ERROR WITH CHUNK', i)\n",
    "        \n",
    "    print()"
   ]
  },
  {
   "cell_type": "markdown",
   "metadata": {},
   "source": [
    "# Finalize Dataset"
   ]
  },
  {
   "cell_type": "code",
   "execution_count": null,
   "metadata": {},
   "outputs": [],
   "source": [
    "print('MERGE DFS')\n",
    "df=reduce(DataFrame.unionByName, dfs)\n",
    "\n",
    "print('CACHE')\n",
    "df.cache()\n",
    "\n",
    "print('REPARTITION')\n",
    "df=df.repartition(1000)\n",
    "        \n",
    "print(\"DROP DUPLICATE IDS\")\n",
    "df=df.drop_duplicates(subset=['tweet_id'])"
   ]
  },
  {
   "cell_type": "code",
   "execution_count": 6,
   "metadata": {},
   "outputs": [
    {
     "name": "stdout",
     "output_type": "stream",
     "text": [
      "# TWEETS: 2252645\n"
     ]
    }
   ],
   "source": [
    "print('# TWEETS:', df.count())"
   ]
  },
  {
   "cell_type": "code",
   "execution_count": 7,
   "metadata": {},
   "outputs": [
    {
     "name": "stdout",
     "output_type": "stream",
     "text": [
      "# USERS: 307451\n"
     ]
    }
   ],
   "source": [
    "print('# USERS:', df.select(\"user_id\").distinct().count())"
   ]
  },
  {
   "cell_type": "code",
   "execution_count": 20,
   "metadata": {},
   "outputs": [
    {
     "name": "stdout",
     "output_type": "stream",
     "text": [
      "+--------+-------+----------+-------+-------------+--------+---------------+--------------+\n",
      "|tweet_id|   text|tweet_lang|user_id|user_location|place_id|tweet_longitude|tweet_latitude|\n",
      "+--------+-------+----------+-------+-------------+--------+---------------+--------------+\n",
      "| 2252645|2252645|   2252645|2252645|      2252645|   63670|          28596|         28596|\n",
      "+--------+-------+----------+-------+-------------+--------+---------------+--------------+\n",
      "\n",
      "None\n"
     ]
    }
   ],
   "source": [
    "def count_not_null(c, nan_as_null=False):\n",
    "    \"\"\"Use conversion between boolean and integer\n",
    "    - False -> 0\n",
    "    - True ->  1\n",
    "    \"\"\"\n",
    "    pred = col(c).isNotNull() & (~isnan(c) if nan_as_null else lit(True))\n",
    "    return sum(pred.cast(\"integer\")).alias(c)\n",
    "\n",
    "print('COUNT VALUES THAT ARE NON-NULL AND NON-NAN')\n",
    "print(df.agg(*[count_not_null(c, True) for c in [\n",
    "'tweet_id',\n",
    "'text',\n",
    "'tweet_lang',\n",
    "'user_id',\n",
    "'user_location',\n",
    "'place_id',\n",
    "'tweet_longitude',\n",
    "'tweet_latitude',\n",
    "]]).show())"
   ]
  },
  {
   "cell_type": "code",
   "execution_count": null,
   "metadata": {},
   "outputs": [],
   "source": [
    "print('SAVE')\n",
    "start = timer()\n",
    "\n",
    "df.write.mode(\"overwrite\").parquet(os.path.join(path_to_data,'extract',country_name))\n",
    "\n",
    "end = timer()\n",
    "print('DONE IN', round(end - start), 'SEC')"
   ]
  }
 ],
 "metadata": {
  "kernelspec": {
   "display_name": "Python 3",
   "language": "python",
   "name": "python3"
  },
  "language_info": {
   "codemirror_mode": {
    "name": "ipython",
    "version": 3
   },
   "file_extension": ".py",
   "mimetype": "text/x-python",
   "name": "python",
   "nbconvert_exporter": "python",
   "pygments_lexer": "ipython3",
   "version": "3.7.4"
  }
 },
 "nbformat": 4,
 "nbformat_minor": 2
}
