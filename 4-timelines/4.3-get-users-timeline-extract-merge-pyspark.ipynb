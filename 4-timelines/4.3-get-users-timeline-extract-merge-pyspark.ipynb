{
 "cells": [
  {
   "cell_type": "code",
   "execution_count": 1,
   "metadata": {},
   "outputs": [],
   "source": [
    "import os\n",
    "import sys\n",
    "import socket\n",
    "import re\n",
    "import numpy as np\n",
    "import string\n",
    "import warnings\n",
    "from timeit import default_timer as timer\n",
    "from datetime import datetime\n",
    "from glob import glob\n",
    "\n",
    "from pyspark.sql import SparkSession\n",
    "from pyspark.sql.functions import udf,desc,row_number,col,year,month,dayofmonth,dayofweek,to_timestamp,size,isnan,when,count,col,count,lit,sum\n",
    "import pyspark.sql.functions as F\n",
    "from pyspark.sql.types import MapType, StringType, IntegerType, StructType, StructField, FloatType, ArrayType\n",
    "from py4j.java_gateway import java_import\n",
    "from functools import reduce\n",
    "from pyspark.sql import DataFrame"
   ]
  },
  {
   "cell_type": "markdown",
   "metadata": {},
   "source": [
    "# Config"
   ]
  },
  {
   "cell_type": "code",
   "execution_count": 2,
   "metadata": {},
   "outputs": [
    {
     "name": "stdout",
     "output_type": "stream",
     "text": [
      "Country: US\n"
     ]
    }
   ],
   "source": [
    "country_code = \"US\"\n",
    "print('Country:', country_code)"
   ]
  },
  {
   "cell_type": "code",
   "execution_count": 9,
   "metadata": {},
   "outputs": [
    {
     "name": "stdout",
     "output_type": "stream",
     "text": [
      "Hostname: Samuels-MacBook-Pro.local\n"
     ]
    }
   ],
   "source": [
    "try:\n",
    "    spark\n",
    "except NameError:\n",
    "    if 'samuel' in socket.gethostname().lower():\n",
    "        print('Create Local SparkSession')\n",
    "        spark=SparkSession.builder.config(\"spark.driver.host\", \"localhost\").appName(\"extract-timelines\").getOrCreate()\n",
    "    else:\n",
    "        print('Create Cluster SparkSession')\n",
    "        spark=SparkSession.builder.appName(\"extract-timelines\").getOrCreate()\n",
    "        \n",
    "# IgnoreCorruptFiles\n",
    "spark.conf.set(\"spark.sql.files.ignoreCorruptFiles\", \"true\")\n",
    "    \n",
    "print('Hostname:', socket.gethostname())\n",
    "if  'samuel' in socket.gethostname().lower():\n",
    "    path_to_data='../../data'\n",
    "else:\n",
    "    path_to_data='/user/spf248/twitter/data'"
   ]
  },
  {
   "cell_type": "markdown",
   "metadata": {},
   "source": [
    "# Process Timelines"
   ]
  },
  {
   "cell_type": "code",
   "execution_count": null,
   "metadata": {},
   "outputs": [],
   "source": [
    "print('IMPORT')\n",
    "timelines=spark.read.parquet(os.path.join(path_to_data,'timelines','chunks',country_code,'*/*.parquet'))\n",
    "\n",
    "print('REPARTITION')\n",
    "timelines=timelines.repartition(1000)\n",
    "\n",
    "# timelines.cache()\n",
    "\n",
    "print(\"DROP DUPLICATE IDS\")\n",
    "timelines=timelines.drop_duplicates(subset=['tweet_id'])\n",
    "\n",
    "print(\"LIST USERS WITH TIMELINES\")\n",
    "users=timelines.select(\"user_id\").distinct()\n",
    "\n",
    "users.cache()"
   ]
  },
  {
   "cell_type": "code",
   "execution_count": null,
   "metadata": {},
   "outputs": [],
   "source": [
    "print('# STATUSES:', timelines.count())\n",
    "\n",
    "print('# USERS:', users.count())\n",
    "\n",
    "def count_not_null(c, nan_as_null=False):\n",
    "    \"\"\"Use conversion between boolean and integer\n",
    "    - False -> 0\n",
    "    - True ->  1\n",
    "    \"\"\"\n",
    "    pred = col(c).isNotNull() & (~isnan(c) if nan_as_null else lit(True))\n",
    "    return sum(pred.cast(\"integer\")).alias(c)\n",
    "\n",
    "print('COUNT VALUES THAT ARE NON-NULL AND NON-NAN')\n",
    "print(timelines.agg(*[count_not_null(c, True) for c in [\n",
    "'tweet_id',\n",
    "'text',\n",
    "'tweet_lang',\n",
    "'user_id',\n",
    "'user_location',\n",
    "'place_id',\n",
    "'tweet_longitude',\n",
    "'tweet_latitude',\n",
    "]]).show())"
   ]
  },
  {
   "cell_type": "markdown",
   "metadata": {},
   "source": [
    "# Join Decahose Tweets"
   ]
  },
  {
   "cell_type": "code",
   "execution_count": null,
   "metadata": {},
   "outputs": [],
   "source": [
    "tweets=spark.read.parquet(os.path.join(path_to_data,'tweets/tweets-with-identified-location',country_code))\n",
    "\n",
    "tweets=tweets.repartition(1000)\n",
    "\n",
    "# tweets.cache()\n",
    "\n",
    "print('# TWEETS:', tweets.count())\n",
    "\n",
    "tweets=tweets.join(users,on='user_id')\n",
    "\n",
    "print('# TWEETS OF PANEL USERS:',tweets.count())\n",
    "\n",
    "df=timelines.unionByName(tweets).drop_duplicates(subset=['tweet_id'])\n",
    "\n",
    "print('# STATUSES:', df.count())"
   ]
  },
  {
   "cell_type": "code",
   "execution_count": null,
   "metadata": {},
   "outputs": [],
   "source": [
    "print('SAVE')\n",
    "start = timer()\n",
    "\n",
    "df.write.mode(\"overwrite\").parquet(os.path.join(path_to_data,'timelines','extract',country_code))\n",
    "\n",
    "end = timer()\n",
    "print('DONE IN', round(end - start), 'SEC')"
   ]
  },
  {
   "cell_type": "markdown",
   "metadata": {},
   "source": [
    "# Split By Month and Year"
   ]
  },
  {
   "cell_type": "code",
   "execution_count": 6,
   "metadata": {},
   "outputs": [],
   "source": [
    "# def month_year_iter( start_month, start_year, end_month, end_year ):\n",
    "#     ym_start= 12*start_year + start_month - 1\n",
    "#     ym_end= 12*end_year + end_month - 1\n",
    "#     for ym in range( ym_start, ym_end ):\n",
    "#         y, m = divmod( ym, 12 )\n",
    "#         yield y, m+1"
   ]
  },
  {
   "cell_type": "code",
   "execution_count": null,
   "metadata": {},
   "outputs": [],
   "source": [
    "# print(\"EXTRACT YEAR AND MONTH\")\n",
    "# df=df.withColumn('year',year('created_at').cast(\"string\"))\n",
    "# df=df.withColumn('month',month('created_at').cast(\"string\"))"
   ]
  },
  {
   "cell_type": "code",
   "execution_count": null,
   "metadata": {},
   "outputs": [],
   "source": [
    "# print('SAVE')\n",
    "# start = timer()\n",
    "\n",
    "# dates=list(month_year_iter(1,2012,1,2020))\n",
    "\n",
    "# for i in range(len(dates)-1):\n",
    "    \n",
    "#     df.filter((df[\"year\"]==dates[i][0])&(df[\"month\"]==dates[i][1])).drop('year','month').coalesce(1).write.mode(\n",
    "#     \"overwrite\").parquet(os.path.join(path_to_data,'timelines','extract',country_code,str(dates[i][0])+'-'+str(dates[i][1])))\n",
    "\n",
    "# end = timer()\n",
    "# print('DONE IN', round(end - start), 'SEC')"
   ]
  },
  {
   "cell_type": "markdown",
   "metadata": {},
   "source": [
    "Country: US\n",
    "Create Cluster SparkSession\n",
    "Hostname: compute-1-7.local\n",
    "IMPORT\n",
    "REPARTITION\n",
    "DROP DUPLICATE IDS\n",
    "LIST USERS WITH TIMELINES\n",
    "STATUSES: 4550792893\n",
    "USERS: 5770200\n",
    "COUNT VALUES THAT ARE NON-NULL AND NON-NAN\n",
    "+----------+----------+----------+----------+-------------+---------+---------------+--------------+\n",
    "|  tweet_id|      text|tweet_lang|   user_id|user_location| place_id|tweet_longitude|tweet_latitude|\n",
    "+----------+----------+----------+----------+-------------+---------+---------------+--------------+\n",
    "|4550792893|4550792891|4550792893|4550792893|   4550792893|159080591|       61041033|      61041033|\n",
    "+----------+----------+----------+----------+-------------+---------+---------------+--------------+\n",
    "\n",
    "TWEETS: 3908098415\n",
    "TWEETS OF PANEL USERS: 481753540\n",
    "STATUSES: 4885224647\n",
    "SAVE\n",
    "DONE IN 13672 SEC\n",
    "Computing Time: 0.18"
   ]
  },
  {
   "cell_type": "markdown",
   "metadata": {},
   "source": [
    "Country: AR\n",
    "Create Cluster SparkSession\n",
    "Hostname: compute-1-9.local\n",
    "IMPORT\n",
    "REPARTITION\n",
    "DROP DUPLICATE IDS\n",
    "LIST USERS WITH TIMELINES\n",
    "STATUSES: 2038466535\n",
    "USERS: 2353925\n",
    "COUNT VALUES THAT ARE NON-NULL AND NON-NAN\n",
    "+----------+----------+----------+----------+-------------+--------+---------------+--------------+\n",
    "|  tweet_id|      text|tweet_lang|   user_id|user_location|place_id|tweet_longitude|tweet_latitude|\n",
    "+----------+----------+----------+----------+-------------+--------+---------------+--------------+\n",
    "|2038466535|2038466534|2038466535|2038466535|   2038466535|49475184|       14739186|      14739186|\n",
    "+----------+----------+----------+----------+-------------+--------+---------------+--------------+\n",
    "\n",
    "TWEETS: 468879229\n",
    "TWEETS OF PANEL USERS: 194885800\n",
    "STATUSES: 2181644169\n",
    "SAVE\n",
    "DONE IN 817 SEC\n"
   ]
  },
  {
   "cell_type": "markdown",
   "metadata": {},
   "source": [
    "Country: CO\n",
    "Create Cluster SparkSession\n",
    "Hostname: compute-2-5.local\n",
    "IMPORT\n",
    "REPARTITION\n",
    "DROP DUPLICATE IDS\n",
    "LIST USERS WITH TIMELINES\n",
    "STATUSES: 845684609\n",
    "USERS: 1560089\n",
    "COUNT VALUES THAT ARE NON-NULL AND NON-NAN\n",
    "+---------+---------+----------+---------+-------------+--------+---------------+--------------+\n",
    "| tweet_id|     text|tweet_lang|  user_id|user_location|place_id|tweet_longitude|tweet_latitude|\n",
    "+---------+---------+----------+---------+-------------+--------+---------------+--------------+\n",
    "|845684608|845684607| 845684608|845684608|    845684608|20974654|       11754234|      11754234|\n",
    "+---------+---------+----------+---------+-------------+--------+---------------+--------------+\n",
    "\n",
    "TWEETS: 190026981\n",
    "TWEETS OF PANEL USERS: 83965996\n",
    "STATUSES: 898531831\n",
    "SAVE\n",
    "DONE IN 489 SEC"
   ]
  }
 ],
 "metadata": {
  "kernelspec": {
   "display_name": "Python 3",
   "language": "python",
   "name": "python3"
  },
  "language_info": {
   "codemirror_mode": {
    "name": "ipython",
    "version": 3
   },
   "file_extension": ".py",
   "mimetype": "text/x-python",
   "name": "python",
   "nbconvert_exporter": "python",
   "pygments_lexer": "ipython3",
   "version": "3.7.6"
  }
 },
 "nbformat": 4,
 "nbformat_minor": 2
}
