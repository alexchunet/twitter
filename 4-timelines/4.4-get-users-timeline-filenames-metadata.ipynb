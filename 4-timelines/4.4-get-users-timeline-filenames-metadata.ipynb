{
 "cells": [
  {
   "cell_type": "code",
   "execution_count": 16,
   "metadata": {},
   "outputs": [],
   "source": [
    "import os\n",
    "import sys\n",
    "import socket\n",
    "import re\n",
    "import numpy as np\n",
    "import string\n",
    "from timeit import default_timer as timer\n",
    "from datetime import datetime\n",
    "from glob import glob\n",
    "import pandas as pd"
   ]
  },
  {
   "cell_type": "code",
   "execution_count": 17,
   "metadata": {},
   "outputs": [
    {
     "name": "stdout",
     "output_type": "stream",
     "text": [
      "Hostname: c40-13\n"
     ]
    }
   ],
   "source": [
    "print('Hostname:', socket.gethostname())\n",
    "if  'samuel' in socket.gethostname().lower():\n",
    "    path_to_data='../../data/timelines'\n",
    "else:\n",
    "    path_to_data='/scratch/spf248/twitter/data/timelines'"
   ]
  },
  {
   "cell_type": "code",
   "execution_count": 18,
   "metadata": {},
   "outputs": [
    {
     "name": "stdout",
     "output_type": "stream",
     "text": [
      "MX\n"
     ]
    }
   ],
   "source": [
    "country_code=\"MX\"\n",
    "print(country_code)"
   ]
  },
  {
   "cell_type": "code",
   "execution_count": 51,
   "metadata": {},
   "outputs": [],
   "source": [
    "filenames=pd.read_csv(os.path.join(path_to_data,'API',country_code,'filenames'),header=None,squeeze=True)\n",
    "filenames=filenames.apply(lambda x:pd.Series(x.split()))\n",
    "filenames=filenames[[4,5,6,7,8]].copy()\n",
    "filenames.columns=['size','month','day','year_or_time','filename']\n",
    "filenames.to_csv(os.path.join(path_to_data,'API',country_code,'metadata'))"
   ]
  },
  {
   "cell_type": "code",
   "execution_count": 55,
   "metadata": {},
   "outputs": [],
   "source": [
    "# success=pd.read_csv(os.path.join(path_to_data,'API',country_code,'success'),header=None,squeeze=True,sep='\\t',names=['user_id','filename'])\n",
    "# success[-success.filename.isin(list(filenames.loc[filenames.year_or_time=='2019','filename']))].to_csv(\n",
    "# os.path.join(path_to_data,'API',country_code,'success-2020'),index=False,sep='\\t',header=False)"
   ]
  }
 ],
 "metadata": {
  "kernelspec": {
   "display_name": "Python 3",
   "language": "python",
   "name": "python3"
  },
  "language_info": {
   "codemirror_mode": {
    "name": "ipython",
    "version": 3
   },
   "file_extension": ".py",
   "mimetype": "text/x-python",
   "name": "python",
   "nbconvert_exporter": "python",
   "pygments_lexer": "ipython3",
   "version": "3.7.0"
  }
 },
 "nbformat": 4,
 "nbformat_minor": 2
}
