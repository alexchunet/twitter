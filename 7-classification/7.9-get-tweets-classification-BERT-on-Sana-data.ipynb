{
 "cells": [
  {
   "cell_type": "code",
   "execution_count": 5,
   "metadata": {
    "code_folding": [],
    "scrolled": false
   },
   "outputs": [
    {
     "name": "stdout",
     "output_type": "stream",
     "text": [
      "02/22/2020 18:14:54 - INFO - root -   {'run_text': 'multilabel toxic comments with freezable layers', 'train_size': -1, 'val_size': -1, 'log_path': PosixPath('/scratch/da2734/twitter/sana/log'), 'full_data_dir': PosixPath('/scratch/da2734/twitter/sana/data'), 'data_dir': PosixPath('/scratch/da2734/twitter/sana/data'), 'task_name': 'intent', 'no_cuda': False, 'output_dir': PosixPath('/scratch/da2734/twitter/sana/output'), 'max_seq_length': 512, 'do_train': True, 'do_eval': True, 'do_lower_case': True, 'train_batch_size': 8, 'eval_batch_size': 16, 'learning_rate': 5e-05, 'num_train_epochs': 6, 'warmup_proportion': 0.0, 'local_rank': -1, 'seed': 42, 'gradient_accumulation_steps': 1, 'optimize_on_cpu': False, 'fp16': False, 'fp16_opt_level': 'O1', 'weight_decay': 0.0, 'adam_epsilon': 1e-08, 'max_grad_norm': 1.0, 'max_steps': -1, 'warmup_steps': 500, 'logging_steps': 50, 'eval_all_checkpoints': True, 'overwrite_output_dir': True, 'overwrite_cache': False, 'loss_scale': 128, 'model_name': 'bert-base-uncased', 'model_type': 'bert'}\n"
     ]
    },
    {
     "name": "stderr",
     "output_type": "stream",
     "text": [
      "/home/da2734/miniconda3/envs/worldbank/lib/python3.7/site-packages/ipykernel_launcher.py:25: FutureWarning: Passing a negative integer is deprecated in version 1.0 and will not be supported in future version. Instead, use None to not limit the column width.\n"
     ]
    },
    {
     "name": "stdout",
     "output_type": "stream",
     "text": [
      "02/22/2020 18:14:56 - INFO - transformers.tokenization_utils -   loading file https://s3.amazonaws.com/models.huggingface.co/bert/bert-base-uncased-vocab.txt from cache at /home/da2734/.cache/torch/transformers/26bc1ad6c0ac742e9b52263248f6d0f00068293b33709fae12320c0e35ccfbbb.542ce4285a40d23a559526243235df47c5f75c197f04f37d1a0c124c32c9a084\n",
      "02/22/2020 18:14:57 - INFO - root -   Writing example 0 of 1303\n",
      "02/22/2020 18:14:57 - INFO - root -   Saving features into cached file /scratch/da2734/twitter/sana/data/cache/cached_bert_train_multi_label_512_train.csv\n",
      "02/22/2020 18:14:58 - INFO - root -   Writing example 0 of 559\n",
      "02/22/2020 18:14:59 - INFO - root -   Saving features into cached file /scratch/da2734/twitter/sana/data/cache/cached_bert_dev_multi_label_512_dev.csv\n",
      "num_labels 5\n"
     ]
    }
   ],
   "source": [
    "#gets all this setup\n",
    "from transformers import BertTokenizer\n",
    "from pathlib import Path\n",
    "import torch\n",
    "\n",
    "from box import Box\n",
    "import pandas as pd\n",
    "import collections\n",
    "import os\n",
    "from tqdm import tqdm, trange\n",
    "import sys\n",
    "import random\n",
    "import numpy as np\n",
    "# import apex\n",
    "from sklearn.model_selection import train_test_split\n",
    "\n",
    "import datetime\n",
    "\n",
    "from fast_bert.modeling import BertForMultiLabelSequenceClassification\n",
    "from fast_bert.data_cls import BertDataBunch, InputExample, InputFeatures, MultiLabelTextProcessor, convert_examples_to_features\n",
    "from fast_bert.learner_cls import BertLearner\n",
    "from fast_bert.metrics import accuracy_multilabel, accuracy_thresh, fbeta, roc_auc\n",
    "\n",
    "torch.cuda.empty_cache()\n",
    "\n",
    "pd.set_option('display.max_colwidth', -1)\n",
    "run_start_time = datetime.datetime.today().strftime('%Y-%m-%d_%H-%M-%S')\n",
    "\n",
    "LOG_PATH=Path('/scratch/da2734/twitter/sana/log/')\n",
    "DATA_PATH=Path('/scratch/da2734/twitter/sana/data')\n",
    "LABEL_PATH=Path('/scratch/da2734/twitter/sana/data/')\n",
    "OUTPUT_PATH=Path('/scratch/da2734/twitter/sana/output/')\n",
    "FINETUNED_PATH = None\n",
    "\n",
    "args = Box({\n",
    "    \"run_text\": \"multilabel toxic comments with freezable layers\",\n",
    "    \"train_size\": -1,\n",
    "    \"val_size\": -1,\n",
    "    \"log_path\": LOG_PATH,\n",
    "    \"full_data_dir\": DATA_PATH,\n",
    "    \"data_dir\": DATA_PATH,\n",
    "    \"task_name\": \"labor_market_classification\",\n",
    "    \"no_cuda\": False,\n",
    "#     \"bert_model\": BERT_PRETRAINED_PATH,\n",
    "    \"output_dir\": OUTPUT_PATH,\n",
    "    \"max_seq_length\": 512,\n",
    "    \"do_train\": True,\n",
    "    \"do_eval\": True,\n",
    "    \"do_lower_case\": True,\n",
    "    \"train_batch_size\": 8,\n",
    "    \"eval_batch_size\": 16,\n",
    "    \"learning_rate\": 5e-5,\n",
    "    \"num_train_epochs\": 6,\n",
    "    \"warmup_proportion\": 0.0,\n",
    "    \"no_cuda\": False,\n",
    "    \"local_rank\": -1,\n",
    "    \"seed\": 42,\n",
    "    \"gradient_accumulation_steps\": 1,\n",
    "    \"optimize_on_cpu\": False,\n",
    "    \"fp16\": False,\n",
    "    \"fp16_opt_level\": \"O1\",\n",
    "    \"weight_decay\": 0.0,\n",
    "    \"adam_epsilon\": 1e-8,\n",
    "    \"max_grad_norm\": 1.0,\n",
    "    \"max_steps\": -1,\n",
    "    \"warmup_steps\": 500,\n",
    "    \"logging_steps\": 50,\n",
    "    \"eval_all_checkpoints\": True,\n",
    "    \"overwrite_output_dir\": True,\n",
    "    \"overwrite_cache\": False,\n",
    "    \"seed\": 42,\n",
    "    \"loss_scale\": 128,\n",
    "    \"task_name\": 'intent',\n",
    "    \"model_name\": 'bert-base-uncased',\n",
    "    \"model_type\": 'bert'\n",
    "})\n",
    "\n",
    "import logging\n",
    "\n",
    "logfile = str(LOG_PATH/'log-{}-{}.txt'.format(run_start_time, args[\"run_text\"]))\n",
    "\n",
    "logging.basicConfig(\n",
    "    level=logging.INFO,\n",
    "    format='%(asctime)s - %(levelname)s - %(name)s -   %(message)s',\n",
    "    datefmt='%m/%d/%Y %H:%M:%S',\n",
    "    handlers=[\n",
    "        logging.FileHandler(logfile),\n",
    "        logging.StreamHandler(sys.stdout)\n",
    "    ])\n",
    "\n",
    "logger = logging.getLogger()\n",
    "\n",
    "logger.info(args)\n",
    "\n",
    "device = torch.device('cuda')\n",
    "if torch.cuda.device_count() > 1:\n",
    "    args.multi_gpu = True\n",
    "else:\n",
    "    args.multi_gpu = False\n",
    "\n",
    "label_cols = [\"job_loss\",\"is_unemployed\",\"job_search\",\"is_hired\",\"job_offer\"]\n",
    "\n",
    "databunch = BertDataBunch(\n",
    "                        args['data_dir'], \n",
    "                        LABEL_PATH, \n",
    "                        args.model_name, \n",
    "                        train_file='train.csv', \n",
    "                        val_file='dev.csv',\n",
    "                        # test_data='test.csv',\n",
    "                        text_col=\"text\", #this is the name of the column in the train file that containts the tweet text\n",
    "                        label_col=label_cols,\n",
    "                        batch_size_per_gpu=args['train_batch_size'], \n",
    "                        max_seq_length=args['max_seq_length'], \n",
    "                        multi_gpu=args.multi_gpu, \n",
    "                        multi_label=True, \n",
    "                        model_type=args.model_type)\n",
    "\n",
    "num_labels = len(databunch.labels)\n",
    "print('num_labels', num_labels)\n"
   ]
  },
  {
   "cell_type": "code",
   "execution_count": 15,
   "metadata": {},
   "outputs": [
    {
     "data": {
      "text/plain": [
       "tensor([0., 0., 0., 1., 0.])"
      ]
     },
     "execution_count": 15,
     "metadata": {},
     "output_type": "execute_result"
    }
   ],
   "source": [
    "databunch.train_dl.dataset[2][3] # this train_dlgives us the training dataset for example 2's labels"
   ]
  },
  {
   "cell_type": "code",
   "execution_count": 16,
   "metadata": {},
   "outputs": [],
   "source": [
    "metrics = []\n",
    "metrics.append({'name': 'accuracy_thresh', 'function': accuracy_thresh})\n",
    "metrics.append({'name': 'roc_auc', 'function': roc_auc})\n",
    "metrics.append({'name': 'fbeta', 'function': fbeta})"
   ]
  },
  {
   "cell_type": "code",
   "execution_count": 17,
   "metadata": {},
   "outputs": [
    {
     "name": "stdout",
     "output_type": "stream",
     "text": [
      "02/22/2020 18:17:02 - INFO - transformers.configuration_utils -   loading configuration file https://s3.amazonaws.com/models.huggingface.co/bert/bert-base-uncased-config.json from cache at /home/da2734/.cache/torch/transformers/4dad0251492946e18ac39290fcfe91b89d370fee250efe9521476438fe8ca185.8f56353af4a709bf5ff0fbc915d8f5b42bfff892cbb6ac98c3c45f481a03c685\n",
      "02/22/2020 18:17:02 - INFO - transformers.configuration_utils -   Model config BertConfig {\n",
      "  \"architectures\": [\n",
      "    \"BertForMaskedLM\"\n",
      "  ],\n",
      "  \"attention_probs_dropout_prob\": 0.1,\n",
      "  \"bos_token_id\": 0,\n",
      "  \"do_sample\": false,\n",
      "  \"eos_token_ids\": 0,\n",
      "  \"finetuning_task\": null,\n",
      "  \"hidden_act\": \"gelu\",\n",
      "  \"hidden_dropout_prob\": 0.1,\n",
      "  \"hidden_size\": 768,\n",
      "  \"id2label\": {\n",
      "    \"0\": \"LABEL_0\",\n",
      "    \"1\": \"LABEL_1\"\n",
      "  },\n",
      "  \"initializer_range\": 0.02,\n",
      "  \"intermediate_size\": 3072,\n",
      "  \"is_decoder\": false,\n",
      "  \"label2id\": {\n",
      "    \"LABEL_0\": 0,\n",
      "    \"LABEL_1\": 1\n",
      "  },\n",
      "  \"layer_norm_eps\": 1e-12,\n",
      "  \"length_penalty\": 1.0,\n",
      "  \"max_length\": 20,\n",
      "  \"max_position_embeddings\": 512,\n",
      "  \"model_type\": \"bert\",\n",
      "  \"num_attention_heads\": 12,\n",
      "  \"num_beams\": 1,\n",
      "  \"num_hidden_layers\": 12,\n",
      "  \"num_labels\": 5,\n",
      "  \"num_return_sequences\": 1,\n",
      "  \"output_attentions\": false,\n",
      "  \"output_hidden_states\": false,\n",
      "  \"output_past\": true,\n",
      "  \"pad_token_id\": 0,\n",
      "  \"pruned_heads\": {},\n",
      "  \"repetition_penalty\": 1.0,\n",
      "  \"temperature\": 1.0,\n",
      "  \"top_k\": 50,\n",
      "  \"top_p\": 1.0,\n",
      "  \"torchscript\": false,\n",
      "  \"type_vocab_size\": 2,\n",
      "  \"use_bfloat16\": false,\n",
      "  \"vocab_size\": 30522\n",
      "}\n",
      "\n",
      "bert-base-uncased\n",
      "<class 'str'>\n",
      "02/22/2020 18:17:02 - INFO - transformers.modeling_utils -   loading weights file https://s3.amazonaws.com/models.huggingface.co/bert/bert-base-uncased-pytorch_model.bin from cache at /home/da2734/.cache/torch/transformers/aa1ef1aede4482d0dbcd4d52baad8ae300e60902e88fcb0bebdec09afd232066.36ca03ab34a1a5d5fa7bc3d03d55c4fa650fed07220e2eeebc06ce58d0e9a157\n",
      "02/22/2020 18:18:35 - INFO - transformers.modeling_utils -   Weights of BertForMultiLabelSequenceClassification not initialized from pretrained model: ['classifier.weight', 'classifier.bias']\n",
      "02/22/2020 18:18:35 - INFO - transformers.modeling_utils -   Weights from pretrained model not used in BertForMultiLabelSequenceClassification: ['cls.predictions.bias', 'cls.predictions.transform.dense.weight', 'cls.predictions.transform.dense.bias', 'cls.predictions.decoder.weight', 'cls.seq_relationship.weight', 'cls.seq_relationship.bias', 'cls.predictions.transform.LayerNorm.weight', 'cls.predictions.transform.LayerNorm.bias']\n"
     ]
    }
   ],
   "source": [
    "learner = BertLearner.from_pretrained_model(\n",
    "                                            databunch, \n",
    "                                            pretrained_path=args.model_name, \n",
    "                                            metrics=metrics, \n",
    "                                            device=device, \n",
    "                                            logger=logger, \n",
    "                                            output_dir=args.output_dir, \n",
    "                                            finetuned_wgts_path=FINETUNED_PATH, \n",
    "                                            warmup_steps=args.warmup_steps,\n",
    "                                            multi_gpu=args.multi_gpu, \n",
    "                                            is_fp16=args.fp16, \n",
    "                                            multi_label=True, \n",
    "                                            logging_steps=0)"
   ]
  },
  {
   "cell_type": "code",
   "execution_count": 18,
   "metadata": {},
   "outputs": [
    {
     "name": "stdout",
     "output_type": "stream",
     "text": [
      "02/22/2020 18:19:01 - INFO - root -   ***** Running training *****\n",
      "02/22/2020 18:19:01 - INFO - root -     Num examples = 1303\n",
      "02/22/2020 18:19:01 - INFO - root -     Num Epochs = 6\n",
      "02/22/2020 18:19:01 - INFO - root -     Total train batch size (w. parallel, distributed & accumulation) = 8\n",
      "02/22/2020 18:19:01 - INFO - root -     Gradient Accumulation steps = 1\n",
      "02/22/2020 18:19:01 - INFO - root -     Total optimization steps = 978\n"
     ]
    },
    {
     "data": {
      "text/html": [],
      "text/plain": [
       "<IPython.core.display.HTML object>"
      ]
     },
     "metadata": {},
     "output_type": "display_data"
    },
    {
     "name": "stdout",
     "output_type": "stream",
     "text": [
      "02/22/2020 18:20:40 - INFO - root -   Running evaluation\n",
      "02/22/2020 18:20:40 - INFO - root -     Num examples = 559\n",
      "02/22/2020 18:20:40 - INFO - root -     Batch size = 16\n"
     ]
    },
    {
     "data": {
      "text/html": [
       "\n",
       "    <div>\n",
       "        <style>\n",
       "            /* Turns off some styling */\n",
       "            progress {\n",
       "                /* gets rid of default border in Firefox and Opera. */\n",
       "                border: none;\n",
       "                /* Needs to be in here for Safari polyfill so background images work as expected. */\n",
       "                background-size: auto;\n",
       "            }\n",
       "            .progress-bar-interrupted, .progress-bar-interrupted::-webkit-progress-bar {\n",
       "                background: #F44336;\n",
       "            }\n",
       "        </style>\n",
       "      <progress value='35' class='' max='35', style='width:300px; height:20px; vertical-align: middle;'></progress>\n",
       "      100.00% [35/35 00:10<00:00]\n",
       "    </div>\n",
       "    "
      ],
      "text/plain": [
       "<IPython.core.display.HTML object>"
      ]
     },
     "metadata": {},
     "output_type": "display_data"
    },
    {
     "name": "stdout",
     "output_type": "stream",
     "text": [
      "02/22/2020 18:20:51 - INFO - root -   eval_loss after epoch 1: 0.6733051231929235: \n",
      "02/22/2020 18:20:51 - INFO - root -   eval_accuracy_thresh after epoch 1: 0.5595706701278687: \n",
      "02/22/2020 18:20:51 - INFO - root -   eval_roc_auc after epoch 1: 0.508515282946023: \n",
      "02/22/2020 18:20:51 - INFO - root -   eval_fbeta after epoch 1: 0.3264578878879547: \n",
      "02/22/2020 18:20:51 - INFO - root -   lr after epoch 1: 1.63e-05\n",
      "02/22/2020 18:20:51 - INFO - root -   train_loss after epoch 1: 0.6946481689353662\n",
      "02/22/2020 18:20:51 - INFO - root -   \n",
      "\n"
     ]
    },
    {
     "name": "stderr",
     "output_type": "stream",
     "text": [
      "/home/da2734/miniconda3/envs/worldbank/lib/python3.7/site-packages/torch/optim/lr_scheduler.py:224: UserWarning: To get the last learning rate computed by the scheduler, please use `get_last_lr()`.\n",
      "  warnings.warn(\"To get the last learning rate computed by the scheduler, \"\n"
     ]
    },
    {
     "name": "stdout",
     "output_type": "stream",
     "text": [
      "02/22/2020 18:22:28 - INFO - root -   Running evaluation\n",
      "02/22/2020 18:22:28 - INFO - root -     Num examples = 559\n",
      "02/22/2020 18:22:28 - INFO - root -     Batch size = 16\n"
     ]
    },
    {
     "data": {
      "text/html": [
       "\n",
       "    <div>\n",
       "        <style>\n",
       "            /* Turns off some styling */\n",
       "            progress {\n",
       "                /* gets rid of default border in Firefox and Opera. */\n",
       "                border: none;\n",
       "                /* Needs to be in here for Safari polyfill so background images work as expected. */\n",
       "                background-size: auto;\n",
       "            }\n",
       "            .progress-bar-interrupted, .progress-bar-interrupted::-webkit-progress-bar {\n",
       "                background: #F44336;\n",
       "            }\n",
       "        </style>\n",
       "      <progress value='35' class='' max='35', style='width:300px; height:20px; vertical-align: middle;'></progress>\n",
       "      100.00% [35/35 00:10<00:00]\n",
       "    </div>\n",
       "    "
      ],
      "text/plain": [
       "<IPython.core.display.HTML object>"
      ]
     },
     "metadata": {},
     "output_type": "display_data"
    },
    {
     "name": "stdout",
     "output_type": "stream",
     "text": [
      "02/22/2020 18:22:38 - INFO - root -   eval_loss after epoch 2: 0.5981588346617562: \n",
      "02/22/2020 18:22:38 - INFO - root -   eval_accuracy_thresh after epoch 2: 0.7230768799781799: \n",
      "02/22/2020 18:22:38 - INFO - root -   eval_roc_auc after epoch 2: 0.5420363159926728: \n",
      "02/22/2020 18:22:38 - INFO - root -   eval_fbeta after epoch 2: 0.32337433099746704: \n",
      "02/22/2020 18:22:38 - INFO - root -   lr after epoch 2: 3.26e-05\n",
      "02/22/2020 18:22:38 - INFO - root -   train_loss after epoch 2: 0.6457013242815169\n",
      "02/22/2020 18:22:38 - INFO - root -   \n",
      "\n",
      "02/22/2020 18:24:14 - INFO - root -   Running evaluation\n",
      "02/22/2020 18:24:14 - INFO - root -     Num examples = 559\n",
      "02/22/2020 18:24:14 - INFO - root -     Batch size = 16\n"
     ]
    },
    {
     "data": {
      "text/html": [
       "\n",
       "    <div>\n",
       "        <style>\n",
       "            /* Turns off some styling */\n",
       "            progress {\n",
       "                /* gets rid of default border in Firefox and Opera. */\n",
       "                border: none;\n",
       "                /* Needs to be in here for Safari polyfill so background images work as expected. */\n",
       "                background-size: auto;\n",
       "            }\n",
       "            .progress-bar-interrupted, .progress-bar-interrupted::-webkit-progress-bar {\n",
       "                background: #F44336;\n",
       "            }\n",
       "        </style>\n",
       "      <progress value='35' class='' max='35', style='width:300px; height:20px; vertical-align: middle;'></progress>\n",
       "      100.00% [35/35 00:10<00:00]\n",
       "    </div>\n",
       "    "
      ],
      "text/plain": [
       "<IPython.core.display.HTML object>"
      ]
     },
     "metadata": {},
     "output_type": "display_data"
    },
    {
     "name": "stdout",
     "output_type": "stream",
     "text": [
      "02/22/2020 18:24:24 - INFO - root -   eval_loss after epoch 3: 0.47361881732940675: \n",
      "02/22/2020 18:24:24 - INFO - root -   eval_accuracy_thresh after epoch 3: 0.8540250062942505: \n",
      "02/22/2020 18:24:24 - INFO - root -   eval_roc_auc after epoch 3: 0.6426220048136557: \n",
      "02/22/2020 18:24:24 - INFO - root -   eval_fbeta after epoch 3: 0.2806064486503601: \n",
      "02/22/2020 18:24:24 - INFO - root -   lr after epoch 3: 4.89e-05\n",
      "02/22/2020 18:24:24 - INFO - root -   train_loss after epoch 3: 0.5357613417268531\n",
      "02/22/2020 18:24:24 - INFO - root -   \n",
      "\n",
      "02/22/2020 18:26:01 - INFO - root -   Running evaluation\n",
      "02/22/2020 18:26:01 - INFO - root -     Num examples = 559\n",
      "02/22/2020 18:26:01 - INFO - root -     Batch size = 16\n"
     ]
    },
    {
     "data": {
      "text/html": [
       "\n",
       "    <div>\n",
       "        <style>\n",
       "            /* Turns off some styling */\n",
       "            progress {\n",
       "                /* gets rid of default border in Firefox and Opera. */\n",
       "                border: none;\n",
       "                /* Needs to be in here for Safari polyfill so background images work as expected. */\n",
       "                background-size: auto;\n",
       "            }\n",
       "            .progress-bar-interrupted, .progress-bar-interrupted::-webkit-progress-bar {\n",
       "                background: #F44336;\n",
       "            }\n",
       "        </style>\n",
       "      <progress value='35' class='' max='35', style='width:300px; height:20px; vertical-align: middle;'></progress>\n",
       "      100.00% [35/35 00:10<00:00]\n",
       "    </div>\n",
       "    "
      ],
      "text/plain": [
       "<IPython.core.display.HTML object>"
      ]
     },
     "metadata": {},
     "output_type": "display_data"
    },
    {
     "name": "stdout",
     "output_type": "stream",
     "text": [
      "02/22/2020 18:26:11 - INFO - root -   eval_loss after epoch 4: 0.4071083588259561: \n",
      "02/22/2020 18:26:11 - INFO - root -   eval_accuracy_thresh after epoch 4: 0.8540250062942505: \n",
      "02/22/2020 18:26:11 - INFO - root -   eval_roc_auc after epoch 4: 0.7660417539449798: \n",
      "02/22/2020 18:26:11 - INFO - root -   eval_fbeta after epoch 4: 0.1293693333864212: \n",
      "02/22/2020 18:26:11 - INFO - root -   lr after epoch 4: 3.8528583998355094e-05\n",
      "02/22/2020 18:26:11 - INFO - root -   train_loss after epoch 4: 0.4379907358277795\n",
      "02/22/2020 18:26:11 - INFO - root -   \n",
      "\n",
      "02/22/2020 18:27:47 - INFO - root -   Running evaluation\n",
      "02/22/2020 18:27:47 - INFO - root -     Num examples = 559\n",
      "02/22/2020 18:27:47 - INFO - root -     Batch size = 16\n"
     ]
    },
    {
     "data": {
      "text/html": [
       "\n",
       "    <div>\n",
       "        <style>\n",
       "            /* Turns off some styling */\n",
       "            progress {\n",
       "                /* gets rid of default border in Firefox and Opera. */\n",
       "                border: none;\n",
       "                /* Needs to be in here for Safari polyfill so background images work as expected. */\n",
       "                background-size: auto;\n",
       "            }\n",
       "            .progress-bar-interrupted, .progress-bar-interrupted::-webkit-progress-bar {\n",
       "                background: #F44336;\n",
       "            }\n",
       "        </style>\n",
       "      <progress value='35' class='' max='35', style='width:300px; height:20px; vertical-align: middle;'></progress>\n",
       "      100.00% [35/35 00:10<00:00]\n",
       "    </div>\n",
       "    "
      ],
      "text/plain": [
       "<IPython.core.display.HTML object>"
      ]
     },
     "metadata": {},
     "output_type": "display_data"
    },
    {
     "name": "stdout",
     "output_type": "stream",
     "text": [
      "02/22/2020 18:27:57 - INFO - root -   eval_loss after epoch 5: 0.3876696701560702: \n",
      "02/22/2020 18:27:57 - INFO - root -   eval_accuracy_thresh after epoch 5: 0.8540250062942505: \n",
      "02/22/2020 18:27:57 - INFO - root -   eval_roc_auc after epoch 5: 0.7805628116349179: \n",
      "02/22/2020 18:27:57 - INFO - root -   eval_fbeta after epoch 5: 0.12540818750858307: \n",
      "02/22/2020 18:27:57 - INFO - root -   lr after epoch 5: 1.3025330901416888e-05\n",
      "02/22/2020 18:27:57 - INFO - root -   train_loss after epoch 5: 0.3969135406924172\n",
      "02/22/2020 18:27:57 - INFO - root -   \n",
      "\n",
      "02/22/2020 18:29:34 - INFO - root -   Running evaluation\n",
      "02/22/2020 18:29:34 - INFO - root -     Num examples = 559\n",
      "02/22/2020 18:29:34 - INFO - root -     Batch size = 16\n"
     ]
    },
    {
     "data": {
      "text/html": [
       "\n",
       "    <div>\n",
       "        <style>\n",
       "            /* Turns off some styling */\n",
       "            progress {\n",
       "                /* gets rid of default border in Firefox and Opera. */\n",
       "                border: none;\n",
       "                /* Needs to be in here for Safari polyfill so background images work as expected. */\n",
       "                background-size: auto;\n",
       "            }\n",
       "            .progress-bar-interrupted, .progress-bar-interrupted::-webkit-progress-bar {\n",
       "                background: #F44336;\n",
       "            }\n",
       "        </style>\n",
       "      <progress value='35' class='' max='35', style='width:300px; height:20px; vertical-align: middle;'></progress>\n",
       "      100.00% [35/35 00:10<00:00]\n",
       "    </div>\n",
       "    "
      ],
      "text/plain": [
       "<IPython.core.display.HTML object>"
      ]
     },
     "metadata": {},
     "output_type": "display_data"
    },
    {
     "name": "stdout",
     "output_type": "stream",
     "text": [
      "02/22/2020 18:29:44 - INFO - root -   eval_loss after epoch 6: 0.38508441490786416: \n",
      "02/22/2020 18:29:44 - INFO - root -   eval_accuracy_thresh after epoch 6: 0.8540250062942505: \n",
      "02/22/2020 18:29:44 - INFO - root -   eval_roc_auc after epoch 6: 0.7829953095607745: \n",
      "02/22/2020 18:29:44 - INFO - root -   eval_fbeta after epoch 6: 0.12640202045440674: \n",
      "02/22/2020 18:29:44 - INFO - root -   lr after epoch 6: 0.0\n",
      "02/22/2020 18:29:44 - INFO - root -   train_loss after epoch 6: 0.3859975963282439\n",
      "02/22/2020 18:29:44 - INFO - root -   \n",
      "\n"
     ]
    },
    {
     "data": {
      "text/plain": [
       "(978, 0.5161687846320294)"
      ]
     },
     "execution_count": 18,
     "metadata": {},
     "output_type": "execute_result"
    }
   ],
   "source": [
    "learner.fit(args.num_train_epochs, args.learning_rate, validate=True) #this trains the model"
   ]
  },
  {
   "cell_type": "code",
   "execution_count": 19,
   "metadata": {},
   "outputs": [
    {
     "name": "stdout",
     "output_type": "stream",
     "text": [
      "02/22/2020 18:29:52 - INFO - root -   Running evaluation\n",
      "02/22/2020 18:29:52 - INFO - root -     Num examples = 559\n",
      "02/22/2020 18:29:52 - INFO - root -     Batch size = 16\n"
     ]
    },
    {
     "data": {
      "text/html": [
       "\n",
       "    <div>\n",
       "        <style>\n",
       "            /* Turns off some styling */\n",
       "            progress {\n",
       "                /* gets rid of default border in Firefox and Opera. */\n",
       "                border: none;\n",
       "                /* Needs to be in here for Safari polyfill so background images work as expected. */\n",
       "                background-size: auto;\n",
       "            }\n",
       "            .progress-bar-interrupted, .progress-bar-interrupted::-webkit-progress-bar {\n",
       "                background: #F44336;\n",
       "            }\n",
       "        </style>\n",
       "      <progress value='35' class='' max='35', style='width:300px; height:20px; vertical-align: middle;'></progress>\n",
       "      100.00% [35/35 00:10<00:00]\n",
       "    </div>\n",
       "    "
      ],
      "text/plain": [
       "<IPython.core.display.HTML object>"
      ]
     },
     "metadata": {},
     "output_type": "display_data"
    },
    {
     "data": {
      "text/plain": [
       "{'loss': 0.38508441490786416,\n",
       " 'accuracy_thresh': 0.8540250062942505,\n",
       " 'roc_auc': 0.7829953095607745,\n",
       " 'fbeta': 0.12640202045440674}"
      ]
     },
     "execution_count": 19,
     "metadata": {},
     "output_type": "execute_result"
    }
   ],
   "source": [
    "learner.validate()"
   ]
  },
  {
   "cell_type": "code",
   "execution_count": 20,
   "metadata": {},
   "outputs": [
    {
     "name": "stdout",
     "output_type": "stream",
     "text": [
      "02/22/2020 18:30:24 - INFO - transformers.configuration_utils -   Configuration saved in /scratch/da2734/twitter/sana/output/model_out/config.json\n",
      "02/22/2020 18:30:24 - INFO - transformers.modeling_utils -   Model weights saved in /scratch/da2734/twitter/sana/output/model_out/pytorch_model.bin\n"
     ]
    }
   ],
   "source": [
    "learner.save_model()"
   ]
  },
  {
   "cell_type": "code",
   "execution_count": 24,
   "metadata": {},
   "outputs": [
    {
     "name": "stdout",
     "output_type": "stream",
     "text": [
      "02/22/2020 18:33:33 - INFO - root -   Writing example 0 of 1\n",
      "[('job_loss', 0.29054415225982666), ('is_unemployed', 0.2861913740634918), ('is_hired', 0.2792271375656128), ('job_search', 0.17347979545593262), ('job_offer', 0.11866018921136856)]\n"
     ]
    }
   ],
   "source": [
    "texts = ['I just received a job offer']\n",
    "predictions = learner.predict_batch(texts)\n",
    "print(predictions[0])"
   ]
  }
 ],
 "metadata": {
  "kernelspec": {
   "display_name": "Python 3",
   "language": "python",
   "name": "python3"
  },
  "language_info": {
   "codemirror_mode": {
    "name": "ipython",
    "version": 3
   },
   "file_extension": ".py",
   "mimetype": "text/x-python",
   "name": "python",
   "nbconvert_exporter": "python",
   "pygments_lexer": "ipython3",
   "version": "3.7.6"
  }
 },
 "nbformat": 4,
 "nbformat_minor": 2
}
