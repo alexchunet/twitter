{
 "cells": [
  {
   "cell_type": "code",
   "execution_count": 1,
   "metadata": {},
   "outputs": [],
   "source": [
    "from timeit import default_timer as timer\n",
    "import itertools\n",
    "import os\n",
    "import sys\n",
    "import uuid\n",
    "from glob import glob\n",
    "import json\n",
    "import tweepy\n",
    "import numpy as np\n",
    "import pandas as pd\n",
    "import multiprocessing as mp\n",
    "import psutil\n",
    "import socket"
   ]
  },
  {
   "cell_type": "markdown",
   "metadata": {},
   "source": [
    "# Params"
   ]
  },
  {
   "cell_type": "code",
   "execution_count": 2,
   "metadata": {},
   "outputs": [
    {
     "name": "stdout",
     "output_type": "stream",
     "text": [
      "Country: United States\n"
     ]
    }
   ],
   "source": [
    "country = 'United States'\n",
    "print('Country:', country)"
   ]
  },
  {
   "cell_type": "code",
   "execution_count": 3,
   "metadata": {},
   "outputs": [
    {
     "name": "stdout",
     "output_type": "stream",
     "text": [
      "Save Data After Downloading 1000 Timelines\n"
     ]
    }
   ],
   "source": [
    "cutoff = 1000\n",
    "print('Save Data After Downloading',cutoff,'Timelines')"
   ]
  },
  {
   "cell_type": "code",
   "execution_count": 4,
   "metadata": {},
   "outputs": [
    {
     "name": "stdout",
     "output_type": "stream",
     "text": [
      "/scratch/spf248/twitter/data/decahose/parsed/users\n",
      "/scratch/spf248/twitter/data/decahose/parsed/locations\n",
      "/scratch/spf248/twitter/data/keys\n",
      "/scratch/spf248/twitter/data/timelines/united-states\n"
     ]
    }
   ],
   "source": [
    "if 'samuel' in socket.gethostname().lower():\n",
    "    path_to_data = '../../data'\n",
    "else:\n",
    "    path_to_data = '/scratch/spf248/twitter/data'\n",
    "\n",
    "path_to_users = os.path.join(path_to_data,'decahose/parsed/users')\n",
    "path_to_locations = os.path.join(path_to_data,'decahose/parsed/locations')\n",
    "path_to_keys = os.path.join(path_to_data,'keys/twitter')\n",
    "path_to_timelines = os.path.join(path_to_data,'timelines',country.lower().replace(' ','-'))\n",
    "os.makedirs(path_to_timelines, exist_ok=True)\n",
    "print(path_to_users)\n",
    "print(path_to_locations)\n",
    "print(path_to_keys)\n",
    "print(path_to_timelines)"
   ]
  },
  {
   "cell_type": "code",
   "execution_count": 5,
   "metadata": {},
   "outputs": [
    {
     "name": "stdout",
     "output_type": "stream",
     "text": [
      "SLURM_JOB_ID : 6862147\n",
      "SLURM_ARRAY_TASK_ID : 0 (Default)\n",
      "SLURM_ARRAY_TASK_COUNT : 1 (Default)\n",
      "SLURM_JOB_CPUS_PER_NODE : 1\n"
     ]
    }
   ],
   "source": [
    "def get_env_var(varname,default):\n",
    "    \n",
    "    if os.environ.get(varname) != None:\n",
    "        var = int(os.environ.get(varname))\n",
    "        print(varname,':', var)\n",
    "    else:\n",
    "        var = default\n",
    "        print(varname,':', var,'(Default)')\n",
    "    return var\n",
    "\n",
    "# Choose Number of Nodes To Distribute Credentials: e.g. jobarray=0-4, cpu_per_task=20, credentials = 90 (<100)\n",
    "SLURM_JOB_ID            = get_env_var('SLURM_JOB_ID',0)\n",
    "SLURM_ARRAY_TASK_ID     = get_env_var('SLURM_ARRAY_TASK_ID',0)\n",
    "SLURM_ARRAY_TASK_COUNT  = get_env_var('SLURM_ARRAY_TASK_COUNT',1)\n",
    "SLURM_JOB_CPUS_PER_NODE = get_env_var('SLURM_JOB_CPUS_PER_NODE',mp.cpu_count())"
   ]
  },
  {
   "cell_type": "markdown",
   "metadata": {},
   "source": [
    "# Credentials"
   ]
  },
  {
   "cell_type": "code",
   "execution_count": 6,
   "metadata": {},
   "outputs": [
    {
     "name": "stdout",
     "output_type": "stream",
     "text": [
      "Check Environment Variables: # credentials ( 49 ) > # CPU ( 1 )\n",
      "Only Keeping 1 Credentials\n",
      "/scratch/spf248/twitter/data/keys/WorldBankGroup6-zohar.json\n"
     ]
    }
   ],
   "source": [
    "def get_key_files(SLURM_ARRAY_TASK_ID,SLURM_ARRAY_TASK_COUNT,SLURM_JOB_CPUS_PER_NODE):\n",
    "\n",
    "    # Randomize set of key files using constant seed\n",
    "    np.random.seed(0)\n",
    "    all_key_files = np.random.permutation(glob(os.path.join(path_to_keys,'*.json')))\n",
    "    \n",
    "    # Split file list by node\n",
    "    key_files = np.array_split(all_key_files,SLURM_ARRAY_TASK_COUNT)[SLURM_ARRAY_TASK_ID]\n",
    "    \n",
    "    # Check that node has more CPU than key file \n",
    "    if len(key_files) <= SLURM_JOB_CPUS_PER_NODE:\n",
    "        print('# Credentials Allocated To Node:', len(key_files)) \n",
    "    else:\n",
    "        print('Check Environment Variables: # credentials (',len(key_files),') > # CPU (', SLURM_JOB_CPUS_PER_NODE,')')\n",
    "        print('Only Keeping', SLURM_JOB_CPUS_PER_NODE, 'Credentials')\n",
    "        key_files = key_files[:SLURM_JOB_CPUS_PER_NODE]\n",
    "        \n",
    "    return key_files\n",
    "\n",
    "key_files = get_key_files(SLURM_ARRAY_TASK_ID,SLURM_ARRAY_TASK_COUNT,SLURM_JOB_CPUS_PER_NODE)\n",
    "print('\\n'.join(key_files))"
   ]
  },
  {
   "cell_type": "code",
   "execution_count": 7,
   "metadata": {},
   "outputs": [
    {
     "name": "stdout",
     "output_type": "stream",
     "text": [
      "Credentials Checked!\n"
     ]
    }
   ],
   "source": [
    "def get_auth(key_file):\n",
    "    \n",
    "    # Import Key\n",
    "    with open(key_file) as f:\n",
    "        key = json.load(f)\n",
    "\n",
    "    # OAuth process, using the keys and tokens\n",
    "    auth = tweepy.OAuthHandler(key['consumer_key'], key['consumer_secret'])\n",
    "    auth.set_access_token(key['access_token'], key['access_token_secret'])\n",
    "\n",
    "    # Creation of the actual interface, using authentication\n",
    "    api = tweepy.API(auth, wait_on_rate_limit=True, wait_on_rate_limit_notify=True)\n",
    "    \n",
    "    try:\n",
    "        api.verify_credentials()\n",
    "#         print(key_file,\": Authentication OK\")\n",
    "    except:\n",
    "        print(key_file,\": error during authentication\")\n",
    "        sys.exit('Exit')\n",
    "    \n",
    "    return api\n",
    "\n",
    "for key_file in np.random.permutation(glob(os.path.join(path_to_keys,'*.json'))):\n",
    "    get_auth(key_file)\n",
    "print('Credentials Checked!')"
   ]
  },
  {
   "cell_type": "markdown",
   "metadata": {},
   "source": [
    "# User List"
   ]
  },
  {
   "cell_type": "code",
   "execution_count": 8,
   "metadata": {},
   "outputs": [
    {
     "name": "stdout",
     "output_type": "stream",
     "text": [
      "Import Users By Account Locations\n",
      "# Locations: 39779\n"
     ]
    }
   ],
   "source": [
    "print('Import Users By Account Locations')\n",
    "start = timer()\n",
    "\n",
    "l = []\n",
    "for filename in sorted(glob(os.path.join(path_to_users,'user-ids-by-account-location-verified-json/*.json'))):\n",
    "    try:\n",
    "        df = pd.read_json(filename,lines=True)\n",
    "        l.append(df)\n",
    "    except:\n",
    "        print('error importing', filename)\n",
    "users_by_account_location=pd.concat(l, axis=0, ignore_index=True)\n",
    "users_by_account_location=users_by_account_location.set_index('user_location')['user_id']\n",
    "users_by_account_location=users_by_account_location.apply(eval).apply(lambda x:[str(y) for y in x])\n",
    "print('# Locations:', len(users_by_account_location))\n",
    "print('# Users Total:', users_by_account_location.apply(len).sum())\n",
    "\n",
    "end = timer()\n",
    "print('Computing Time:', round(end - start), 'sec')"
   ]
  },
  {
   "cell_type": "code",
   "execution_count": 15,
   "metadata": {},
   "outputs": [
    {
     "name": "stdout",
     "output_type": "stream",
     "text": [
      "Import Locations\n",
      "# Locations: 39779\n"
     ]
    }
   ],
   "source": [
    "print('Import Locations')\n",
    "account_locations = pd.read_pickle(os.path.join(path_to_locations,'account-locations-identified.pkl')) \n",
    "print('# Locations:', len(account_locations))"
   ]
  },
  {
   "cell_type": "code",
   "execution_count": 16,
   "metadata": {},
   "outputs": [
    {
     "name": "stdout",
     "output_type": "stream",
     "text": [
      "Import Users...\n",
      "# Users: 21205171\n",
      "First User Id: 2730239748\n",
      "Node\"s # Users: 21205171\n",
      "Node\"s First User Id: 2730239748\n",
      "Computing Time: 9 sec\n"
     ]
    }
   ],
   "source": [
    "def get_users(country,SLURM_ARRAY_TASK_ID,SLURM_ARRAY_TASK_COUNT):  \n",
    "\n",
    "    # Select Country Users\n",
    "    all_users = list(itertools.chain.from_iterable(\n",
    "    users_by_account_location.reindex(\n",
    "    account_locations.loc[\n",
    "    account_locations['country_long']==country,'LOCATION'])))\n",
    "    \n",
    "    # Randomize All Users\n",
    "    np.random.seed(0)\n",
    "    all_users=np.random.permutation(all_users)\n",
    "    \n",
    "    print('# Country Users:', len(all_users))\n",
    "    print('First User Id:', all_users[0])\n",
    "    \n",
    "    # Split users by node\n",
    "    users=np.array_split(all_users,SLURM_ARRAY_TASK_COUNT)[SLURM_ARRAY_TASK_ID].copy()\n",
    "    print('Node\"s # Users:', len(users))\n",
    "    print('Node\"s First User Id:', users[0])\n",
    "    \n",
    "    return users\n",
    "    \n",
    "start = timer()\n",
    "print('Import Users...')\n",
    "\n",
    "users = get_users(country,SLURM_ARRAY_TASK_ID,SLURM_ARRAY_TASK_COUNT)\n",
    "del users_by_account_location\n",
    "del account_locations\n",
    "    \n",
    "end = timer()\n",
    "print('Computing Time:', round(end - start), 'sec')"
   ]
  },
  {
   "cell_type": "markdown",
   "metadata": {},
   "source": [
    "# Attempted Downloads"
   ]
  },
  {
   "cell_type": "code",
   "execution_count": 10,
   "metadata": {},
   "outputs": [
    {
     "name": "stdout",
     "output_type": "stream",
     "text": [
      "# Downloaded Timelines: 0\n"
     ]
    }
   ],
   "source": [
    "# Users Whose Timeline Were Successfully Downloaded\n",
    "def get_success(path_to_timelines):\n",
    "    \n",
    "    if not os.path.exists(os.path.join(path_to_timelines, 'success')):\n",
    "        return set()\n",
    "    else:\n",
    "        success = set()\n",
    "        with open(os.path.join(path_to_timelines, 'success'), 'r', encoding='utf-8') as file:\n",
    "            for line in file:\n",
    "                success.add(line.strip('\\n').split('\\t')[0])\n",
    "        return set(success)\n",
    "\n",
    "success = get_success(path_to_timelines)\n",
    "print('# Downloaded Timelines:', len(success))"
   ]
  },
  {
   "cell_type": "code",
   "execution_count": 11,
   "metadata": {},
   "outputs": [
    {
     "name": "stdout",
     "output_type": "stream",
     "text": [
      "# Missed Timelines: 0\n"
     ]
    }
   ],
   "source": [
    "# Users Whose Timeline Were Not Successfully Downloaded\n",
    "def get_failure(path_to_timelines):\n",
    "    \n",
    "    if not os.path.exists(os.path.join(path_to_timelines,'failure')):\n",
    "        return set()\n",
    "    else:\n",
    "        failure = set()\n",
    "        with open(os.path.join(path_to_timelines,'failure'), 'r', encoding='utf-8') as file:\n",
    "            for line in file:\n",
    "                failure.add(line.strip('\\n').split('\\t')[0])\n",
    "        return set(failure)\n",
    "\n",
    "failure = get_failure(path_to_timelines)\n",
    "print('# Missed Timelines:', len(failure))"
   ]
  },
  {
   "cell_type": "markdown",
   "metadata": {},
   "source": [
    "# Get Timelines"
   ]
  },
  {
   "cell_type": "code",
   "execution_count": 12,
   "metadata": {},
   "outputs": [],
   "source": [
    "def get_timeline(user_id,api):\n",
    "    \n",
    "    timeline = []\n",
    "    \n",
    "    try:\n",
    "        \n",
    "        # Collect All Status in Timeline\n",
    "        cursor = tweepy.Cursor(\n",
    "        api.user_timeline, \n",
    "        user_id=user_id, \n",
    "        count=3200,\n",
    "        tweet_mode=\"extended\", \n",
    "        include_rts=True).items()\n",
    "        \n",
    "        for status in cursor:\n",
    "            timeline.append(status._json)\n",
    "        del cursor\n",
    "     \n",
    "    except tweepy.error.TweepError as e:\n",
    "        \n",
    "        # Save User and Error Type\n",
    "        with open(os.path.join(path_to_timelines,'failure'), 'a', encoding='utf-8') as file:\n",
    "            file.write(user_id+'\\t'+str(e)+'\\n')\n",
    "        \n",
    "    return pd.DataFrame(timeline)\n",
    "\n",
    "# timeline = get_user_timeline('12',get_auth(key_file))"
   ]
  },
  {
   "cell_type": "code",
   "execution_count": 13,
   "metadata": {},
   "outputs": [],
   "source": [
    "def get_timelines_by_block(index_key):\n",
    "\n",
    "    # Create Access For Block of Users\n",
    "    api = get_auth(key_files[index_key])\n",
    "    \n",
    "    # Select Block of Users\n",
    "    users_block = np.array_split(users,len(key_files))[index_key]\n",
    "    \n",
    "    # Initialize Output File ID\n",
    "    output_id = str(uuid.uuid4())\n",
    "    \n",
    "    # Initialize Data\n",
    "    timelines = pd.DataFrame()\n",
    "    \n",
    "    # Initialize Downloaded Users\n",
    "    downloaded_ids = []\n",
    "    \n",
    "    for i,user_id in enumerate(users_block):\n",
    "        \n",
    "        # Skip Users With Downloaded Timeline\n",
    "        if user_id in success:\n",
    "#             print('Skip:', user_id)\n",
    "            continue\n",
    "           \n",
    "        # Try Downloading Timeline\n",
    "        timeline = get_timeline(user_id,api)\n",
    "        \n",
    "        if not timeline.shape[0]:\n",
    "#             print('Missed:', user_id)\n",
    "            continue\n",
    "            \n",
    "        # Append\n",
    "        timelines = pd.concat([timelines, timeline],sort=False)\n",
    "        downloaded_ids.append(user_id)\n",
    "            \n",
    "        # Save Every <cutoff> timelines including Last\n",
    "        if len(downloaded_ids) == cutoff or user_id == users_block[-1]:\n",
    "            \n",
    "            print('Process', index_key, 'saving', len(downloaded_ids), 'timelines with output id', output_id)\n",
    "            \n",
    "            # Check Memory Usage\n",
    "            pid = os.getpid()\n",
    "            py = psutil.Process(pid)\n",
    "            memoryUse = py.memory_info()[0]/2.**30  # memory use in GB...I think\n",
    "            print('Process', index_key,'memory use:', round(memoryUse,3),'GB', 'after', i+1,'users')\n",
    "            print('Process', index_key,'memory % used:', psutil.virtual_memory()[2])\n",
    "            print('Process', index_key,'CPU%:', psutil.cpu_percent())\n",
    "            \n",
    "            # Save to Json\n",
    "            filename = \\\n",
    "            'timelines-'+\\\n",
    "            str(SLURM_JOB_ID)+'-'+\\\n",
    "            str(SLURM_ARRAY_TASK_ID)+'-'+\\\n",
    "            str(index_key)+'-'+\\\n",
    "            str(len(downloaded_ids))+'-'+\\\n",
    "            output_id+'.json.bz2'\n",
    "            \n",
    "            # bz2 splittable for spark\n",
    "            # save as list of dict\n",
    "            # discard index\n",
    "            timelines.to_json(\n",
    "            os.path.join(path_to_timelines,filename),\n",
    "            orient='records',\n",
    "            force_ascii=False,\n",
    "            date_format=None,\n",
    "            double_precision=15)\n",
    "            \n",
    "            # Save User Id and File In Which Its Timeline Was Saved\n",
    "            with open(os.path.join(path_to_timelines,'success'), 'a', encoding='utf-8') as file:\n",
    "                for downloaded_id in downloaded_ids:\n",
    "                    file.write(downloaded_id+'\\t'+filename+'\\n')\n",
    "            \n",
    "            # Reset Output File ID\n",
    "            output_id = str(uuid.uuid4())\n",
    "    \n",
    "            # Reset Data and Downloaded Users\n",
    "            del timelines, downloaded_ids\n",
    "            timelines = pd.DataFrame()\n",
    "            downloaded_ids = []\n",
    "            \n",
    "    return 0"
   ]
  },
  {
   "cell_type": "code",
   "execution_count": 14,
   "metadata": {},
   "outputs": [
    {
     "name": "stdout",
     "output_type": "stream",
     "text": [
      "Extract Timelines...\n",
      "\n",
      "Process 0 saving 10 timelines with output id bbfa03cb-8da3-43d5-a3dd-5f467f00c7bc\n",
      "Process 0 memory use: 6.139 GB after # users: 19\n",
      "Process 0 memory % used: 12.6\n",
      "Process 0 CPU%: 55.3\n",
      "Computing Time: 44 sec\n"
     ]
    }
   ],
   "source": [
    "start = timer()\n",
    "print('Extract Timelines...\\n')\n",
    "\n",
    "with mp.Pool() as pool:\n",
    "    \n",
    "    pool.map(get_timelines_by_block, range(len(key_files)))\n",
    "\n",
    "end = timer()\n",
    "print('Computing Time:', round(end - start), 'sec')"
   ]
  },
  {
   "cell_type": "code",
   "execution_count": null,
   "metadata": {},
   "outputs": [],
   "source": [
    "# Read Like This\n",
    "# pd.read_json(os.path.join(path_to_timelines,filename),\n",
    "# orient='records',\n",
    "# dtype=False,\n",
    "# convert_dates=False)           "
   ]
  },
  {
   "cell_type": "code",
   "execution_count": 15,
   "metadata": {},
   "outputs": [],
   "source": [
    "# with open('text.json.bz2','w') as f:\n",
    "#     jack.to_json(f,\n",
    "#     orient='records',\n",
    "#     force_ascii=False,\n",
    "#     date_format=None,\n",
    "#     double_precision=15)"
   ]
  },
  {
   "cell_type": "code",
   "execution_count": 16,
   "metadata": {},
   "outputs": [],
   "source": [
    "# with open('text.json.bz2','r') as f:\n",
    "#     jack2 = pd.read_json(f,\n",
    "#     orient='records',\n",
    "#     dtype=False,\n",
    "#     convert_dates=False)"
   ]
  }
 ],
 "metadata": {
  "kernelspec": {
   "display_name": "Python 3",
   "language": "python",
   "name": "python3"
  },
  "language_info": {
   "codemirror_mode": {
    "name": "ipython",
    "version": 3
   },
   "file_extension": ".py",
   "mimetype": "text/x-python",
   "name": "python",
   "nbconvert_exporter": "python",
   "pygments_lexer": "ipython3",
   "version": "3.7.4"
  }
 },
 "nbformat": 4,
 "nbformat_minor": 2
}
