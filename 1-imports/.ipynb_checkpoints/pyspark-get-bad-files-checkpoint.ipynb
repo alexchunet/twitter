{
 "cells": [
  {
   "cell_type": "code",
   "execution_count": null,
   "metadata": {},
   "outputs": [],
   "source": [
    "import sys\n",
    "import socket\n",
    "from pyspark.sql import SparkSession, Row\n",
    "from pyspark.sql.types import MapType, StringType, IntegerType, StructType, StructField, FloatType, ArrayType\n",
    "\n",
    "try:\n",
    "    spark\n",
    "except NameError:\n",
    "    if 'samuel' in socket.gethostname().lower():\n",
    "        print('Create Local SparkSession')\n",
    "        spark = SparkSession.builder.config(\n",
    "        \"spark.driver.host\", \"localhost\").appName(\n",
    "        \"get-bad-files\").getOrCreate()\n",
    "    else:\n",
    "        print('Create Cluster SparkSession')\n",
    "        spark = SparkSession.builder.appName(\n",
    "        \"get-bad-files\").getOrCreate()\n",
    "        \n",
    "hadoop = spark.sparkContext._jvm.org.apache.hadoop\n",
    "fs = hadoop.fs.FileSystem\n",
    "conf = hadoop.conf.Configuration() \n",
    "path = hadoop.fs.Path('/user/spf248/twitter/data/timelines/*/*.json.bz2')\n",
    "fList = [ str(f.getPath()) for f in fs.get(conf).globStatus(path) ]\n",
    "         \n",
    "def readFile(fileLoc):\n",
    "    try:\n",
    "        df = spark.read.option(\n",
    "        'compression', 'bzip2').option(\n",
    "        \"multiLine\", \"true\").option(\n",
    "        \"encoding\", \"UTF-8\").json(fileLoc)\n",
    "        return df\n",
    "    except:\n",
    "        print(\"Reading trouble: \" + fileLoc)\n",
    "        print(str(sys.exc_info()))\n",
    "        return Row(failed=fileLoc)\n",
    "\n",
    "import time\n",
    "for f in fList:\n",
    "    start_time = time.time()\n",
    "    print(\"=== Reading: \" + f)\n",
    "    readFile(f).count()\n",
    "    readFile(f).take(4)\n",
    "    print(\"--- %s seconds ---\\n\" % (time.time() - start_time))"
   ]
  }
 ],
 "metadata": {
  "kernelspec": {
   "display_name": "Python 3",
   "language": "python",
   "name": "python3"
  },
  "language_info": {
   "codemirror_mode": {
    "name": "ipython",
    "version": 3
   },
   "file_extension": ".py",
   "mimetype": "text/x-python",
   "name": "python",
   "nbconvert_exporter": "python",
   "pygments_lexer": "ipython3",
   "version": "3.7.4"
  }
 },
 "nbformat": 4,
 "nbformat_minor": 2
}
