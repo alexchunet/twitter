{
 "cells": [
  {
   "cell_type": "code",
   "execution_count": null,
   "metadata": {},
   "outputs": [],
   "source": [
    "import os\n",
    "import sys\n",
    "import socket\n",
    "import re\n",
    "import numpy as np\n",
    "import string\n",
    "import warnings\n",
    "from timeit import default_timer as timer\n",
    "from datetime import datetime\n",
    "\n",
    "from pyspark.sql import SparkSession\n",
    "from pyspark.sql.functions import udf,desc,row_number,col,year,month,dayofmonth,dayofweek,to_timestamp,size,isnan,lit,lower\n",
    "import pyspark.sql.functions as F\n",
    "from pyspark.sql.types import MapType, StringType, IntegerType, StructType, StructField, FloatType, ArrayType"
   ]
  },
  {
   "cell_type": "markdown",
   "metadata": {},
   "source": [
    "# Config"
   ]
  },
  {
   "cell_type": "code",
   "execution_count": null,
   "metadata": {},
   "outputs": [],
   "source": [
    "country_code = \"US\"\n",
    "country_name = \"united-states\"\n",
    "language_code = \"en\"\n",
    "print(country_code)"
   ]
  },
  {
   "cell_type": "code",
   "execution_count": null,
   "metadata": {},
   "outputs": [],
   "source": [
    "try:\n",
    "    spark\n",
    "except NameError:\n",
    "    if 'samuel' in socket.gethostname().lower():\n",
    "        print('Create Local SparkSession')\n",
    "        spark = SparkSession.builder.config(\n",
    "        \"spark.driver.host\", \"localhost\").appName(\n",
    "        \"get-tweets-mentions\").getOrCreate()\n",
    "    else:\n",
    "        print('Create Cluster SparkSession')\n",
    "        spark = SparkSession.builder.appName(\n",
    "        \"get-tweets-mentions\").getOrCreate()\n",
    "    \n",
    "# Local\n",
    "print('Hostname:', socket.gethostname())\n",
    "if  'samuel' in socket.gethostname().lower():\n",
    "    path_to_data='../../data'\n",
    "# Cluster\n",
    "else:\n",
    "    path_to_data='/user/spf248/twitter/data'\n",
    "    \n",
    "path_to_tweets=os.path.join(path_to_data,'decahose/parsed/tweets/tweets-with-identified-location-'+country_code)\n",
    "path_to_timelines=os.path.join(path_to_data,'timelines','extract',country_name)\n",
    "path_to_mentions=os.path.join(path_to_data,'mentions')\n",
    "path_to_keywords=os.path.join(path_to_data,'keywords/labor/lang')\n",
    "print(path_to_tweets)\n",
    "print(path_to_timelines)\n",
    "print(path_to_mentions)\n",
    "print(path_to_keywords)"
   ]
  },
  {
   "cell_type": "markdown",
   "metadata": {},
   "source": [
    "# Data Processing"
   ]
  },
  {
   "cell_type": "code",
   "execution_count": null,
   "metadata": {},
   "outputs": [],
   "source": [
    "print('Import Datasets')\n",
    "path_to_timelines='/user/spf248/twitter/data/timelines/extract/united-states/part-00199-ee33b2f6-08f4-49f4-9302-72a765ce509b-c000.snappy.parquet'\n",
    "path_to_tweets='/user/spf248/twitter/data/decahose/parsed/tweets/tweets-with-identified-location-US/part-00199-1c5b6c3f-88eb-437c-80fc-c153b74934f5-c000.snappy.parquet'\n",
    "tweets=spark.read.parquet(path_to_tweets)\n",
    "timelines=spark.read.parquet(path_to_timelines)\n",
    "df=tweets.unionByName(timelines)"
   ]
  },
  {
   "cell_type": "code",
   "execution_count": null,
   "metadata": {},
   "outputs": [],
   "source": [
    "print(\"Cache\")\n",
    "df.cache()"
   ]
  },
  {
   "cell_type": "code",
   "execution_count": null,
   "metadata": {},
   "outputs": [],
   "source": [
    "print(\"DROP DUPLICATES\")\n",
    "df=df.drop_duplicates(subset=['tweet_id'])\n",
    "\n",
    "print(\"LOWERCASE\")\n",
    "df = df.withColumn('text',lower(col('text')))\n",
    "\n",
    "print(\"SELECT LANGUAGE\")\n",
    "df = df.where(df.tweet_lang==language_code)\n",
    "\n",
    "print(\"EXTRACT YEAR AND MONTH\")\n",
    "df = df.withColumn('year', year('created_at').cast(\"string\"))\n",
    "df = df.withColumn('month', month('created_at').cast(\"string\"))\n",
    "df = df.withColumn('day', dayofmonth('created_at').cast(\"string\"))"
   ]
  },
  {
   "cell_type": "code",
   "execution_count": null,
   "metadata": {},
   "outputs": [],
   "source": [
    "print('IMPORT MENTIONS')\n",
    "mentions=spark.read.option('header','true').csv(os.path.join(path_to_keywords,language_code))\n",
    "mentions=list(mentions.toPandas()['mention'])\n",
    "print('# Mentions:',len(mentions))\n",
    "print('\\n'.join(mentions))"
   ]
  },
  {
   "cell_type": "code",
   "execution_count": null,
   "metadata": {},
   "outputs": [],
   "source": [
    "print('LOOKUP MENTIONS')\n",
    "for mention in mentions:\n",
    "    field_mention='n_'+mention.replace(' ','_').replace('?','_')\n",
    "    df=df.withColumn(field_mention, df.text.contains(mention).cast(\"int\"))"
   ]
  },
  {
   "cell_type": "code",
   "execution_count": null,
   "metadata": {},
   "outputs": [],
   "source": [
    "print('APPEND CONSTANT')\n",
    "df=df.withColumn('n_tweets', lit(1))\n",
    "\n",
    "df=df.drop('tweet_id','created_at','tweet_lang','place_id','tweet_longitude','tweet_latitude','text')\n",
    "\n",
    "print(\"COUNT TWEETS AND MENTIONS BY YEAR, MONTH, LOCATION, AND USER\")\n",
    "df=df.groupBy('year','month','day','user_location','user_id').sum()"
   ]
  },
  {
   "cell_type": "code",
   "execution_count": null,
   "metadata": {},
   "outputs": [],
   "source": [
    "print(\"TOTAL COUNTS\")\n",
    "print(df.groupBy().sum().collect())"
   ]
  },
  {
   "cell_type": "code",
   "execution_count": null,
   "metadata": {},
   "outputs": [],
   "source": [
    "print('SAVE')\n",
    "start = timer()\n",
    "\n",
    "df.coalesce(1).write.mode(\"overwrite\").json(os.path.join(path_to_mentions,country_code+'-json'))\n",
    "\n",
    "end = timer()\n",
    "print('DONE IN', round(end - start), 'SEC')"
   ]
  }
 ],
 "metadata": {
  "kernelspec": {
   "display_name": "Python 3",
   "language": "python",
   "name": "python3"
  },
  "language_info": {
   "codemirror_mode": {
    "name": "ipython",
    "version": 3
   },
   "file_extension": ".py",
   "mimetype": "text/x-python",
   "name": "python",
   "nbconvert_exporter": "python",
   "pygments_lexer": "ipython3",
   "version": "3.7.4"
  }
 },
 "nbformat": 4,
 "nbformat_minor": 2
}
