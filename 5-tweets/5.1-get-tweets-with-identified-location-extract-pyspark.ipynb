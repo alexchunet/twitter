{
 "cells": [
  {
   "cell_type": "code",
   "execution_count": null,
   "metadata": {},
   "outputs": [],
   "source": [
    "import os\n",
    "import sys\n",
    "import socket\n",
    "import re\n",
    "import numpy as np\n",
    "import string\n",
    "import warnings\n",
    "from timeit import default_timer as timer\n",
    "from datetime import datetime\n",
    "\n",
    "from pyspark.sql import SparkSession\n",
    "from pyspark.sql.functions import udf,desc,row_number,col,year,month,dayofmonth,dayofweek,to_timestamp,size,isnan\n",
    "import pyspark.sql.functions as F\n",
    "from pyspark.sql.types import MapType, StringType, IntegerType, StructType, StructField, FloatType, ArrayType"
   ]
  },
  {
   "cell_type": "code",
   "execution_count": null,
   "metadata": {},
   "outputs": [],
   "source": [
    "(1576605423886 - 1576601639442)/(1000*3600)"
   ]
  },
  {
   "cell_type": "markdown",
   "metadata": {},
   "source": [
    "# Config"
   ]
  },
  {
   "cell_type": "code",
   "execution_count": null,
   "metadata": {},
   "outputs": [],
   "source": [
    "country_code = \"MM\""
   ]
  },
  {
   "cell_type": "code",
   "execution_count": null,
   "metadata": {},
   "outputs": [],
   "source": [
    "try:\n",
    "    spark\n",
    "except NameError:\n",
    "    if 'samuel' in socket.gethostname().lower():\n",
    "        print('Create Local SparkSession')\n",
    "        spark = SparkSession.builder.config(\n",
    "        \"spark.driver.host\", \"localhost\").appName(\n",
    "        \"extract-data-from-geolocated-tweets\").getOrCreate()\n",
    "    else:\n",
    "        print('Create Cluster SparkSession')\n",
    "        spark = SparkSession.builder.appName(\n",
    "        \"extract-data-from-geolocated-tweets\").getOrCreate()\n",
    "    \n",
    "# Local\n",
    "print('Hostname:', socket.gethostname())\n",
    "if  'samuel' in socket.gethostname().lower():\n",
    "    path_to_tweets = '../data/tweets/tweets-with-identified-location/'\n",
    "    path_to_locations = '../data/locations/profiles/'\n",
    "# Cluster\n",
    "else:\n",
    "    path_to_tweets = '/user/spf248/twitter/data/tweets/tweets-with-identified-location/'\n",
    "    path_to_locations = '/user/spf248/twitter/data/locations/profiles/'  "
   ]
  },
  {
   "cell_type": "markdown",
   "metadata": {},
   "source": [
    "# Import Dataset"
   ]
  },
  {
   "cell_type": "code",
   "execution_count": null,
   "metadata": {},
   "outputs": [],
   "source": [
    "print('Import')\n",
    "start = timer()\n",
    "\n",
    "df = spark.read.option(\n",
    "'compression', 'bzip2').option(\n",
    "'header','true').option(\n",
    "\"multiLine\", \"true\").option(\n",
    "\"mode\", \"FAILFAST\").option(\n",
    "'escape','\"').option(\n",
    "\"encoding\", \"UTF-8\").csv(\n",
    "os.path.join(path_to_tweets,'decahose','tweets-with-identified-location-from-decahose-partition-9-block-9.csv.bz2'))\n",
    "\n",
    "schema = df.schema\n",
    "\n",
    "# multiLine allows for \\n\n",
    "df = spark.read.option(\n",
    "'compression', 'bzip2').option(\n",
    "'header','true').option(\n",
    "\"multiLine\", \"true\").option(\n",
    "'escape','\"').option(\n",
    "\"mode\", \"FAILFAST\").option(\n",
    "\"encoding\", \"UTF-8\").schema(schema).csv(\n",
    "os.path.join(path_to_tweets,'decahose','tweets-with-identified-location-from-decahose-partition-*-block-*.csv.bz2'))\n",
    "\n",
    "end = timer()\n",
    "print('Computing Time:', round(end - start), 'sec')"
   ]
  },
  {
   "cell_type": "code",
   "execution_count": null,
   "metadata": {},
   "outputs": [],
   "source": [
    "print('Import Identified Locations')\n",
    "\n",
    "identified_locations = spark.read.option(\n",
    "'header','true').option(\n",
    "\"multiLine\", \"true\").csv(\n",
    "path_to_locations+'account-locations-identified.csv')\n",
    "\n",
    "identified_locations = identified_locations.where(identified_locations.country_short == country_code)\n",
    "identified_locations = identified_locations.select(col('LOCATION').alias('user_location'))"
   ]
  },
  {
   "cell_type": "markdown",
   "metadata": {},
   "source": [
    "# Process Data"
   ]
  },
  {
   "cell_type": "code",
   "execution_count": null,
   "metadata": {},
   "outputs": [],
   "source": [
    "print('Drop Index')\n",
    "df = df.drop('_c0')\n",
    "\n",
    "print('Select Rows in Identified Locations')\n",
    "df = df.join(identified_locations, on=['user_location'], how='inner')\n",
    "\n",
    "print(\"DROP DUPLICATE IDS\")\n",
    "df = df.drop_duplicates(subset=['id_str'])\n",
    "\n",
    "print(\"CLEAN TIME\")\n",
    "df = df.withColumn('created_at', to_timestamp('created_at',\"EEE MMM dd HH:mm:ss ZZZZZ yyyy\"))\n",
    "\n",
    "print(\"REORDER COLUMNS\")\n",
    "df = df.select(\n",
    "'id_str',\n",
    "'created_at',\n",
    "'text',\n",
    "'lang',\n",
    "'user_id_str',\n",
    "'user_location',\n",
    "'place_id',\n",
    "'tweet_longitude',\n",
    "'tweet_latitude',\n",
    ")\n",
    "\n",
    "print(\"RENAME COLUMNS\")\n",
    "df = df.toDF(*[\n",
    "'tweet_id',\n",
    "'created_at',\n",
    "'text',\n",
    "'tweet_lang',\n",
    "'user_id',\n",
    "'user_location',\n",
    "'place_id',\n",
    "'tweet_longitude',\n",
    "'tweet_latitude',\n",
    "])"
   ]
  },
  {
   "cell_type": "code",
   "execution_count": null,
   "metadata": {},
   "outputs": [],
   "source": [
    "print('SAVE TO PARQUET')\n",
    "start = timer()\n",
    "\n",
    "df.write.mode(\"overwrite\").parquet(os.path.join(path_to_tweets,country_code))\n",
    "\n",
    "end = timer()\n",
    "print('DONE IN', round(end - start), 'SEC')"
   ]
  },
  {
   "cell_type": "markdown",
   "metadata": {},
   "source": [
    "country_code='US'\n",
    "\n",
    "df.count()=3,808,797,523 "
   ]
  }
 ],
 "metadata": {
  "kernelspec": {
   "display_name": "Python 3",
   "language": "python",
   "name": "python3"
  },
  "language_info": {
   "codemirror_mode": {
    "name": "ipython",
    "version": 3
   },
   "file_extension": ".py",
   "mimetype": "text/x-python",
   "name": "python",
   "nbconvert_exporter": "python",
   "pygments_lexer": "ipython3",
   "version": "3.7.4"
  }
 },
 "nbformat": 4,
 "nbformat_minor": 2
}
