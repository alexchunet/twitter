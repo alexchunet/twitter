{
 "cells": [
  {
   "cell_type": "code",
   "execution_count": 1,
   "metadata": {},
   "outputs": [],
   "source": [
    "import os\n",
    "import sys\n",
    "import socket\n",
    "import re\n",
    "import numpy as np\n",
    "import string\n",
    "import warnings\n",
    "from timeit import default_timer as timer\n",
    "from datetime import datetime\n",
    "\n",
    "from pyspark.sql import SparkSession\n",
    "from pyspark.sql.functions import udf,desc,row_number,col,year,month,dayofmonth,dayofweek,to_timestamp,size,isnan\n",
    "import pyspark.sql.functions as F\n",
    "from pyspark.sql.types import MapType, StringType, IntegerType, StructType, StructField, FloatType, ArrayType"
   ]
  },
  {
   "cell_type": "markdown",
   "metadata": {},
   "source": [
    "# Config"
   ]
  },
  {
   "cell_type": "code",
   "execution_count": 3,
   "metadata": {},
   "outputs": [
    {
     "name": "stdout",
     "output_type": "stream",
     "text": [
      "Country: mexico\n"
     ]
    }
   ],
   "source": [
    "country_name = \"mexico\"\n",
    "print('Country:', country_name)"
   ]
  },
  {
   "cell_type": "code",
   "execution_count": 4,
   "metadata": {},
   "outputs": [
    {
     "name": "stdout",
     "output_type": "stream",
     "text": [
      "Hostname: Samuels-MacBook-Pro.local\n"
     ]
    }
   ],
   "source": [
    "try:\n",
    "    spark\n",
    "except NameError:\n",
    "    if 'samuel' in socket.gethostname().lower():\n",
    "        print('Create Local SparkSession')\n",
    "        spark = SparkSession.builder.config(\n",
    "        \"spark.driver.host\", \"localhost\").appName(\n",
    "        \"extract-timelines\").getOrCreate()\n",
    "    else:\n",
    "        print('Create Cluster SparkSession')\n",
    "        spark = SparkSession.builder.appName(\n",
    "        \"extract-timelines\").getOrCreate()\n",
    "        \n",
    "# ignoreCorruptFiles\n",
    "spark.conf.set(\"spark.sql.files.ignoreCorruptFiles\", \"true\")\n",
    "    \n",
    "# Local\n",
    "print('Hostname:', socket.gethostname())\n",
    "if  'samuel' in socket.gethostname().lower():\n",
    "    path_to_data='../../data/timelines/'\n",
    "# Cluster\n",
    "else:\n",
    "    path_to_data='/user/spf248/twitter/data/timelines/'"
   ]
  },
  {
   "cell_type": "markdown",
   "metadata": {},
   "source": [
    "# Import Data"
   ]
  },
  {
   "cell_type": "code",
   "execution_count": 5,
   "metadata": {},
   "outputs": [
    {
     "name": "stdout",
     "output_type": "stream",
     "text": [
      "Import:\n",
      "Computing Time: 8 sec\n"
     ]
    }
   ],
   "source": [
    "print('Import:')\n",
    "start = timer()\n",
    "\n",
    "# Getting Error Without Allowing For Multiline\n",
    "path_to_data='/user/spf248/twitter/data/timelines/'\n",
    "df = spark.read.option(\n",
    "'compression', 'bzip2').option(\n",
    "\"multiLine\", \"true\").option(\n",
    "\"encoding\", \"UTF-8\").json(os.path.join(path_to_data,country_name,'*.json.bz2'))\n",
    "\n",
    "end = timer()\n",
    "print('Computing Time:', round(end - start), 'sec')"
   ]
  },
  {
   "cell_type": "code",
   "execution_count": 6,
   "metadata": {},
   "outputs": [
    {
     "data": {
      "text/plain": [
       "DataFrame[contributors: string, coordinates: struct<coordinates:array<double>,type:string>, created_at: string, display_text_range: array<bigint>, entities: struct<hashtags:array<struct<indices:array<bigint>,text:string>>,media:array<struct<display_url:string,expanded_url:string,id:bigint,id_str:string,indices:array<bigint>,media_url:string,media_url_https:string,sizes:struct<large:struct<h:bigint,resize:string,w:bigint>,medium:struct<h:bigint,resize:string,w:bigint>,small:struct<h:bigint,resize:string,w:bigint>,thumb:struct<h:bigint,resize:string,w:bigint>>,source_status_id:bigint,source_status_id_str:string,source_user_id:bigint,source_user_id_str:string,type:string,url:string>>,symbols:array<struct<indices:array<bigint>,text:string>>,urls:array<struct<display_url:string,expanded_url:string,indices:array<bigint>,url:string>>,user_mentions:array<struct<id:bigint,id_str:string,indices:array<bigint>,name:string,screen_name:string>>>, extended_entities: struct<media:array<struct<additional_media_info:struct<call_to_actions:struct<visit_site:struct<url:string>,watch_now:struct<url:string>>,description:string,embeddable:boolean,monetizable:boolean,source_user:struct<contributors_enabled:boolean,created_at:string,default_profile:boolean,default_profile_image:boolean,description:string,entities:struct<description:struct<urls:array<struct<display_url:string,expanded_url:string,indices:array<bigint>,url:string>>>,url:struct<urls:array<struct<display_url:string,expanded_url:string,indices:array<bigint>,url:string>>>>,favourites_count:bigint,follow_request_sent:boolean,followers_count:bigint,following:boolean,friends_count:bigint,geo_enabled:boolean,has_extended_profile:boolean,id:bigint,id_str:string,is_translation_enabled:boolean,is_translator:boolean,lang:string,listed_count:bigint,location:string,name:string,notifications:boolean,profile_background_color:string,profile_background_image_url:string,profile_background_image_url_https:string,profile_background_tile:boolean,profile_banner_url:string,profile_image_url:string,profile_image_url_https:string,profile_link_color:string,profile_sidebar_border_color:string,profile_sidebar_fill_color:string,profile_text_color:string,profile_use_background_image:boolean,protected:boolean,screen_name:string,statuses_count:bigint,time_zone:string,translator_type:string,url:string,utc_offset:string,verified:boolean>,title:string>,display_url:string,expanded_url:string,id:bigint,id_str:string,indices:array<bigint>,media_url:string,media_url_https:string,sizes:struct<large:struct<h:bigint,resize:string,w:bigint>,medium:struct<h:bigint,resize:string,w:bigint>,small:struct<h:bigint,resize:string,w:bigint>,thumb:struct<h:bigint,resize:string,w:bigint>>,source_status_id:bigint,source_status_id_str:string,source_user_id:bigint,source_user_id_str:string,type:string,url:string,video_info:struct<aspect_ratio:array<bigint>,duration_millis:bigint,variants:array<struct<bitrate:bigint,content_type:string,url:string>>>>>>, favorite_count: bigint, favorited: boolean, full_text: string, geo: struct<coordinates:array<double>,type:string>, id: bigint, id_str: string, in_reply_to_screen_name: string, in_reply_to_status_id: double, in_reply_to_status_id_str: string, in_reply_to_user_id: double, in_reply_to_user_id_str: string, is_quote_status: boolean, lang: string, place: struct<bounding_box:struct<coordinates:array<array<array<double>>>,type:string>,contained_within:array<string>,country:string,country_code:string,full_name:string,id:string,name:string,place_type:string,url:string>, possibly_sensitive: boolean, quoted_status: struct<contributors:string,coordinates:string,created_at:string,display_text_range:array<bigint>,entities:struct<hashtags:array<struct<indices:array<bigint>,text:string>>,media:array<struct<display_url:string,expanded_url:string,id:bigint,id_str:string,indices:array<bigint>,media_url:string,media_url_https:string,sizes:struct<large:struct<h:bigint,resize:string,w:bigint>,medium:struct<h:bigint,resize:string,w:bigint>,small:struct<h:bigint,resize:string,w:bigint>,thumb:struct<h:bigint,resize:string,w:bigint>>,source_status_id:bigint,source_status_id_str:string,source_user_id:bigint,source_user_id_str:string,type:string,url:string>>,symbols:array<string>,urls:array<struct<display_url:string,expanded_url:string,indices:array<bigint>,url:string>>,user_mentions:array<struct<id:bigint,id_str:string,indices:array<bigint>,name:string,screen_name:string>>>,extended_entities:struct<media:array<struct<additional_media_info:struct<call_to_actions:struct<visit_site:struct<url:string>,watch_now:struct<url:string>>,description:string,embeddable:boolean,monetizable:boolean,source_user:struct<contributors_enabled:boolean,created_at:string,default_profile:boolean,default_profile_image:boolean,description:string,entities:struct<description:struct<urls:array<struct<display_url:string,expanded_url:string,indices:array<bigint>,url:string>>>,url:struct<urls:array<struct<display_url:string,expanded_url:string,indices:array<bigint>,url:string>>>>,favourites_count:bigint,follow_request_sent:boolean,followers_count:bigint,following:boolean,friends_count:bigint,geo_enabled:boolean,has_extended_profile:boolean,id:bigint,id_str:string,is_translation_enabled:boolean,is_translator:boolean,lang:string,listed_count:bigint,location:string,name:string,notifications:boolean,profile_background_color:string,profile_background_image_url:string,profile_background_image_url_https:string,profile_background_tile:boolean,profile_banner_url:string,profile_image_url:string,profile_image_url_https:string,profile_link_color:string,profile_sidebar_border_color:string,profile_sidebar_fill_color:string,profile_text_color:string,profile_use_background_image:boolean,protected:boolean,screen_name:string,statuses_count:bigint,time_zone:string,translator_type:string,url:string,utc_offset:string,verified:boolean>,title:string>,display_url:string,expanded_url:string,id:bigint,id_str:string,indices:array<bigint>,media_url:string,media_url_https:string,sizes:struct<large:struct<h:bigint,resize:string,w:bigint>,medium:struct<h:bigint,resize:string,w:bigint>,small:struct<h:bigint,resize:string,w:bigint>,thumb:struct<h:bigint,resize:string,w:bigint>>,source_status_id:bigint,source_status_id_str:string,source_user_id:bigint,source_user_id_str:string,type:string,url:string,video_info:struct<aspect_ratio:array<bigint>,duration_millis:bigint,variants:array<struct<bitrate:bigint,content_type:string,url:string>>>>>>,favorite_count:bigint,favorited:boolean,full_text:string,geo:string,id:bigint,id_str:string,in_reply_to_screen_name:string,in_reply_to_status_id:bigint,in_reply_to_status_id_str:string,in_reply_to_user_id:bigint,in_reply_to_user_id_str:string,is_quote_status:boolean,lang:string,place:struct<bounding_box:struct<coordinates:array<array<array<double>>>,type:string>,contained_within:array<string>,country:string,country_code:string,full_name:string,id:string,name:string,place_type:string,url:string>,possibly_sensitive:boolean,quoted_status_id:bigint,quoted_status_id_str:string,quoted_status_permalink:struct<display:string,expanded:string,url:string>,retweet_count:bigint,retweeted:boolean,scopes:struct<followers:boolean>,source:string,truncated:boolean,user:struct<contributors_enabled:boolean,created_at:string,default_profile:boolean,default_profile_image:boolean,description:string,entities:struct<description:struct<urls:array<struct<display_url:string,expanded_url:string,indices:array<bigint>,url:string>>>,url:struct<urls:array<struct<display_url:string,expanded_url:string,indices:array<bigint>,url:string>>>>,favourites_count:bigint,follow_request_sent:boolean,followers_count:bigint,following:boolean,friends_count:bigint,geo_enabled:boolean,has_extended_profile:boolean,id:bigint,id_str:string,is_translation_enabled:boolean,is_translator:boolean,lang:string,listed_count:bigint,location:string,name:string,notifications:boolean,profile_background_color:string,profile_background_image_url:string,profile_background_image_url_https:string,profile_background_tile:boolean,profile_banner_url:string,profile_image_url:string,profile_image_url_https:string,profile_link_color:string,profile_sidebar_border_color:string,profile_sidebar_fill_color:string,profile_text_color:string,profile_use_background_image:boolean,protected:boolean,screen_name:string,statuses_count:bigint,time_zone:string,translator_type:string,url:string,utc_offset:string,verified:boolean,withheld_in_countries:array<string>>,withheld_in_countries:array<string>>, quoted_status_id: double, quoted_status_id_str: string, quoted_status_permalink: struct<display:string,expanded:string,url:string>, retweet_count: bigint, retweeted: boolean, retweeted_status: struct<contributors:string,coordinates:struct<coordinates:array<double>,type:string>,created_at:string,display_text_range:array<bigint>,entities:struct<hashtags:array<struct<indices:array<bigint>,text:string>>,media:array<struct<display_url:string,expanded_url:string,id:bigint,id_str:string,indices:array<bigint>,media_url:string,media_url_https:string,sizes:struct<large:struct<h:bigint,resize:string,w:bigint>,medium:struct<h:bigint,resize:string,w:bigint>,small:struct<h:bigint,resize:string,w:bigint>,thumb:struct<h:bigint,resize:string,w:bigint>>,source_status_id:bigint,source_status_id_str:string,source_user_id:bigint,source_user_id_str:string,type:string,url:string>>,symbols:array<string>,urls:array<struct<display_url:string,expanded_url:string,indices:array<bigint>,url:string>>,user_mentions:array<struct<id:bigint,id_str:string,indices:array<bigint>,name:string,screen_name:string>>>,extended_entities:struct<media:array<struct<additional_media_info:struct<call_to_actions:struct<visit_site:struct<url:string>,watch_now:struct<url:string>>,description:string,embeddable:boolean,monetizable:boolean,source_user:struct<contributors_enabled:boolean,created_at:string,default_profile:boolean,default_profile_image:boolean,description:string,entities:struct<description:struct<urls:array<struct<display_url:string,expanded_url:string,indices:array<bigint>,url:string>>>,url:struct<urls:array<struct<display_url:string,expanded_url:string,indices:array<bigint>,url:string>>>>,favourites_count:bigint,follow_request_sent:boolean,followers_count:bigint,following:boolean,friends_count:bigint,geo_enabled:boolean,has_extended_profile:boolean,id:bigint,id_str:string,is_translation_enabled:boolean,is_translator:boolean,lang:string,listed_count:bigint,location:string,name:string,notifications:boolean,profile_background_color:string,profile_background_image_url:string,profile_background_image_url_https:string,profile_background_tile:boolean,profile_banner_url:string,profile_image_url:string,profile_image_url_https:string,profile_link_color:string,profile_sidebar_border_color:string,profile_sidebar_fill_color:string,profile_text_color:string,profile_use_background_image:boolean,protected:boolean,screen_name:string,statuses_count:bigint,time_zone:string,translator_type:string,url:string,utc_offset:string,verified:boolean>,title:string>,display_url:string,expanded_url:string,id:bigint,id_str:string,indices:array<bigint>,media_url:string,media_url_https:string,sizes:struct<large:struct<h:bigint,resize:string,w:bigint>,medium:struct<h:bigint,resize:string,w:bigint>,small:struct<h:bigint,resize:string,w:bigint>,thumb:struct<h:bigint,resize:string,w:bigint>>,source_status_id:bigint,source_status_id_str:string,source_user_id:bigint,source_user_id_str:string,type:string,url:string,video_info:struct<aspect_ratio:array<bigint>,duration_millis:bigint,variants:array<struct<bitrate:bigint,content_type:string,url:string>>>>>>,favorite_count:bigint,favorited:boolean,full_text:string,geo:struct<coordinates:array<double>,type:string>,id:bigint,id_str:string,in_reply_to_screen_name:string,in_reply_to_status_id:bigint,in_reply_to_status_id_str:string,in_reply_to_user_id:bigint,in_reply_to_user_id_str:string,is_quote_status:boolean,lang:string,place:struct<bounding_box:struct<coordinates:array<array<array<double>>>,type:string>,contained_within:array<string>,country:string,country_code:string,full_name:string,id:string,name:string,place_type:string,url:string>,possibly_sensitive:boolean,quoted_status:struct<contributors:string,coordinates:string,created_at:string,display_text_range:array<bigint>,entities:struct<hashtags:array<struct<indices:array<bigint>,text:string>>,media:array<struct<display_url:string,expanded_url:string,id:bigint,id_str:string,indices:array<bigint>,media_url:string,media_url_https:string,sizes:struct<large:struct<h:bigint,resize:string,w:bigint>,medium:struct<h:bigint,resize:string,w:bigint>,small:struct<h:bigint,resize:string,w:bigint>,thumb:struct<h:bigint,resize:string,w:bigint>>,source_status_id:bigint,source_status_id_str:string,source_user_id:bigint,source_user_id_str:string,type:string,url:string>>,symbols:array<string>,urls:array<struct<display_url:string,expanded_url:string,indices:array<bigint>,url:string>>,user_mentions:array<struct<id:bigint,id_str:string,indices:array<bigint>,name:string,screen_name:string>>>,extended_entities:struct<media:array<struct<additional_media_info:struct<call_to_actions:struct<visit_site:struct<url:string>>,description:string,embeddable:boolean,monetizable:boolean,source_user:struct<contributors_enabled:boolean,created_at:string,default_profile:boolean,default_profile_image:boolean,description:string,entities:struct<description:struct<urls:array<string>>,url:struct<urls:array<struct<display_url:string,expanded_url:string,indices:array<bigint>,url:string>>>>,favourites_count:bigint,follow_request_sent:boolean,followers_count:bigint,following:boolean,friends_count:bigint,geo_enabled:boolean,has_extended_profile:boolean,id:bigint,id_str:string,is_translation_enabled:boolean,is_translator:boolean,lang:string,listed_count:bigint,location:string,name:string,notifications:boolean,profile_background_color:string,profile_background_image_url:string,profile_background_image_url_https:string,profile_background_tile:boolean,profile_banner_url:string,profile_image_url:string,profile_image_url_https:string,profile_link_color:string,profile_sidebar_border_color:string,profile_sidebar_fill_color:string,profile_text_color:string,profile_use_background_image:boolean,protected:boolean,screen_name:string,statuses_count:bigint,time_zone:string,translator_type:string,url:string,utc_offset:string,verified:boolean>,title:string>,display_url:string,expanded_url:string,id:bigint,id_str:string,indices:array<bigint>,media_url:string,media_url_https:string,sizes:struct<large:struct<h:bigint,resize:string,w:bigint>,medium:struct<h:bigint,resize:string,w:bigint>,small:struct<h:bigint,resize:string,w:bigint>,thumb:struct<h:bigint,resize:string,w:bigint>>,source_status_id:bigint,source_status_id_str:string,source_user_id:bigint,source_user_id_str:string,type:string,url:string,video_info:struct<aspect_ratio:array<bigint>,duration_millis:bigint,variants:array<struct<bitrate:bigint,content_type:string,url:string>>>>>>,favorite_count:bigint,favorited:boolean,full_text:string,geo:string,id:bigint,id_str:string,in_reply_to_screen_name:string,in_reply_to_status_id:bigint,in_reply_to_status_id_str:string,in_reply_to_user_id:bigint,in_reply_to_user_id_str:string,is_quote_status:boolean,lang:string,place:struct<bounding_box:struct<coordinates:array<array<array<double>>>,type:string>,contained_within:array<string>,country:string,country_code:string,full_name:string,id:string,name:string,place_type:string,url:string>,possibly_sensitive:boolean,quoted_status_id:bigint,quoted_status_id_str:string,quoted_status_permalink:struct<display:string,expanded:string,url:string>,retweet_count:bigint,retweeted:boolean,source:string,truncated:boolean,user:struct<contributors_enabled:boolean,created_at:string,default_profile:boolean,default_profile_image:boolean,description:string,entities:struct<description:struct<urls:array<struct<display_url:string,expanded_url:string,indices:array<bigint>,url:string>>>,url:struct<urls:array<struct<display_url:string,expanded_url:string,indices:array<bigint>,url:string>>>>,favourites_count:bigint,follow_request_sent:boolean,followers_count:bigint,following:boolean,friends_count:bigint,geo_enabled:boolean,has_extended_profile:boolean,id:bigint,id_str:string,is_translation_enabled:boolean,is_translator:boolean,lang:string,listed_count:bigint,location:string,name:string,notifications:boolean,profile_background_color:string,profile_background_image_url:string,profile_background_image_url_https:string,profile_background_tile:boolean,profile_banner_url:string,profile_image_url:string,profile_image_url_https:string,profile_link_color:string,profile_sidebar_border_color:string,profile_sidebar_fill_color:string,profile_text_color:string,profile_use_background_image:boolean,protected:boolean,screen_name:string,statuses_count:bigint,time_zone:string,translator_type:string,url:string,utc_offset:string,verified:boolean,withheld_in_countries:array<string>>,withheld_in_countries:array<string>>,quoted_status_id:bigint,quoted_status_id_str:string,quoted_status_permalink:struct<display:string,expanded:string,url:string>,retweet_count:bigint,retweeted:boolean,scopes:struct<followers:boolean>,source:string,truncated:boolean,user:struct<contributors_enabled:boolean,created_at:string,default_profile:boolean,default_profile_image:boolean,description:string,entities:struct<description:struct<urls:array<struct<display_url:string,expanded_url:string,indices:array<bigint>,url:string>>>,url:struct<urls:array<struct<display_url:string,expanded_url:string,indices:array<bigint>,url:string>>>>,favourites_count:bigint,follow_request_sent:boolean,followers_count:bigint,following:boolean,friends_count:bigint,geo_enabled:boolean,has_extended_profile:boolean,id:bigint,id_str:string,is_translation_enabled:boolean,is_translator:boolean,lang:string,listed_count:bigint,location:string,name:string,notifications:boolean,profile_background_color:string,profile_background_image_url:string,profile_background_image_url_https:string,profile_background_tile:boolean,profile_banner_url:string,profile_image_url:string,profile_image_url_https:string,profile_link_color:string,profile_sidebar_border_color:string,profile_sidebar_fill_color:string,profile_text_color:string,profile_use_background_image:boolean,protected:boolean,screen_name:string,statuses_count:bigint,time_zone:string,translator_type:string,url:string,utc_offset:string,verified:boolean>>, source: string, truncated: boolean, user: struct<contributors_enabled:boolean,created_at:string,default_profile:boolean,default_profile_image:boolean,description:string,entities:struct<description:struct<urls:array<struct<display_url:string,expanded_url:string,indices:array<bigint>,url:string>>>,url:struct<urls:array<struct<display_url:string,expanded_url:string,indices:array<bigint>,url:string>>>>,favourites_count:bigint,follow_request_sent:boolean,followers_count:bigint,following:boolean,friends_count:bigint,geo_enabled:boolean,has_extended_profile:boolean,id:bigint,id_str:string,is_translation_enabled:boolean,is_translator:boolean,lang:string,listed_count:bigint,location:string,name:string,notifications:boolean,profile_background_color:string,profile_background_image_url:string,profile_background_image_url_https:string,profile_background_tile:boolean,profile_banner_url:string,profile_image_url:string,profile_image_url_https:string,profile_link_color:string,profile_sidebar_border_color:string,profile_sidebar_fill_color:string,profile_text_color:string,profile_use_background_image:boolean,protected:boolean,screen_name:string,statuses_count:bigint,time_zone:string,translator_type:string,url:string,utc_offset:string,verified:boolean>]"
      ]
     },
     "execution_count": 6,
     "metadata": {},
     "output_type": "execute_result"
    }
   ],
   "source": [
    "df.cache()"
   ]
  },
  {
   "cell_type": "markdown",
   "metadata": {},
   "source": [
    "# Select Fields"
   ]
  },
  {
   "cell_type": "code",
   "execution_count": 8,
   "metadata": {},
   "outputs": [
    {
     "name": "stdout",
     "output_type": "stream",
     "text": [
      "DROP DUPLICATE IDS\n",
      "CLEAN TIME\n",
      "CLEAN COORDINATES\n"
     ]
    }
   ],
   "source": [
    "df = df.select(\n",
    "'id_str',\n",
    "'created_at',\n",
    "'full_text',\n",
    "'lang',\n",
    "'user.id_str',\n",
    "'user.location',\n",
    "'coordinates.coordinates',\n",
    "'place.id',\n",
    ")\n",
    "\n",
    "df = df.toDF(*[\n",
    "'tweet_id',\n",
    "'created_at',\n",
    "'text',\n",
    "'tweet_lang',\n",
    "'user_id',\n",
    "'user_location',\n",
    "'tweet_coordinates',\n",
    "'place_id',\n",
    "])\n",
    "\n",
    "print(\"DROP DUPLICATE IDS\")\n",
    "df = df.drop_duplicates(subset=['tweet_id'])\n",
    "\n",
    "print(\"CLEAN TIME\")\n",
    "df = df.withColumn('created_at', to_timestamp('created_at',\"EEE MMM dd HH:mm:ss ZZZZZ yyyy\"))\n",
    "\n",
    "print('CLEAN COORDINATES')\n",
    "df = df.withColumn('tweet_longitude', F.col('tweet_coordinates').getItem(0))\n",
    "df = df.withColumn('tweet_latitude',  F.col('tweet_coordinates').getItem(1))\n",
    "df = df.drop('tweet_coordinates')"
   ]
  },
  {
   "cell_type": "code",
   "execution_count": 10,
   "metadata": {},
   "outputs": [
    {
     "name": "stdout",
     "output_type": "stream",
     "text": [
      "SAVE TO PARQUET\n",
      "DONE IN 15 SEC\n"
     ]
    }
   ],
   "source": [
    "print('SAVE TO PARQUET')\n",
    "start = timer()\n",
    "\n",
    "df.write.mode(\"overwrite\").parquet(os.path.join(path_to_data,'extract',country_name))\n",
    "\n",
    "end = timer()\n",
    "print('DONE IN', round(end - start), 'SEC')"
   ]
  }
 ],
 "metadata": {
  "kernelspec": {
   "display_name": "Python 3",
   "language": "python",
   "name": "python3"
  },
  "language_info": {
   "codemirror_mode": {
    "name": "ipython",
    "version": 3
   },
   "file_extension": ".py",
   "mimetype": "text/x-python",
   "name": "python",
   "nbconvert_exporter": "python",
   "pygments_lexer": "ipython3",
   "version": "3.7.4"
  }
 },
 "nbformat": 4,
 "nbformat_minor": 2
}
