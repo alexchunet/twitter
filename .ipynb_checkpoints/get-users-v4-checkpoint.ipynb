{
 "cells": [
  {
   "cell_type": "code",
   "execution_count": 1,
   "metadata": {},
   "outputs": [],
   "source": [
    "import sys\n",
    "import os\n",
    "import pandas as pd\n",
    "import multiprocessing as mp\n",
    "import reverse_geocoder as rg\n",
    "from iso3166 import countries"
   ]
  },
  {
   "cell_type": "code",
   "execution_count": 2,
   "metadata": {},
   "outputs": [
    {
     "name": "stdout",
     "output_type": "stream",
     "text": [
      "# Input Files: 12\n"
     ]
    }
   ],
   "source": [
    "version_tweets = 'v4'\n",
    "version_users  = 'v4'\n",
    "processes = 5\n",
    "\n",
    "path_to_tweets = '../data/decahose/parsed/tweets/tweets-'+version_tweets+'/'\n",
    "path_to_users  = '../data/decahose/parsed/users/'\n",
    "\n",
    "input_files = [x for x in os.listdir(path_to_tweets) if '.pkl' in x and 'tweets' in x]\n",
    "\n",
    "print('# Input Files:', len(input_files))"
   ]
  },
  {
   "cell_type": "code",
   "execution_count": 3,
   "metadata": {},
   "outputs": [],
   "source": [
    "def get_users(input_file):\n",
    "    \n",
    "    return pd.read_pickle(path_to_tweets+input_file,compression='xz').groupby(\n",
    "    'USER ID',as_index=False).agg({\n",
    "    'LAT':'sum',\n",
    "    'LON':'sum',\n",
    "    'USER LOCATION':'last',\n",
    "    'ID':'count'}).rename(\n",
    "    columns={'ID':'N'})"
   ]
  },
  {
   "cell_type": "code",
   "execution_count": 5,
   "metadata": {},
   "outputs": [
    {
     "name": "stdout",
     "output_type": "stream",
     "text": [
      "Get Users Locations from Geocoded Tweets...\n",
      "\n",
      "# Users: 173401\n"
     ]
    }
   ],
   "source": [
    "# %%time\n",
    "\n",
    "print('Get Users Locations from Geocoded Tweets...\\n')\n",
    "\n",
    "with mp.Pool(processes=processes) as pool:\n",
    "    \n",
    "    users = pd.concat(pool.map(get_users,input_files)).groupby(\n",
    "    'USER ID',as_index=False).agg({'LAT':'sum','LON':'sum','USER LOCATION':'last','N':'sum'})\n",
    "    \n",
    "users['LAT'] = users['LAT']/users['N']\n",
    "users['LON'] = users['LON']/users['N']\n",
    "del users['N']\n",
    "\n",
    "print('# Users:', users.shape[0])"
   ]
  },
  {
   "cell_type": "code",
   "execution_count": null,
   "metadata": {},
   "outputs": [],
   "source": [
    "# %%time\n",
    "print(\"Locations Information From Geocoordinates...\\n\")\n",
    "\n",
    "users = pd.concat([users,\n",
    "pd.DataFrame(rg.search(list(zip(list(users['LAT']),list(users['LON']))))).drop(['lat','lon'],1)],\n",
    "1,sort=False).rename(columns=lambda x:x.upper())\n",
    "\n",
    "users['COUNTRY'] = users['CC'].apply(lambda x:countries.get(x).name)"
   ]
  },
  {
   "cell_type": "code",
   "execution_count": 8,
   "metadata": {},
   "outputs": [
    {
     "name": "stdout",
     "output_type": "stream",
     "text": [
      "Save users locations...\n",
      "\n",
      "Done!\n"
     ]
    },
    {
     "ename": "SystemExit",
     "evalue": "0",
     "output_type": "error",
     "traceback": [
      "An exception has occurred, use %tb to see the full traceback.\n",
      "\u001b[0;31mSystemExit\u001b[0m\u001b[0;31m:\u001b[0m 0\n"
     ]
    },
    {
     "name": "stderr",
     "output_type": "stream",
     "text": [
      "/Users/samuel.fraiberger/anaconda3/lib/python3.6/site-packages/IPython/core/interactiveshell.py:3273: UserWarning: To exit: use 'exit', 'quit', or Ctrl-D.\n",
      "  warn(\"To exit: use 'exit', 'quit', or Ctrl-D.\", stacklevel=1)\n"
     ]
    }
   ],
   "source": [
    "print('Save users locations...\\n')\n",
    "# Users By Average Geolocation\n",
    "users.to_pickle(path_to_users+'users-'+version_users+'.pkl')\n",
    "print('Done!')\n",
    "sys.exit(0)"
   ]
  }
 ],
 "metadata": {
  "kernelspec": {
   "display_name": "Python 3",
   "language": "python",
   "name": "python3"
  },
  "language_info": {
   "codemirror_mode": {
    "name": "ipython",
    "version": 3
   },
   "file_extension": ".py",
   "mimetype": "text/x-python",
   "name": "python",
   "nbconvert_exporter": "python",
   "pygments_lexer": "ipython3",
   "version": "3.6.8"
  }
 },
 "nbformat": 4,
 "nbformat_minor": 2
}
