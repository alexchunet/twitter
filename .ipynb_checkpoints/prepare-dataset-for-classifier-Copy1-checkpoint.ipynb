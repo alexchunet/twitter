{
 "cells": [
  {
   "cell_type": "code",
   "execution_count": 28,
   "metadata": {},
   "outputs": [],
   "source": [
    "import pandas as pd\n",
    "import numpy as np\n",
    "from time import time"
   ]
  },
  {
   "cell_type": "code",
   "execution_count": 100,
   "metadata": {},
   "outputs": [
    {
     "name": "stdout",
     "output_type": "stream",
     "text": [
      "Version 1\n"
     ]
    }
   ],
   "source": [
    "version = 1\n",
    "print('Version', version)\n",
    "\n",
    "labels = [\n",
    "'EMPLOYED', \n",
    "'LOST', \n",
    "'FIRED', \n",
    "'QUIT', \n",
    "'UNEMPLOYED', \n",
    "'SEARCH',\n",
    "'OFFER', \n",
    "'HIRED', \n",
    "'AMBIGUOUS',\n",
    "]\n",
    "\n",
    "path_to_data = '../data/tmp/'"
   ]
  },
  {
   "cell_type": "code",
   "execution_count": 101,
   "metadata": {},
   "outputs": [
    {
     "name": "stdout",
     "output_type": "stream",
     "text": [
      "Import Tweets...\n",
      "\n",
      "Done in 102 sec\n"
     ]
    }
   ],
   "source": [
    "print('Import Tweets...\\n')\n",
    "start = time()\n",
    "tweets = pd.read_pickle(path_to_data+'sample-of-tweets-en.pkl',compression='xz')\n",
    "print('Done in',round(time()-start),'sec')"
   ]
  },
  {
   "cell_type": "code",
   "execution_count": 102,
   "metadata": {},
   "outputs": [
    {
     "data": {
      "text/html": [
       "<div>\n",
       "<style scoped>\n",
       "    .dataframe tbody tr th:only-of-type {\n",
       "        vertical-align: middle;\n",
       "    }\n",
       "\n",
       "    .dataframe tbody tr th {\n",
       "        vertical-align: top;\n",
       "    }\n",
       "\n",
       "    .dataframe thead th {\n",
       "        text-align: right;\n",
       "    }\n",
       "</style>\n",
       "<table border=\"1\" class=\"dataframe\">\n",
       "  <thead>\n",
       "    <tr style=\"text-align: right;\">\n",
       "      <th></th>\n",
       "      <th>TEXT</th>\n",
       "      <th>KEYWORD</th>\n",
       "    </tr>\n",
       "    <tr>\n",
       "      <th>ID</th>\n",
       "      <th></th>\n",
       "      <th></th>\n",
       "    </tr>\n",
       "  </thead>\n",
       "  <tbody>\n",
       "    <tr>\n",
       "      <th>78465110036856832</th>\n",
       "      <td>@Maria1110 it don't work tht way, Sean connery...</td>\n",
       "      <td>True</td>\n",
       "    </tr>\n",
       "    <tr>\n",
       "      <th>82998116663558144</th>\n",
       "      <td>Watching this old Kansas vs USC</td>\n",
       "      <td>False</td>\n",
       "    </tr>\n",
       "    <tr>\n",
       "      <th>78179360363913216</th>\n",
       "      <td>#punchyourself your 21 depending on your mom t...</td>\n",
       "      <td>True</td>\n",
       "    </tr>\n",
       "    <tr>\n",
       "      <th>80756638763585536</th>\n",
       "      <td>It's 11:00 already! I need to finish my tech h...</td>\n",
       "      <td>True</td>\n",
       "    </tr>\n",
       "    <tr>\n",
       "      <th>78370419614285825</th>\n",
       "      <td>@_Starrr_ nothing bored lol</td>\n",
       "      <td>False</td>\n",
       "    </tr>\n",
       "  </tbody>\n",
       "</table>\n",
       "</div>"
      ],
      "text/plain": [
       "                                                                TEXT  KEYWORD\n",
       "ID                                                                           \n",
       "78465110036856832  @Maria1110 it don't work tht way, Sean connery...     True\n",
       "82998116663558144                    Watching this old Kansas vs USC    False\n",
       "78179360363913216  #punchyourself your 21 depending on your mom t...     True\n",
       "80756638763585536  It's 11:00 already! I need to finish my tech h...     True\n",
       "78370419614285825                        @_Starrr_ nothing bored lol    False"
      ]
     },
     "execution_count": 102,
     "metadata": {},
     "output_type": "execute_result"
    }
   ],
   "source": [
    "tweets.head()"
   ]
  },
  {
   "cell_type": "code",
   "execution_count": 40,
   "metadata": {},
   "outputs": [
    {
     "name": "stdout",
     "output_type": "stream",
     "text": [
      "# Tweets: 18218\n",
      "# Negative Examples: 10002\n"
     ]
    }
   ],
   "source": [
    "negative_examples = pd.read_pickle(path_to_data+'sample-of-tweets-en.pkl',compression='xz')\n",
    "print('# Tweets:', negative_examples.shape[0])\n",
    "\n",
    "negative_examples = negative_examples.loc[-negative_examples['KEYWORD'],'TEXT'].copy()\n",
    "print('# Negative Examples:', data.shape[0])"
   ]
  },
  {
   "cell_type": "code",
   "execution_count": 41,
   "metadata": {},
   "outputs": [
    {
     "data": {
      "text/plain": [
       "ID\n",
       "82998116663558144                      Watching this old Kansas vs USC\n",
       "78370419614285825                          @_Starrr_ nothing bored lol\n",
       "78283937104936960         @jaydielouuu lol girl........where they went\n",
       "78093511680995329                      We kissed in grannys house. Lol\n",
       "82941791522914304    I hope lizzy isn't over there gettin #babyfeve...\n",
       "Name: TEXT, dtype: object"
      ]
     },
     "execution_count": 41,
     "metadata": {},
     "output_type": "execute_result"
    }
   ],
   "source": [
    "negative_examples.head()"
   ]
  },
  {
   "cell_type": "code",
   "execution_count": 63,
   "metadata": {},
   "outputs": [],
   "source": [
    "negative_examples = negative_examples.reset_index().rename(columns={'ID':'index','TEXT':'tweet'})"
   ]
  },
  {
   "cell_type": "code",
   "execution_count": 65,
   "metadata": {},
   "outputs": [],
   "source": [
    "cols = [\n",
    "# 'EMPLOYED', \n",
    "# 'JOB LOSS', \n",
    "'FIRED', \n",
    "# 'QUIT', \n",
    "# 'UNEMPLOYED', \n",
    "'JOB SEARCH',\n",
    "# 'JOB OFFER', \n",
    "# 'HIRED', \n",
    "# 'AMBIGUOUS',\n",
    "]\n",
    "\n",
    "labeled_examples = pd.read_excel(\n",
    "path_to_data+'label-tweets-containing-job-or-fired-v1.xlsx')[['TWEET']+cols]\n",
    "    \n",
    "labeled_examples[cols] = labeled_examples[cols].replace(np.nan,0).astype(int)\n",
    "labeled_examples = labeled_examples.rename(columns=lambda x:x.lower()).reset_index()"
   ]
  },
  {
   "cell_type": "code",
   "execution_count": 99,
   "metadata": {},
   "outputs": [],
   "source": [
    "cols = [\n",
    "# 'EMPLOYED', \n",
    "# 'JOB LOSS', \n",
    "'FIRED', \n",
    "# 'QUIT', \n",
    "# 'UNEMPLOYED', \n",
    "'JOB SEARCH',\n",
    "# 'JOB OFFER', \n",
    "# 'HIRED', \n",
    "# 'AMBIGUOUS',\n",
    "]\n",
    "\n",
    "data = pd.read_excel('../data/tmp/label-tweets-containing-job-or-fired-v1-FINISHED.xlsx')[['TWEET']+cols]\n",
    "    \n",
    "data[cols] = data[cols].replace(np.nan,0).astype(int)\n",
    "data = data.rename(columns=lambda x:x.lower()).reset_index()\n",
    "\n",
    "data.head(70).to_csv('../data/tmp/train.tsv',index=False,sep='\\t',header=False)\n",
    "data.tail(30).to_csv('../data/tmp/dev.tsv',index=False,sep='\\t',header=False)"
   ]
  },
  {
   "cell_type": "code",
   "execution_count": 71,
   "metadata": {},
   "outputs": [],
   "source": [
    "data = pd.concat([\n",
    "labeled_examples.head(100),\n",
    "negative_examples],sort=False).replace(np.nan,0)"
   ]
  },
  {
   "cell_type": "code",
   "execution_count": 72,
   "metadata": {},
   "outputs": [],
   "source": [
    "data.head(70).to_csv('../data/tmp/train.tsv',index=False,sep='\\t',header=False)\n",
    "data.tail(30).to_csv('../data/tmp/dev.tsv',index=False,sep='\\t',header=False)"
   ]
  },
  {
   "cell_type": "code",
   "execution_count": 74,
   "metadata": {},
   "outputs": [
    {
     "data": {
      "text/html": [
       "<div>\n",
       "<style scoped>\n",
       "    .dataframe tbody tr th:only-of-type {\n",
       "        vertical-align: middle;\n",
       "    }\n",
       "\n",
       "    .dataframe tbody tr th {\n",
       "        vertical-align: top;\n",
       "    }\n",
       "\n",
       "    .dataframe thead th {\n",
       "        text-align: right;\n",
       "    }\n",
       "</style>\n",
       "<table border=\"1\" class=\"dataframe\">\n",
       "  <thead>\n",
       "    <tr style=\"text-align: right;\">\n",
       "      <th></th>\n",
       "      <th>index</th>\n",
       "      <th>tweet</th>\n",
       "      <th>fired</th>\n",
       "      <th>job search</th>\n",
       "    </tr>\n",
       "  </thead>\n",
       "  <tbody>\n",
       "    <tr>\n",
       "      <th>9104</th>\n",
       "      <td>80709033371238401</td>\n",
       "      <td>@Constance_Durr : lol i'm not gone tell crazy ...</td>\n",
       "      <td>0.0</td>\n",
       "      <td>0.0</td>\n",
       "    </tr>\n",
       "    <tr>\n",
       "      <th>9105</th>\n",
       "      <td>78175208300756992</td>\n",
       "      <td>I'm at Bolivar Road Elementary (Bolivar Rd, Tu...</td>\n",
       "      <td>0.0</td>\n",
       "      <td>0.0</td>\n",
       "    </tr>\n",
       "    <tr>\n",
       "      <th>9106</th>\n",
       "      <td>78049076922421248</td>\n",
       "      <td>LMAO!!B you sha carry this thing for head o..l...</td>\n",
       "      <td>0.0</td>\n",
       "      <td>0.0</td>\n",
       "    </tr>\n",
       "    <tr>\n",
       "      <th>9107</th>\n",
       "      <td>83027631821430784</td>\n",
       "      <td>So glad I've been saving my money lately :-)</td>\n",
       "      <td>0.0</td>\n",
       "      <td>0.0</td>\n",
       "    </tr>\n",
       "    <tr>\n",
       "      <th>9108</th>\n",
       "      <td>78190060104724480</td>\n",
       "      <td>Great day of new connections and emergency foo...</td>\n",
       "      <td>0.0</td>\n",
       "      <td>0.0</td>\n",
       "    </tr>\n",
       "  </tbody>\n",
       "</table>\n",
       "</div>"
      ],
      "text/plain": [
       "                  index                                              tweet  \\\n",
       "9104  80709033371238401  @Constance_Durr : lol i'm not gone tell crazy ...   \n",
       "9105  78175208300756992  I'm at Bolivar Road Elementary (Bolivar Rd, Tu...   \n",
       "9106  78049076922421248  LMAO!!B you sha carry this thing for head o..l...   \n",
       "9107  83027631821430784       So glad I've been saving my money lately :-)   \n",
       "9108  78190060104724480  Great day of new connections and emergency foo...   \n",
       "\n",
       "      fired  job search  \n",
       "9104    0.0         0.0  \n",
       "9105    0.0         0.0  \n",
       "9106    0.0         0.0  \n",
       "9107    0.0         0.0  \n",
       "9108    0.0         0.0  "
      ]
     },
     "execution_count": 74,
     "metadata": {},
     "output_type": "execute_result"
    }
   ],
   "source": [
    "data.tail()"
   ]
  },
  {
   "cell_type": "code",
   "execution_count": null,
   "metadata": {},
   "outputs": [],
   "source": [
    "# all_tweets = all_tweets.apply(\n",
    "# lambda x:x.replace('#','')).apply(\n",
    "# lambda x:x.replace('@','')).apply(\n",
    "# lambda x:re.sub(r\"http\\S+\", \"\", x, flags=re.MULTILINE))"
   ]
  }
 ],
 "metadata": {
  "kernelspec": {
   "display_name": "Python 3",
   "language": "python",
   "name": "python3"
  },
  "language_info": {
   "codemirror_mode": {
    "name": "ipython",
    "version": 3
   },
   "file_extension": ".py",
   "mimetype": "text/x-python",
   "name": "python",
   "nbconvert_exporter": "python",
   "pygments_lexer": "ipython3",
   "version": "3.6.8"
  }
 },
 "nbformat": 4,
 "nbformat_minor": 2
}
