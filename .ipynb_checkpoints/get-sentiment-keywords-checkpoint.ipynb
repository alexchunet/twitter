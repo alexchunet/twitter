{
 "cells": [
  {
   "cell_type": "code",
   "execution_count": 64,
   "metadata": {},
   "outputs": [],
   "source": [
    "import pandas as pd\n",
    "from glob import glob\n",
    "import re"
   ]
  },
  {
   "cell_type": "code",
   "execution_count": 57,
   "metadata": {},
   "outputs": [],
   "source": [
    "path_to_keywords = '../data/keywords/hedonometer/'"
   ]
  },
  {
   "cell_type": "code",
   "execution_count": 65,
   "metadata": {},
   "outputs": [],
   "source": [
    "languages = set([x.split('/')[-1].split('-')[0] for x in glob(path_to_keywords+'*twitter*')])"
   ]
  },
  {
   "cell_type": "code",
   "execution_count": 67,
   "metadata": {},
   "outputs": [
    {
     "name": "stdout",
     "output_type": "stream",
     "text": [
      "korean\n",
      "german\n",
      "english\n",
      "french\n",
      "indonesian\n",
      "portuguese\n",
      "russian\n",
      "spanish\n"
     ]
    }
   ],
   "source": [
    "for language in languages:\n",
    "    print(language)\n",
    "    data = pd.concat([\n",
    "    pd.read_csv(path_to_keywords+language+'-twitter-words.txt',header=None,squeeze=True),\n",
    "    pd.read_csv(path_to_keywords+language+'-twitter-scores.txt',header=None,squeeze=True),\n",
    "    ],1,keys=['WORD','SCORE']).sort_values(by='SCORE',ascending=False).reset_index(drop=True)\n",
    "    data.to_csv(path_to_keywords+language+'-twitter.csv',index=False)"
   ]
  }
 ],
 "metadata": {
  "kernelspec": {
   "display_name": "Python 3",
   "language": "python",
   "name": "python3"
  },
  "language_info": {
   "codemirror_mode": {
    "name": "ipython",
    "version": 3
   },
   "file_extension": ".py",
   "mimetype": "text/x-python",
   "name": "python",
   "nbconvert_exporter": "python",
   "pygments_lexer": "ipython3",
   "version": "3.6.8"
  }
 },
 "nbformat": 4,
 "nbformat_minor": 2
}
