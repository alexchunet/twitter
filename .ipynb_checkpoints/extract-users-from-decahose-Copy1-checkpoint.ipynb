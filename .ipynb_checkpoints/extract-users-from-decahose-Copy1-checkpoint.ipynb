{
 "cells": [
  {
   "cell_type": "code",
   "execution_count": 1,
   "metadata": {},
   "outputs": [],
   "source": [
    "import re\n",
    "import os\n",
    "import sys\n",
    "import socket\n",
    "from glob import glob\n",
    "import numpy as np\n",
    "import lzma\n",
    "import ujson as json\n",
    "import pandas as pd\n",
    "from timeit import default_timer as timer"
   ]
  },
  {
   "cell_type": "code",
   "execution_count": 2,
   "metadata": {},
   "outputs": [
    {
     "name": "stdout",
     "output_type": "stream",
     "text": [
      "# Partitions: 13\n",
      "# Input File Parsed per Output File: 25\n",
      "Hostname: FAC38c9860d5a89\n",
      "Index Partition: 0\n"
     ]
    }
   ],
   "source": [
    "hostname2partition={\n",
    "# 'achtung02':0,\n",
    "'achtung03':0,\n",
    "'achtung04':1,\n",
    "'achtung05':2,\n",
    "'achtung06':3,\n",
    "'achtung07':4,\n",
    "'achtung08':5,\n",
    "# 'achtung09':0,\n",
    "'achtung10':6,\n",
    "'achtung11':7,\n",
    "'achtung12':8,\n",
    "'achtung13':9,\n",
    "'achtung14':10,\n",
    "'achtung15':11,\n",
    "'achtung16':12,\n",
    "# 'achtung17':0,\n",
    "}\n",
    "print('# Partitions:', len(hostname2partition))\n",
    "\n",
    "block_size = 25\n",
    "print('# Input File Parsed per Output File:', block_size)\n",
    "\n",
    "hostname = socket.gethostname()\n",
    "print('Hostname:', hostname)\n",
    "\n",
    "partition = hostname2partition.get(hostname,0)\n",
    "print('Index Partition:', partition)"
   ]
  },
  {
   "cell_type": "code",
   "execution_count": 3,
   "metadata": {},
   "outputs": [
    {
     "name": "stdout",
     "output_type": "stream",
     "text": [
      "# Input Files: 1\n",
      "First File: ../data/decahose/json/tweets.json.2016-12-23.xz\n",
      "Last File: ../data/decahose/json/tweets.json.2016-12-23.xz\n",
      "\n",
      "Partition List of Input Files:\n",
      "# Files: 1\n",
      "First File: ../data/decahose/json/tweets.json.2016-12-23.xz\n",
      "Last File: ../data/decahose/json/tweets.json.2016-12-23.xz\n"
     ]
    }
   ],
   "source": [
    "# Create Array of Input Files Until 2018\n",
    "def get_input_files(partition,year_min=2011,year_max=2018):\n",
    "    \n",
    "    # Tweets Stored on Cluster \n",
    "    if os.getcwd() == '/home/sfraiberger/py':\n",
    "        path_to_input_files  = '/net/twitter/gardenhose-data/json/'\n",
    "\n",
    "    # For testing\n",
    "    elif os.getcwd() == '/Users/samuel.fraiberger/Dropbox/Work/Projects/twitter/ipynb':\n",
    "        path_to_input_files  = '../data/decahose/json/'\n",
    "\n",
    "    else:\n",
    "        sys.exit('Incorrect working directory...exiting.')\n",
    "        \n",
    "    input_files = glob(path_to_input_files+'tweets.json.*.xz')\n",
    "    \n",
    "    input_files = [input_file for input_file in input_files \n",
    "                   if int(re.findall('(\\d+)-\\d+-\\d+',input_file)[0]) in range(year_min,year_max+1)]\n",
    "    \n",
    "    np.random.seed(0)\n",
    "    input_files = np.random.permutation(input_files)\n",
    "    \n",
    "    print('# Input Files:', len(input_files))\n",
    "    print('First File:', input_files[0])\n",
    "    print('Last File:', input_files[-1])\n",
    "    print()\n",
    "    \n",
    "    partitioned_files = np.array_split(input_files, len(hostname2partition))\n",
    "    input_files = partitioned_files[partition]\n",
    "    \n",
    "    print('Partition List of Input Files:')\n",
    "    print('# Files:', len(input_files))\n",
    "    print('First File:', input_files[0])\n",
    "    print('Last File:', input_files[-1])\n",
    "\n",
    "    return input_files\n",
    "\n",
    "input_files = get_input_files(partition)"
   ]
  },
  {
   "cell_type": "code",
   "execution_count": 4,
   "metadata": {},
   "outputs": [
    {
     "name": "stdout",
     "output_type": "stream",
     "text": [
      "Output Root:\n"
     ]
    },
    {
     "data": {
      "text/plain": [
       "'../data/decahose/parsed/users/users-from-decahose-partition-0'"
      ]
     },
     "execution_count": 4,
     "metadata": {},
     "output_type": "execute_result"
    }
   ],
   "source": [
    "# Create Path to Output File\n",
    "def get_output_root(partition):\n",
    "    \n",
    "    path_to_output_files = '../data/decahose/parsed/users/'\n",
    "    \n",
    "    os.makedirs(path_to_output_files, exist_ok=True)\n",
    "    \n",
    "    output_file = 'users-from-decahose-partition-'+str(partition)\n",
    "        \n",
    "    return path_to_output_files+output_file\n",
    "\n",
    "print('Output Root:')\n",
    "get_output_root(partition)"
   ]
  },
  {
   "cell_type": "code",
   "execution_count": 5,
   "metadata": {},
   "outputs": [],
   "source": [
    "# There Could Be Some Duplicated Rows\n",
    "def get_users_and_locations(input_file):\n",
    "    \n",
    "    tweets = []\n",
    "\n",
    "    with lzma.open(input_file,'rb') as f:\n",
    "\n",
    "        for line in f:\n",
    "\n",
    "            # Only Select Tweets With Account Location (Could Be in the Replies)\n",
    "            if b'\"location\":\"' in line:\n",
    "\n",
    "                # Json Parsing Can Fail\n",
    "                try:\n",
    "                    \n",
    "                    tweet = json.loads(line.decode(\"utf-8\"))\n",
    "                    \n",
    "                    tweets.append([\n",
    "                    tweet.get('user', {}).get('id_str',None), \n",
    "                    tweet.get('user', {}).get('location',None),\n",
    "                    ])\n",
    "\n",
    "                except:\n",
    "                    \n",
    "                    continue\n",
    "                \n",
    "    return pd.DataFrame(tweets,columns=['USER ID','USER LOCATION'])"
   ]
  },
  {
   "cell_type": "code",
   "execution_count": 6,
   "metadata": {},
   "outputs": [],
   "source": [
    "def main():\n",
    "\n",
    "    users = pd.DataFrame()\n",
    "\n",
    "    for i, input_file in enumerate(input_files):\n",
    "\n",
    "        start = timer()\n",
    "        print()\n",
    "        print('File', i)\n",
    "        print(input_file)\n",
    "        \n",
    "        # Create an output file every <size> file\n",
    "        output_file = get_output_root(partition)+'-block-'+str(i//block_size)+'.csv.bz2'\n",
    "        \n",
    "        if os.path.exists(output_file):\n",
    "            print('Output file', output_file, 'already exists.')\n",
    "            continue\n",
    "\n",
    "        users = pd.concat([users, get_users_and_locations(input_file)])\n",
    "        print('# Users Location:', users.shape[0])\n",
    "        \n",
    "        # If Next Index is Multiple of <size> or Reading Last File\n",
    "        if not (i+1)%block_size or i==len(input_files)-1:\n",
    "            \n",
    "            print('Save Output File:', output_file)\n",
    "            users.to_csv(output_file, sep=',', line_terminator='\\n')\n",
    "            \n",
    "            del users\n",
    "            users = pd.DataFrame()  \n",
    "\n",
    "        end = timer()\n",
    "        print('Computing Time:', round(end - start), 'Sec')\n",
    "\n",
    "    return 0"
   ]
  },
  {
   "cell_type": "code",
   "execution_count": 7,
   "metadata": {},
   "outputs": [
    {
     "name": "stdout",
     "output_type": "stream",
     "text": [
      "\n",
      "File 0\n",
      "../data/decahose/json/tweets.json.2016-12-23.xz\n",
      "# Users Location: 268413\n",
      "Save Output File: ../data/decahose/parsed/users/users-from-decahose-partition-0-block-0.csv.bz2\n",
      "Computing Time: 32 Sec\n",
      "\n",
      "Total Computing Time: 32 Sec\n"
     ]
    }
   ],
   "source": [
    "start = timer()\n",
    "\n",
    "if __name__ == \"__main__\":\n",
    "    main()\n",
    "    \n",
    "end = timer()\n",
    "print()\n",
    "print('Total Computing Time:', round(end - start), 'Sec')"
   ]
  },
  {
   "cell_type": "code",
   "execution_count": 8,
   "metadata": {},
   "outputs": [
    {
     "data": {
      "text/html": [
       "<div>\n",
       "<style scoped>\n",
       "    .dataframe tbody tr th:only-of-type {\n",
       "        vertical-align: middle;\n",
       "    }\n",
       "\n",
       "    .dataframe tbody tr th {\n",
       "        vertical-align: top;\n",
       "    }\n",
       "\n",
       "    .dataframe thead th {\n",
       "        text-align: right;\n",
       "    }\n",
       "</style>\n",
       "<table border=\"1\" class=\"dataframe\">\n",
       "  <thead>\n",
       "    <tr style=\"text-align: right;\">\n",
       "      <th></th>\n",
       "      <th>USER ID</th>\n",
       "      <th>USER LOCATION</th>\n",
       "    </tr>\n",
       "  </thead>\n",
       "  <tbody>\n",
       "    <tr>\n",
       "      <th>0</th>\n",
       "      <td>23192615</td>\n",
       "      <td>REDMATRIX</td>\n",
       "    </tr>\n",
       "    <tr>\n",
       "      <th>1</th>\n",
       "      <td>145086089</td>\n",
       "      <td>España</td>\n",
       "    </tr>\n",
       "    <tr>\n",
       "      <th>2</th>\n",
       "      <td>1385668339</td>\n",
       "      <td>Puerto Rico  [ U.S.A. ]</td>\n",
       "    </tr>\n",
       "    <tr>\n",
       "      <th>3</th>\n",
       "      <td>319184943</td>\n",
       "      <td>Africa W. The Lions</td>\n",
       "    </tr>\n",
       "    <tr>\n",
       "      <th>4</th>\n",
       "      <td>726907747493617665</td>\n",
       "      <td>Miami, FL</td>\n",
       "    </tr>\n",
       "  </tbody>\n",
       "</table>\n",
       "</div>"
      ],
      "text/plain": [
       "              USER ID            USER LOCATION\n",
       "0            23192615                REDMATRIX\n",
       "1           145086089                   España\n",
       "2          1385668339  Puerto Rico  [ U.S.A. ]\n",
       "3           319184943      Africa W. The Lions\n",
       "4  726907747493617665                Miami, FL"
      ]
     },
     "execution_count": 8,
     "metadata": {},
     "output_type": "execute_result"
    }
   ],
   "source": [
    "pd.read_csv(\n",
    "glob(get_output_root(partition)+'*'+'.csv.bz2')[0], \n",
    "index_col=0, \n",
    "sep=',', \n",
    "dtype=object, \n",
    "na_filter=False, \n",
    "lineterminator='\\n').head()"
   ]
  }
 ],
 "metadata": {
  "kernelspec": {
   "display_name": "Python 3",
   "language": "python",
   "name": "python3"
  },
  "language_info": {
   "codemirror_mode": {
    "name": "ipython",
    "version": 3
   },
   "file_extension": ".py",
   "mimetype": "text/x-python",
   "name": "python",
   "nbconvert_exporter": "python",
   "pygments_lexer": "ipython3",
   "version": "3.6.8"
  }
 },
 "nbformat": 4,
 "nbformat_minor": 2
}
