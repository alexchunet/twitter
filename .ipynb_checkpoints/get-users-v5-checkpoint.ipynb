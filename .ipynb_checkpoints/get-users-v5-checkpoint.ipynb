{
 "cells": [
  {
   "cell_type": "code",
   "execution_count": 1,
   "metadata": {},
   "outputs": [],
   "source": [
    "import os\n",
    "import pandas as pd\n",
    "from timeit import default_timer as timer"
   ]
  },
  {
   "cell_type": "code",
   "execution_count": 2,
   "metadata": {},
   "outputs": [
    {
     "name": "stdout",
     "output_type": "stream",
     "text": [
      "# Input Files: 1\n"
     ]
    }
   ],
   "source": [
    "version_tweets    = 'v5'\n",
    "version_locations = 'v4'\n",
    "version_users     = 'v5'\n",
    "\n",
    "path_to_tweets    = './data/decahose/parsed/tweets/tweets-'+version_tweets+'/'\n",
    "path_to_locations = './data/decahose/parsed/locations/'\n",
    "path_to_users     = './data/decahose/parsed/users/'\n",
    "\n",
    "locations = pd.read_pickle(path_to_locations+'locations-'+version_locations+'.pkl')\n",
    "\n",
    "input_files = [x for x in os.listdir(path_to_tweets) if '.pkl' in x and 'tweets' in x]\n",
    "print('# Input Files:', len(input_files))"
   ]
  },
  {
   "cell_type": "code",
   "execution_count": 3,
   "metadata": {},
   "outputs": [
    {
     "name": "stdout",
     "output_type": "stream",
     "text": [
      "EXTRACT DATA...\n",
      "\n",
      "\n",
      "tweets-from-decahose-year-2016-month-12-v5.pkl\n",
      "IMPORT:\n",
      "# USERS: 13532\n",
      "CONCATENATE:\n",
      "# USERS: 13532\n",
      "UNIQUIFY:\n",
      "# USERS: 13532\n",
      "Computing Time: 0 sec\n"
     ]
    }
   ],
   "source": [
    "print('EXTRACT DATA...\\n')\n",
    "\n",
    "def get_users(input_file):\n",
    "    \n",
    "    tweets = pd.read_pickle(path_to_tweets+input_file)[\n",
    "    ['USER LOCATION','USER ID']].reset_index(drop=True)\n",
    "    \n",
    "    tweets = pd.merge(\n",
    "    tweets,\n",
    "    locations.reset_index().rename(\n",
    "    columns={'level_0':'COUNTRY','level_1':'USER LOCATION'})[\n",
    "    ['COUNTRY','USER LOCATION']],\n",
    "    on='USER LOCATION')\n",
    "    \n",
    "    return tweets.groupby('COUNTRY')['USER ID'].apply(lambda x:list(set(x)))\n",
    "\n",
    "users = pd.Series(name='USER ID')\n",
    "users.index.name='COUNTRY'\n",
    "\n",
    "for input_file in input_files:\n",
    "    \n",
    "    print()\n",
    "    print(input_file)\n",
    "    \n",
    "    start = timer()\n",
    "    \n",
    "    print('IMPORT:')\n",
    "    users = pd.concat([users, get_users(input_file)])\n",
    "    print('# USERS:', users.apply(len).sum())\n",
    "    \n",
    "    print('CONCATENATE:')\n",
    "    users = users.groupby('COUNTRY').sum()\n",
    "    print('# USERS:', users.apply(len).sum())\n",
    "    \n",
    "    print('UNIQUIFY:')\n",
    "    users = users.apply(lambda x:sorted(set(x)))\n",
    "    print('# USERS:', users.apply(len).sum())\n",
    "    \n",
    "    end = timer()\n",
    "    print('Computing Time:', round(end - start), 'sec')"
   ]
  },
  {
   "cell_type": "code",
   "execution_count": 4,
   "metadata": {},
   "outputs": [
    {
     "name": "stdout",
     "output_type": "stream",
     "text": [
      "CONCATENATE...\n",
      "\n",
      "Computing Time: 0 sec\n"
     ]
    }
   ],
   "source": [
    "print('SAVE...\\n')\n",
    "start = timer()\n",
    "\n",
    "# Users By Account Locations Country\n",
    "users.to_pickle(path_to_users+'users-'+version_users+'.pkl')\n",
    "\n",
    "end = timer()\n",
    "print('Computing Time:', round(end - start), 'sec')"
   ]
  }
 ],
 "metadata": {
  "kernelspec": {
   "display_name": "Python 3",
   "language": "python",
   "name": "python3"
  },
  "language_info": {
   "codemirror_mode": {
    "name": "ipython",
    "version": 3
   },
   "file_extension": ".py",
   "mimetype": "text/x-python",
   "name": "python",
   "nbconvert_exporter": "python",
   "pygments_lexer": "ipython3",
   "version": "3.6.8"
  }
 },
 "nbformat": 4,
 "nbformat_minor": 2
}
