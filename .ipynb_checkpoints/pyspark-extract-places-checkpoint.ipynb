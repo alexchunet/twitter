{
 "cells": [
  {
   "cell_type": "code",
   "execution_count": 16,
   "metadata": {},
   "outputs": [],
   "source": [
    "import os\n",
    "import sys\n",
    "import socket\n",
    "from timeit import default_timer as timer\n",
    "from datetime import datetime\n",
    "\n",
    "from pyspark.sql import SparkSession\n",
    "from pyspark.sql.functions import udf, col, from_json\n",
    "import pyspark.sql.functions as F\n",
    "from pyspark.sql.types import MapType, StringType, IntegerType, StructType, StructField, FloatType, ArrayType"
   ]
  },
  {
   "cell_type": "code",
   "execution_count": 23,
   "metadata": {},
   "outputs": [
    {
     "name": "stdout",
     "output_type": "stream",
     "text": [
      "Running Time:\n"
     ]
    },
    {
     "data": {
      "text/plain": [
       "datetime.timedelta(0, 3526, 38000)"
      ]
     },
     "execution_count": 23,
     "metadata": {},
     "output_type": "execute_result"
    }
   ],
   "source": [
    "print('Running Time:')\n",
    "datetime.fromtimestamp(1564019038783/1000) - datetime.fromtimestamp(1564015512745/1000)"
   ]
  },
  {
   "cell_type": "markdown",
   "metadata": {},
   "source": [
    "# Config"
   ]
  },
  {
   "cell_type": "code",
   "execution_count": 2,
   "metadata": {},
   "outputs": [
    {
     "name": "stdout",
     "output_type": "stream",
     "text": [
      "Create Local SparkSession\n",
      "Hostname: FAC38c9860d5a89\n"
     ]
    }
   ],
   "source": [
    "try:\n",
    "    spark\n",
    "except NameError:\n",
    "    if socket.gethostname() == 'FAC38c9860d5a89':\n",
    "        print('Create Local SparkSession')\n",
    "        spark = SparkSession.builder.config(\n",
    "        \"spark.driver.host\", \"localhost\").appName(\n",
    "        \"get-users-by-account-location\").getOrCreate()\n",
    "    else:\n",
    "        print('Create Cluster SparkSession')\n",
    "        spark = SparkSession.builder.appName(\n",
    "        \"get-users-by-account-location\").getOrCreate()\n",
    "        \n",
    "# Local\n",
    "print('Hostname:', socket.gethostname())\n",
    "if socket.gethostname() == 'FAC38c9860d5a89':\n",
    "    path_to_tweets    = '../data/decahose/parsed/tweets/'\n",
    "    path_to_locations = '../data/decahose/parsed/locations/'\n",
    "# Cluster\n",
    "else:\n",
    "    path_to_tweets    = '/user/spf248/twitter/data/decahose/parsed/tweets/'\n",
    "    path_to_locations = '/user/spf248/twitter/data/decahose/parsed/locations/'"
   ]
  },
  {
   "cell_type": "markdown",
   "metadata": {},
   "source": [
    "# Load Data"
   ]
  },
  {
   "cell_type": "code",
   "execution_count": 3,
   "metadata": {},
   "outputs": [
    {
     "name": "stdout",
     "output_type": "stream",
     "text": [
      "Import:\n",
      "Computing Time: 6 sec\n"
     ]
    }
   ],
   "source": [
    "print('Import:')\n",
    "start = timer()\n",
    "\n",
    "tweets = spark.read.option('compression', 'bzip2').option(\n",
    "\"multiLine\", \"true\").option(\n",
    "\"encoding\", \"UTF-8\").option(\n",
    "\"mode\", \"PERMISSIVE\").json(\n",
    "path_to_tweets+'tweets-with-geocoordinates-or-place-from-decahose-partition-*-block-*.json.bz2')\n",
    "\n",
    "end = timer()\n",
    "print('Computing Time:', round(end - start), 'sec')"
   ]
  },
  {
   "cell_type": "code",
   "execution_count": null,
   "metadata": {},
   "outputs": [],
   "source": [
    "print('Repartition')\n",
    "tweets = tweets.repartition(500)"
   ]
  },
  {
   "cell_type": "markdown",
   "metadata": {},
   "source": [
    "# Select Fields"
   ]
  },
  {
   "cell_type": "code",
   "execution_count": 4,
   "metadata": {},
   "outputs": [],
   "source": [
    "def flatten(schema, prefix=None):\n",
    "    fields = []\n",
    "    for field in schema.fields:\n",
    "        name = prefix + '.' + field.name if prefix else field.name\n",
    "        dtype = field.dataType\n",
    "        if isinstance(dtype, ArrayType):\n",
    "            dtype = dtype.elementType\n",
    "\n",
    "        if isinstance(dtype, StructType):\n",
    "            fields += flatten(dtype, prefix=name)\n",
    "        else:\n",
    "            fields.append(name)\n",
    "\n",
    "    return fields"
   ]
  },
  {
   "cell_type": "code",
   "execution_count": 5,
   "metadata": {},
   "outputs": [],
   "source": [
    "tweets = tweets.select('place')\n",
    "\n",
    "# Drop Place Values That Are Null\n",
    "tweets = tweets.where(col(\"place\").isNotNull())\n",
    "\n",
    "# Flatten Nested Structure\n",
    "tweets = tweets.select(flatten(tweets.schema))"
   ]
  },
  {
   "cell_type": "code",
   "execution_count": 6,
   "metadata": {},
   "outputs": [
    {
     "name": "stdout",
     "output_type": "stream",
     "text": [
      "root\n",
      " |-- coordinates: array (nullable = true)\n",
      " |    |-- element: array (containsNull = true)\n",
      " |    |    |-- element: array (containsNull = true)\n",
      " |    |    |    |-- element: double (containsNull = true)\n",
      " |-- type: string (nullable = true)\n",
      " |-- country: string (nullable = true)\n",
      " |-- country_code: string (nullable = true)\n",
      " |-- full_name: string (nullable = true)\n",
      " |-- id: string (nullable = true)\n",
      " |-- name: string (nullable = true)\n",
      " |-- place_type: string (nullable = true)\n",
      " |-- url: string (nullable = true)\n",
      "\n",
      "Schema: None\n"
     ]
    }
   ],
   "source": [
    "print(\"Schema:\", tweets.printSchema())"
   ]
  },
  {
   "cell_type": "code",
   "execution_count": 7,
   "metadata": {},
   "outputs": [
    {
     "name": "stdout",
     "output_type": "stream",
     "text": [
      "GROUPBY ID\n"
     ]
    }
   ],
   "source": [
    "print('GROUPBY ID')\n",
    "\n",
    "tweets = tweets.groupBy(tweets['id']).agg(\n",
    "F.first(tweets['coordinates']).alias('coordinates'), \n",
    "F.first(tweets['type']).alias('type'),\n",
    "F.first(tweets['country']).alias('country'),\n",
    "F.first(tweets['country_code']).alias('country_code'),\n",
    "F.first(tweets['full_name']).alias('full_name'),\n",
    "F.first(tweets['name']).alias('name'),\n",
    "F.first(tweets['place_type']).alias('place_type'),\n",
    "F.first(tweets['url']).alias('url'),\n",
    "F.count(tweets['id']).alias('n_obs'),\n",
    ")"
   ]
  },
  {
   "cell_type": "code",
   "execution_count": 7,
   "metadata": {},
   "outputs": [
    {
     "name": "stdout",
     "output_type": "stream",
     "text": [
      "Save\n",
      "Computing Time: 10 sec\n"
     ]
    }
   ],
   "source": [
    "print('Save')\n",
    "start = timer()\n",
    "\n",
    "tweets.write.mode(\"overwrite\").parquet(path_to_locations+'places.parquet')\n",
    "\n",
    "end = timer()\n",
    "print('Computing Time:', round(end - start), 'sec')"
   ]
  },
  {
   "cell_type": "code",
   "execution_count": null,
   "metadata": {},
   "outputs": [],
   "source": [
    "print('Done!')\n",
    "os._exit(1)"
   ]
  },
  {
   "cell_type": "markdown",
   "metadata": {},
   "source": [
    "# Comparison With Pandas"
   ]
  },
  {
   "cell_type": "code",
   "execution_count": 8,
   "metadata": {},
   "outputs": [],
   "source": [
    "import pandas as pd"
   ]
  },
  {
   "cell_type": "code",
   "execution_count": 9,
   "metadata": {},
   "outputs": [],
   "source": [
    "ds = tweets.toPandas()\n",
    "ds = ds.sort_values(by='id').reset_index(drop=True)"
   ]
  },
  {
   "cell_type": "code",
   "execution_count": 12,
   "metadata": {},
   "outputs": [],
   "source": [
    "path = '../data/decahose/parsed/tweets/tweets-with-geocoordinates-or-place-from-decahose-partition-0-block-0.json.bz2'\n",
    "\n",
    "dp = pd.read_json(\n",
    "path,\n",
    "orient='records',\n",
    "dtype=False,\n",
    "precise_float=True,\n",
    "convert_dates=False)\n",
    "\n",
    "dp = pd.DataFrame(list(dp['place'].dropna()))\n",
    "\n",
    "dp = pd.concat([\n",
    "dp[[\n",
    "# 'attributes', # empty\n",
    "'country', \n",
    "'country_code', \n",
    "'full_name',\n",
    "'name', \n",
    "'place_type', \n",
    "'id', \n",
    "'url',\n",
    "# 'bounding_box', \n",
    "]],\n",
    "pd.DataFrame(list(dp['bounding_box']))],1).copy()\n",
    "\n",
    "dp['n_obs'] = 1\n",
    "\n",
    "dp=dp.groupby('id',as_index=False).agg(\n",
    "{'country':'first',\n",
    "'country_code':'first',\n",
    "'full_name':'first',\n",
    "'name':'first',\n",
    "'place_type':'first',\n",
    "'url':'first',\n",
    "'coordinates':'first',\n",
    "'type':'first',\n",
    "'n_obs':'sum',\n",
    "})"
   ]
  },
  {
   "cell_type": "code",
   "execution_count": 13,
   "metadata": {},
   "outputs": [
    {
     "data": {
      "text/html": [
       "<div>\n",
       "<style scoped>\n",
       "    .dataframe tbody tr th:only-of-type {\n",
       "        vertical-align: middle;\n",
       "    }\n",
       "\n",
       "    .dataframe tbody tr th {\n",
       "        vertical-align: top;\n",
       "    }\n",
       "\n",
       "    .dataframe thead th {\n",
       "        text-align: right;\n",
       "    }\n",
       "</style>\n",
       "<table border=\"1\" class=\"dataframe\">\n",
       "  <thead>\n",
       "    <tr style=\"text-align: right;\">\n",
       "      <th></th>\n",
       "      <th>id</th>\n",
       "      <th>coordinates</th>\n",
       "      <th>type</th>\n",
       "      <th>country</th>\n",
       "      <th>country_code</th>\n",
       "      <th>full_name</th>\n",
       "      <th>name</th>\n",
       "      <th>place_type</th>\n",
       "      <th>url</th>\n",
       "      <th>n_obs</th>\n",
       "    </tr>\n",
       "  </thead>\n",
       "  <tbody>\n",
       "    <tr>\n",
       "      <th>0</th>\n",
       "      <td>0000321b41466bc8</td>\n",
       "      <td>[[[-71.381728, 41.914734], [-71.381728, 42.014...</td>\n",
       "      <td>Polygon</td>\n",
       "      <td>United States</td>\n",
       "      <td>US</td>\n",
       "      <td>North Attleboro, MA</td>\n",
       "      <td>North Attleboro</td>\n",
       "      <td>city</td>\n",
       "      <td>https://api.twitter.com/1.1/geo/id/0000321b414...</td>\n",
       "      <td>2</td>\n",
       "    </tr>\n",
       "    <tr>\n",
       "      <th>1</th>\n",
       "      <td>0000940e4aa6e56a</td>\n",
       "      <td>[[[47.985426, 29.264009], [47.985426, 29.28541...</td>\n",
       "      <td>Polygon</td>\n",
       "      <td>دولة الكويت</td>\n",
       "      <td>KW</td>\n",
       "      <td>زهراء, دولة الكويت</td>\n",
       "      <td>زهراء</td>\n",
       "      <td>city</td>\n",
       "      <td>https://api.twitter.com/1.1/geo/id/0000940e4aa...</td>\n",
       "      <td>2</td>\n",
       "    </tr>\n",
       "    <tr>\n",
       "      <th>2</th>\n",
       "      <td>0000ffd41ff0eaac</td>\n",
       "      <td>[[[-75.990759, 4.63867], [-75.990759, 4.885687...</td>\n",
       "      <td>Polygon</td>\n",
       "      <td>Colombia</td>\n",
       "      <td>CO</td>\n",
       "      <td>Pereira, Colombia</td>\n",
       "      <td>Pereira</td>\n",
       "      <td>city</td>\n",
       "      <td>https://api.twitter.com/1.1/geo/id/0000ffd41ff...</td>\n",
       "      <td>1</td>\n",
       "    </tr>\n",
       "    <tr>\n",
       "      <th>3</th>\n",
       "      <td>0001ed7e605ce519</td>\n",
       "      <td>[[[-122.214616, 47.147327], [-122.214616, 47.2...</td>\n",
       "      <td>Polygon</td>\n",
       "      <td>United States</td>\n",
       "      <td>US</td>\n",
       "      <td>Bonney Lake, WA</td>\n",
       "      <td>Bonney Lake</td>\n",
       "      <td>city</td>\n",
       "      <td>https://api.twitter.com/1.1/geo/id/0001ed7e605...</td>\n",
       "      <td>3</td>\n",
       "    </tr>\n",
       "    <tr>\n",
       "      <th>4</th>\n",
       "      <td>00028e77378d6f71</td>\n",
       "      <td>[[[48.061341, 29.267485], [48.061341, 29.30934...</td>\n",
       "      <td>Polygon</td>\n",
       "      <td>Kuwait</td>\n",
       "      <td>KW</td>\n",
       "      <td>Salwa, Kuwait</td>\n",
       "      <td>Salwa</td>\n",
       "      <td>city</td>\n",
       "      <td>https://api.twitter.com/1.1/geo/id/00028e77378...</td>\n",
       "      <td>1</td>\n",
       "    </tr>\n",
       "  </tbody>\n",
       "</table>\n",
       "</div>"
      ],
      "text/plain": [
       "                 id                                        coordinates  \\\n",
       "0  0000321b41466bc8  [[[-71.381728, 41.914734], [-71.381728, 42.014...   \n",
       "1  0000940e4aa6e56a  [[[47.985426, 29.264009], [47.985426, 29.28541...   \n",
       "2  0000ffd41ff0eaac  [[[-75.990759, 4.63867], [-75.990759, 4.885687...   \n",
       "3  0001ed7e605ce519  [[[-122.214616, 47.147327], [-122.214616, 47.2...   \n",
       "4  00028e77378d6f71  [[[48.061341, 29.267485], [48.061341, 29.30934...   \n",
       "\n",
       "      type        country country_code            full_name             name  \\\n",
       "0  Polygon  United States           US  North Attleboro, MA  North Attleboro   \n",
       "1  Polygon    دولة الكويت           KW   زهراء, دولة الكويت            زهراء   \n",
       "2  Polygon       Colombia           CO    Pereira, Colombia          Pereira   \n",
       "3  Polygon  United States           US      Bonney Lake, WA      Bonney Lake   \n",
       "4  Polygon         Kuwait           KW        Salwa, Kuwait            Salwa   \n",
       "\n",
       "  place_type                                                url  n_obs  \n",
       "0       city  https://api.twitter.com/1.1/geo/id/0000321b414...      2  \n",
       "1       city  https://api.twitter.com/1.1/geo/id/0000940e4aa...      2  \n",
       "2       city  https://api.twitter.com/1.1/geo/id/0000ffd41ff...      1  \n",
       "3       city  https://api.twitter.com/1.1/geo/id/0001ed7e605...      3  \n",
       "4       city  https://api.twitter.com/1.1/geo/id/00028e77378...      1  "
      ]
     },
     "execution_count": 13,
     "metadata": {},
     "output_type": "execute_result"
    }
   ],
   "source": [
    "ds.head()"
   ]
  },
  {
   "cell_type": "code",
   "execution_count": 14,
   "metadata": {},
   "outputs": [
    {
     "data": {
      "text/html": [
       "<div>\n",
       "<style scoped>\n",
       "    .dataframe tbody tr th:only-of-type {\n",
       "        vertical-align: middle;\n",
       "    }\n",
       "\n",
       "    .dataframe tbody tr th {\n",
       "        vertical-align: top;\n",
       "    }\n",
       "\n",
       "    .dataframe thead th {\n",
       "        text-align: right;\n",
       "    }\n",
       "</style>\n",
       "<table border=\"1\" class=\"dataframe\">\n",
       "  <thead>\n",
       "    <tr style=\"text-align: right;\">\n",
       "      <th></th>\n",
       "      <th>id</th>\n",
       "      <th>country</th>\n",
       "      <th>country_code</th>\n",
       "      <th>full_name</th>\n",
       "      <th>name</th>\n",
       "      <th>place_type</th>\n",
       "      <th>url</th>\n",
       "      <th>coordinates</th>\n",
       "      <th>type</th>\n",
       "      <th>n_obs</th>\n",
       "    </tr>\n",
       "  </thead>\n",
       "  <tbody>\n",
       "    <tr>\n",
       "      <th>0</th>\n",
       "      <td>0000321b41466bc8</td>\n",
       "      <td>United States</td>\n",
       "      <td>US</td>\n",
       "      <td>North Attleboro, MA</td>\n",
       "      <td>North Attleboro</td>\n",
       "      <td>city</td>\n",
       "      <td>https://api.twitter.com/1.1/geo/id/0000321b414...</td>\n",
       "      <td>[[[-71.381728, 41.914734], [-71.381728, 42.014...</td>\n",
       "      <td>Polygon</td>\n",
       "      <td>2</td>\n",
       "    </tr>\n",
       "    <tr>\n",
       "      <th>1</th>\n",
       "      <td>0000940e4aa6e56a</td>\n",
       "      <td>دولة الكويت</td>\n",
       "      <td>KW</td>\n",
       "      <td>زهراء, دولة الكويت</td>\n",
       "      <td>زهراء</td>\n",
       "      <td>city</td>\n",
       "      <td>https://api.twitter.com/1.1/geo/id/0000940e4aa...</td>\n",
       "      <td>[[[47.985426, 29.264009], [47.985426, 29.28541...</td>\n",
       "      <td>Polygon</td>\n",
       "      <td>2</td>\n",
       "    </tr>\n",
       "    <tr>\n",
       "      <th>2</th>\n",
       "      <td>0000ffd41ff0eaac</td>\n",
       "      <td>Colombia</td>\n",
       "      <td>CO</td>\n",
       "      <td>Pereira, Colombia</td>\n",
       "      <td>Pereira</td>\n",
       "      <td>city</td>\n",
       "      <td>https://api.twitter.com/1.1/geo/id/0000ffd41ff...</td>\n",
       "      <td>[[[-75.990759, 4.63867], [-75.990759, 4.885687...</td>\n",
       "      <td>Polygon</td>\n",
       "      <td>1</td>\n",
       "    </tr>\n",
       "    <tr>\n",
       "      <th>3</th>\n",
       "      <td>0001ed7e605ce519</td>\n",
       "      <td>United States</td>\n",
       "      <td>US</td>\n",
       "      <td>Bonney Lake, WA</td>\n",
       "      <td>Bonney Lake</td>\n",
       "      <td>city</td>\n",
       "      <td>https://api.twitter.com/1.1/geo/id/0001ed7e605...</td>\n",
       "      <td>[[[-122.214616, 47.147327], [-122.214616, 47.2...</td>\n",
       "      <td>Polygon</td>\n",
       "      <td>3</td>\n",
       "    </tr>\n",
       "    <tr>\n",
       "      <th>4</th>\n",
       "      <td>00028e77378d6f71</td>\n",
       "      <td>Kuwait</td>\n",
       "      <td>KW</td>\n",
       "      <td>Salwa, Kuwait</td>\n",
       "      <td>Salwa</td>\n",
       "      <td>city</td>\n",
       "      <td>https://api.twitter.com/1.1/geo/id/00028e77378...</td>\n",
       "      <td>[[[48.061341, 29.267485], [48.061341, 29.30934...</td>\n",
       "      <td>Polygon</td>\n",
       "      <td>1</td>\n",
       "    </tr>\n",
       "  </tbody>\n",
       "</table>\n",
       "</div>"
      ],
      "text/plain": [
       "                 id        country country_code            full_name  \\\n",
       "0  0000321b41466bc8  United States           US  North Attleboro, MA   \n",
       "1  0000940e4aa6e56a    دولة الكويت           KW   زهراء, دولة الكويت   \n",
       "2  0000ffd41ff0eaac       Colombia           CO    Pereira, Colombia   \n",
       "3  0001ed7e605ce519  United States           US      Bonney Lake, WA   \n",
       "4  00028e77378d6f71         Kuwait           KW        Salwa, Kuwait   \n",
       "\n",
       "              name place_type  \\\n",
       "0  North Attleboro       city   \n",
       "1            زهراء       city   \n",
       "2          Pereira       city   \n",
       "3      Bonney Lake       city   \n",
       "4            Salwa       city   \n",
       "\n",
       "                                                 url  \\\n",
       "0  https://api.twitter.com/1.1/geo/id/0000321b414...   \n",
       "1  https://api.twitter.com/1.1/geo/id/0000940e4aa...   \n",
       "2  https://api.twitter.com/1.1/geo/id/0000ffd41ff...   \n",
       "3  https://api.twitter.com/1.1/geo/id/0001ed7e605...   \n",
       "4  https://api.twitter.com/1.1/geo/id/00028e77378...   \n",
       "\n",
       "                                         coordinates     type  n_obs  \n",
       "0  [[[-71.381728, 41.914734], [-71.381728, 42.014...  Polygon      2  \n",
       "1  [[[47.985426, 29.264009], [47.985426, 29.28541...  Polygon      2  \n",
       "2  [[[-75.990759, 4.63867], [-75.990759, 4.885687...  Polygon      1  \n",
       "3  [[[-122.214616, 47.147327], [-122.214616, 47.2...  Polygon      3  \n",
       "4  [[[48.061341, 29.267485], [48.061341, 29.30934...  Polygon      1  "
      ]
     },
     "execution_count": 14,
     "metadata": {},
     "output_type": "execute_result"
    }
   ],
   "source": [
    "dp.head()"
   ]
  },
  {
   "cell_type": "code",
   "execution_count": 15,
   "metadata": {},
   "outputs": [
    {
     "name": "stdout",
     "output_type": "stream",
     "text": [
      "Check Differences Per Column:\n",
      "Column id -> value differences: 0\n",
      "Column country -> value differences: 0\n",
      "Column country_code -> value differences: 0\n",
      "Column full_name -> value differences: 0\n",
      "Column name -> value differences: 0\n",
      "Column place_type -> value differences: 0\n",
      "Column url -> value differences: 0\n",
      "Column coordinates -> value differences: 0\n",
      "Column type -> value differences: 0\n",
      "Column n_obs -> value differences: 0\n"
     ]
    }
   ],
   "source": [
    "print('Check Differences Per Column:')\n",
    "for col in dp.columns:\n",
    "    print('Column', col, '-> value differences:', (ds[col].astype(str)!=dp[col].astype(str)).sum())"
   ]
  },
  {
   "cell_type": "code",
   "execution_count": null,
   "metadata": {},
   "outputs": [],
   "source": []
  }
 ],
 "metadata": {
  "kernelspec": {
   "display_name": "Python 3",
   "language": "python",
   "name": "python3"
  },
  "language_info": {
   "codemirror_mode": {
    "name": "ipython",
    "version": 3
   },
   "file_extension": ".py",
   "mimetype": "text/x-python",
   "name": "python",
   "nbconvert_exporter": "python",
   "pygments_lexer": "ipython3",
   "version": "3.6.7"
  }
 },
 "nbformat": 4,
 "nbformat_minor": 2
}
