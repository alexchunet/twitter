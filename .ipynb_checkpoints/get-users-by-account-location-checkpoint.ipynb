{
 "cells": [
  {
   "cell_type": "code",
   "execution_count": 1,
   "metadata": {},
   "outputs": [],
   "source": [
    "from glob import glob\n",
    "import pandas as pd\n",
    "import numpy as np\n",
    "from timeit import default_timer as timer\n",
    "from itertools import chain"
   ]
  },
  {
   "cell_type": "code",
   "execution_count": 2,
   "metadata": {},
   "outputs": [],
   "source": [
    "def groupby_apply(df, func, sort=True):\n",
    "    \n",
    "    # Groupby name_key then apply func on the values in name_value\n",
    "    # Speed up pandas groupby a fractor of 10 ;)\n",
    "    \n",
    "    # Input a dataframe with columns [name_key, name_value]\n",
    "    name_key, name_value = df.columns\n",
    "    \n",
    "    if sort:\n",
    "        keys, values = df.sort_values(by=name_key).values.T\n",
    "    else:\n",
    "        keys, values = df.values.T\n",
    "        \n",
    "    # Extract Unique Keys And Index Of Transitions\n",
    "    unique_keys, index = np.unique(keys, True)\n",
    "    \n",
    "    # Split Values According to Transitions\n",
    "    arrays = np.split(values, index[1:])\n",
    "    \n",
    "    # Apply func to each array of values corresponding to a given key\n",
    "    return pd.Series([func(a) for a in arrays], name=name_value, index=pd.Index(unique_keys,name=name_key))"
   ]
  },
  {
   "cell_type": "code",
   "execution_count": 3,
   "metadata": {},
   "outputs": [],
   "source": [
    "path_to_data = '../data/decahose/parsed/'"
   ]
  },
  {
   "cell_type": "code",
   "execution_count": 4,
   "metadata": {},
   "outputs": [
    {
     "name": "stdout",
     "output_type": "stream",
     "text": [
      "# Input Files: 2\n"
     ]
    }
   ],
   "source": [
    "input_files = glob(path_to_data+'users/user-id-and-location-from-decahose*')\n",
    "print('# Input Files:', len(input_files))"
   ]
  },
  {
   "cell_type": "code",
   "execution_count": 5,
   "metadata": {},
   "outputs": [
    {
     "name": "stdout",
     "output_type": "stream",
     "text": [
      "# Account Locations: 39779\n",
      "First 10:\n",
      "Indonesia, London, Brasil, Jakarta, Philippines, İstanbul, istanbul, indonesia, Argentina, Bandung\n"
     ]
    }
   ],
   "source": [
    "account_locations = pd.read_pickle(\n",
    "path_to_data+'locations/account-locations-identified.pkl')['LOCATION'].tolist()\n",
    "print('# Account Locations:', len(account_locations))\n",
    "print('First 10:')\n",
    "print(', '.join(account_locations[:10]))"
   ]
  },
  {
   "cell_type": "code",
   "execution_count": 6,
   "metadata": {},
   "outputs": [],
   "source": [
    "def get_users_by_account_location(input_file):\n",
    "    \n",
    "    # Import\n",
    "    data = pd.read_pickle(input_file,compression='xz')\n",
    "    \n",
    "    # Select Users With Identified Account Location\n",
    "    data = data[data['USER LOCATION'].isin(account_locations)].copy()\n",
    "    \n",
    "    # Sort Before Grouping\n",
    "    data.sort_values(by='USER LOCATION',inplace=True)\n",
    "\n",
    "    # Group By Account Location\n",
    "    return groupby_apply(data[['USER LOCATION','USER ID']],lambda x:set(x),sort=False)"
   ]
  },
  {
   "cell_type": "code",
   "execution_count": 7,
   "metadata": {},
   "outputs": [],
   "source": [
    "def main():\n",
    "\n",
    "    for i,input_file in enumerate(sorted(input_files)):\n",
    "        \n",
    "        start = timer()\n",
    "\n",
    "        print()\n",
    "        print('File:', i, input_file)\n",
    "\n",
    "        if not i:\n",
    "\n",
    "            all_locations = get_users_by_account_location(input_file)\n",
    "\n",
    "        else:\n",
    "\n",
    "            all_locations = pd.concat([all_locations, \n",
    "            get_users_by_account_location(input_file)]).sort_index().reset_index()\n",
    "\n",
    "            print('# All Locations after Concatenation:', all_locations.shape[0])\n",
    "\n",
    "            all_locations = groupby_apply(all_locations, lambda x:set(chain.from_iterable(x)),sort=False)\n",
    "\n",
    "            print('# All Locations after Reduction:', all_locations.shape[0])\n",
    "\n",
    "        print('# All Locations:', all_locations.shape[0])\n",
    "        \n",
    "        print(\"Done in\", round(timer()-start), \"sec\")\n",
    "    \n",
    "    print('Save:')\n",
    "    start = timer()\n",
    "    \n",
    "    all_locations.to_pickle(path_to_data+'users/users-by-account-location.pkl.xz',compression='xz')\n",
    "    \n",
    "    print(\"Done in\", round(timer()-start), \"sec\")\n",
    "\n",
    "    return 0"
   ]
  },
  {
   "cell_type": "code",
   "execution_count": 8,
   "metadata": {},
   "outputs": [
    {
     "name": "stdout",
     "output_type": "stream",
     "text": [
      "Concatenate Files...\n",
      "\n",
      "File: 0 ../data/decahose/parsed/users/users-from-decahose-partition-0-block-0.pkl.xz\n",
      "# All Locations: 13972\n",
      "Done in 1 sec\n",
      "\n",
      "File: 1 ../data/decahose/parsed/users/users-from-decahose-partition-0-block-1.pkl.xz\n",
      "# All Locations after Concatenation: 27944\n",
      "# All Locations after Reduction: 13972\n",
      "# All Locations: 13972\n",
      "Done in 1 sec\n",
      "Save:\n",
      "Done in 1 sec\n",
      "\n",
      "Total Computing Time: 3 Sec\n"
     ]
    }
   ],
   "source": [
    "print(\"Concatenate Files...\")\n",
    "start = timer()\n",
    "\n",
    "if __name__ == \"__main__\":\n",
    "    main()\n",
    "    \n",
    "end = timer()\n",
    "print()\n",
    "print('Total Computing Time:', round(end - start), 'Sec')"
   ]
  },
  {
   "cell_type": "code",
   "execution_count": 9,
   "metadata": {},
   "outputs": [
    {
     "data": {
      "text/plain": [
       "USER LOCATION\n",
       " Argentina    {2174749663, 777320118133153792, 467394687, 16...\n",
       " Australia                      {37227993, 235161650, 78787098}\n",
       " Brasil       {766491773644439552, 3013048749, 7902763772578...\n",
       " Brasil                                             {320400603}\n",
       " Brazil                                              {58787130}\n",
       "Name: USER ID, dtype: object"
      ]
     },
     "execution_count": 9,
     "metadata": {},
     "output_type": "execute_result"
    }
   ],
   "source": [
    "pd.read_pickle(path_to_data+'users/users-by-account-location.pkl.xz',compression='xz').head()"
   ]
  }
 ],
 "metadata": {
  "kernelspec": {
   "display_name": "Python 3",
   "language": "python",
   "name": "python3"
  },
  "language_info": {
   "codemirror_mode": {
    "name": "ipython",
    "version": 3
   },
   "file_extension": ".py",
   "mimetype": "text/x-python",
   "name": "python",
   "nbconvert_exporter": "python",
   "pygments_lexer": "ipython3",
   "version": "3.6.8"
  }
 },
 "nbformat": 4,
 "nbformat_minor": 2
}
