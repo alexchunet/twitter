{
 "cells": [
  {
   "cell_type": "markdown",
   "metadata": {},
   "source": [
    "# Generate App Tokens"
   ]
  },
  {
   "cell_type": "markdown",
   "metadata": {},
   "source": [
    "This script allows to create Twitter tokens"
   ]
  },
  {
   "cell_type": "code",
   "execution_count": 47,
   "metadata": {},
   "outputs": [],
   "source": [
    "import tweepy\n",
    "import json\n",
    "import os\n",
    "from glob import glob\n",
    "import pandas as pd"
   ]
  },
  {
   "cell_type": "code",
   "execution_count": 48,
   "metadata": {},
   "outputs": [
    {
     "name": "stdout",
     "output_type": "stream",
     "text": [
      "Apps: spfraib_sentiments, WorldBankGroup6, gogps\n"
     ]
    }
   ],
   "source": [
    "path_to_keys = '../data/keys/'\n",
    "apps = ['spfraib_sentiments','WorldBankGroup6','gogps']\n",
    "print('Apps:',', '.join(apps))"
   ]
  },
  {
   "cell_type": "code",
   "execution_count": 49,
   "metadata": {},
   "outputs": [],
   "source": [
    "app2consumer={\n",
    "'spfraib_sentiments':{\n",
    "\"consumer_key\": \"JnOsaV5w39cJkx6hW3Yg\",\n",
    "\"consumer_secret\": \"nuR3E5LDdVmnxspQFS2PdSQVeNkwnL1XskHSixd2uNo\",\n",
    "},\n",
    "'WorldBankGroup6':{\n",
    "\"consumer_key\": \"DGp7w0sLlg65E1yoBZkNZQYAe\",\n",
    "\"consumer_secret\": \"VyYSA9I6YyCdQqaplj0Ni9VaFbG0UQKqMWgsBykhLIzWTH3s9N\",\n",
    "},\n",
    "'gogps':{\n",
    "\"consumer_key\": \"E2gq3JvJozAOT2H3SC8ZWC2e1\",\n",
    "\"consumer_secret\": \"UMzDGHyRV3bOIb6uU4dNGYnyrMFTWOJ7ZuOkDpHH26GYttCgPH\",\n",
    "}\n",
    "}"
   ]
  },
  {
   "cell_type": "markdown",
   "metadata": {},
   "source": [
    "## Functions"
   ]
  },
  {
   "cell_type": "code",
   "execution_count": 50,
   "metadata": {},
   "outputs": [
    {
     "name": "stdout",
     "output_type": "stream",
     "text": [
      "App: WorldBankGroup6\n",
      "consumer key: DGp7w0sLlg65E1yoBZkNZQYAe\n",
      "consumer secret: VyYSA9I6YyCdQqaplj0Ni9VaFbG0UQKqMWgsBykhLIzWTH3s9N\n"
     ]
    }
   ],
   "source": [
    "app = apps[1]\n",
    "print('App:', app)\n",
    "consumer_key = app2consumer[app]['consumer_key']\n",
    "consumer_secret = app2consumer[app]['consumer_secret']\n",
    "print('consumer key:', consumer_key)\n",
    "print('consumer secret:', consumer_secret)"
   ]
  },
  {
   "cell_type": "code",
   "execution_count": 51,
   "metadata": {},
   "outputs": [
    {
     "name": "stdout",
     "output_type": "stream",
     "text": [
      "To Subscribe, Follow This Link:\n",
      "https://api.twitter.com/oauth/authorize?oauth_token=3MAaBQAAAAAA4cvuAAABa3xRBOk\n"
     ]
    }
   ],
   "source": [
    "def get_auth(consumer_key,consumer_secret):\n",
    "    \n",
    "    auth = tweepy.OAuthHandler(consumer_key,consumer_secret)\n",
    "    \n",
    "    print(auth.get_authorization_url())\n",
    "    \n",
    "    return auth\n",
    "\n",
    "print('To Subscribe, Follow This Link:')\n",
    "auth = get_auth(consumer_key,consumer_secret)"
   ]
  },
  {
   "cell_type": "code",
   "execution_count": 52,
   "metadata": {},
   "outputs": [],
   "source": [
    "# Input Pin Returned to App Subscribers\n",
    "def get_tokens(pin,auth):\n",
    "    \n",
    "    if pin:\n",
    "        return auth.get_access_token(pin)\n",
    "    else:\n",
    "        print('No Pin Provided!')\n",
    "        return None, None"
   ]
  },
  {
   "cell_type": "code",
   "execution_count": 53,
   "metadata": {},
   "outputs": [],
   "source": [
    "# Export to JSON\n",
    "def export_credentials(\n",
    "    consumer_key, \n",
    "    consumer_secret,\n",
    "    access_token,\n",
    "    access_token_secret,\n",
    "    path_to_keys,\n",
    "    app,\n",
    "    name,\n",
    "    ):\n",
    "    \n",
    "    credentials = {\n",
    "    'consumer_key': consumer_key,\n",
    "    'consumer_secret': consumer_secret,\n",
    "    'access_token': access_token,\n",
    "    'access_token_secret': access_token_secret}\n",
    "    \n",
    "    credentials_file = path_to_keys+app+'-'+name+'.json'\n",
    "    if not os.path.exists(credentials_file):\n",
    "        print('Save:', credentials_file)\n",
    "        with open(credentials_file,'w') as f:\n",
    "            json.dump(credentials,f,indent=2)"
   ]
  },
  {
   "cell_type": "markdown",
   "metadata": {},
   "source": [
    "## Input Params"
   ]
  },
  {
   "cell_type": "code",
   "execution_count": 169,
   "metadata": {},
   "outputs": [
    {
     "name": "stdout",
     "output_type": "stream",
     "text": [
      "App: gogps\n"
     ]
    }
   ],
   "source": [
    "app = apps[2]\n",
    "print('App:', app)"
   ]
  },
  {
   "cell_type": "code",
   "execution_count": 170,
   "metadata": {},
   "outputs": [
    {
     "name": "stdout",
     "output_type": "stream",
     "text": [
      "consumer key: E2gq3JvJozAOT2H3SC8ZWC2e1\n",
      "consumer secret: UMzDGHyRV3bOIb6uU4dNGYnyrMFTWOJ7ZuOkDpHH26GYttCgPH\n"
     ]
    }
   ],
   "source": [
    "consumer_key = app2consumer[app]['consumer_key']\n",
    "consumer_secret = app2consumer[app]['consumer_secret']\n",
    "print('consumer key:', consumer_key)\n",
    "print('consumer secret:', consumer_secret)"
   ]
  },
  {
   "cell_type": "code",
   "execution_count": 171,
   "metadata": {},
   "outputs": [
    {
     "name": "stdout",
     "output_type": "stream",
     "text": [
      "To subscribe, follow this link (if you are not signed into Twitter, you will to do this first):\n",
      "https://api.twitter.com/oauth/authorize?oauth_token=0BFmBwAAAAAAxUCzAAABa4FZTJ0\n"
     ]
    }
   ],
   "source": [
    "print('To subscribe, follow this link (if you are not signed into Twitter, you will to do this first):')\n",
    "auth = get_auth(consumer_key,consumer_secret)"
   ]
  },
  {
   "cell_type": "code",
   "execution_count": 172,
   "metadata": {},
   "outputs": [
    {
     "name": "stdout",
     "output_type": "stream",
     "text": [
      "Enter the pin provided after subscription:\n"
     ]
    },
    {
     "data": {
      "text/plain": [
       "('908348490211872768-df7nJMJlh09VqamFkZNwsrU3LXFnh3L',\n",
       " 'SRB968191vJlsjr23dvbeGnjZVkxtiEKBr6F7vXpLNFnI')"
      ]
     },
     "execution_count": 172,
     "metadata": {},
     "output_type": "execute_result"
    }
   ],
   "source": [
    "print('Enter the pin provided after subscription:')\n",
    "access_token, access_token_secret = get_tokens('6713110',auth)\n",
    "access_token, access_token_secret"
   ]
  },
  {
   "cell_type": "code",
   "execution_count": 176,
   "metadata": {},
   "outputs": [
    {
     "name": "stdout",
     "output_type": "stream",
     "text": [
      "Save to files:\n",
      "Save: ../data/keys/spfraib_sentiments-henry.json\n",
      "Save: ../data/keys/spfraib_sentiments-sarah.json\n"
     ]
    }
   ],
   "source": [
    "print('Save to files:')\n",
    "\n",
    "app = 'spfraib_sentiments'\n",
    "consumer_key = app2consumer[app]['consumer_key']\n",
    "consumer_secret = app2consumer[app]['consumer_secret']\n",
    "\n",
    "for (name, access_token, access_token_secret) in [\n",
    "('ananth', \n",
    " '321919218-tCi1yTisQOEW7ht7v91VxpZGcshAOsMZikEoUlws', \n",
    " '5Ig12PgrxVYL3GtDqq9f1th5VZS72d8Kv036LYeNEQiip'),\n",
    "('anton1', \n",
    " '25561406-VCXBSfuZfXEG32PodHsoLabjE0sRlgRzJpRealLGJ', \n",
    " 'S00bwEK4xSJWMIrY0eoK0m4IT57gpfL7FRgpHJ7Ro0Bol'),\n",
    "('mukund', \n",
    " '1048311694857031682-ntD1XN94w8TYRySovvOSJXC9o0WSFx', \n",
    " 'Z5QSMkaoaIzLGgFrovAYkUzq0tFT2nMgim7WAhPOF2KCo'),\n",
    "('trevor', \n",
    " '14654798-bnK0QuduAVNKWa2wMxhY5eDMbdJhSrMwdtLyENkqj', \n",
    " 'g8mmQpXe6z7x9mTQYCgTAkACwTfjhygNdfZETjZ4LF9dC'),\n",
    "('anton2', \n",
    " '870703784-Pb4AuCXdGxRtWwO9BfCPridlD3Nn6JpV4D2fSMge', \n",
    " 'r9p2YsbZydT1D0niKwMY1sVe7HOOrNyPjYuKlpk1qKtX0'),\n",
    "('martin', \n",
    " '191382931-Ga0V9cySEx9rXxQfIFjKWC41RVKUI6QSZpIwJUTP', \n",
    " 'ScAZrXDsZ7NU2wkFc1IZzrBJmqHdqg5fOQ77fMx1jNg0O'),\n",
    "('letouze', \n",
    " '930249554-yGfWmBQWaPnTyMmZ8gUQCP52Dxp5zjz2LlTlN67o', \n",
    " 'BbdTUsDXjtp21pt6d2xgproXYrCuKhFNJfhoGtTAo2L1a'),\n",
    "('zohar', \n",
    " '23389098-gwt0NxUalYZ9bs4ZaFFDkeGHYqK9cu5k5Ew84rCW7',\n",
    " 'LD7V00UXTVVSHdY8QQFoLKdHPupmnMAWf1uJN50U8QTbU'),\n",
    "('sam2',\n",
    " '963203354317991936-URjN1IayACZWzWa1BN51EUumauRnUDO',\n",
    " 'qNlrecpPyWA4XfJpbREMSFxFvRyABHlKqnXbeO2IN1xmR'),\n",
    "('marc',\n",
    " '299603744-lJcraWdKdbfO3ltqM0QY8GdkdbIhv1bM2nAEEJGD',\n",
    " '35GN1DJ1J2mINVAltxHGD8XXnc3d7JAmhcP6dka4Uhk3b'),\n",
    "('fab',\n",
    " '2170673480-NgBHh6VjWpOlaGHLkksaMno1T5RTUKU4A42Z9p8',\n",
    " 'CfTOK78F9IY3S2qIPxLPrAmkW8EInwFfeTKnX8U7WHxo9'),\n",
    "('dunstan',\n",
    " '1358478254-rMi4T1LvrvSDjjOVspoEttJashV0Fwiqod1XdMn',\n",
    " 'i6S63WVBjyk2u8dzOTKRPEY8Tz0PDyjCtcRyQPf4ITq61'),\n",
    "('david',\n",
    " '31396900-ITMh1K0oCdefGXTngKxR3MJ4e7IP9W1wZqRmbh2bh',\n",
    " 'orNLLI4fUXRo6HWDRD2OxUkOPXYgKzwdHjyr5FMopQJnv'),\n",
    "('straschnov',\n",
    " '391373491-mO9gqik9uGzpewThVib9EmFaQ8vQIDwyRCxAOGvg',\n",
    " 'GxljLISzqpOCMbD7U6dNoPl99yd4TNymzDxf0mBVLd6Px'),\n",
    "('eric',\n",
    " '27094359-LxmWjp9Jw6gE6dGVcOaKj4BwToPFneWHYCRM5UkHy',\n",
    " 'vRVB3u7pcQ4qbM9TiX3CHMntpHJ3wS9BLinU5KqGDjWr2'),\n",
    "('dharana',\n",
    " '1559123192-1oE62Q6ZFXQHa6IB8tNPGkGW2Nuw5ngd8YVHW5s',\n",
    " 'tzW8iQkTrzGsBDP3lG6AEcgYN5OO5vfitYKRl9TRUSRg9'),\n",
    "('carolina1',\n",
    " '487705992-77y3rA7g9gDkvdRynBbrm0NSiUbxow1UKoKvBWGW',\n",
    " 'itoFalWRxkND3ynbsvhEngVFnYlQelveCzabGuWmxeubA'),\n",
    "('carolina2',\n",
    " '916168724268412928-jKmjfCd8UIfHgt1oAhwJqRyGFnrBehP',\n",
    " 'XSA4JSyE4X1lSUyj6ISveLBT6N573Fyn9tLW1jomTJIWi'),\n",
    "('sam3',\n",
    " '1141440600606162945-RKYVMYd8ByPdeGDk0pX65NMlqmJOPS',\n",
    " 'PhcAelTEoAdWEsnMDJtBNcXy5sbCx17utr59693bSbVDH'),\n",
    "('sana',\n",
    " '230484128-gG0tuCBDTFGd2en3ZC69aG1QFF6LUwO9LpJprwSb',\n",
    " 'PHi97SdpgPGEuBJk2w2XzmaeW7Q7T7Bz6zD5OUbDxrkDT'),\n",
    "('sam6',\n",
    " '1142214082868781057-OGlQjI4Z6p3exh50gjBCn9rv4gCKux',\n",
    " 'KWQEN6WqM55LvWvR2BYsJfLPHVQYELX49bKqB4iJUJwYC'),\n",
    "('antoine',\n",
    "'123686761-fVgGVe8kmj78Z3JxrOyy9vJD9kUcTF1nH7j6li5q',\n",
    "'mGBZtUx2VkV2g0M8Pprg9Xvr79hIUBg5khKaZ8BFw0xQT'),\n",
    "('henry',\n",
    "'116107244-JxUTSZ9pJ6KMoY16Xt5UiUEuNPazCPsY07TjIpyz',\n",
    "'W8vyNvB79XoFSbdKUwK4iH0dgWpxjOsw713bO6C9c3jln'),\n",
    "('sarah',\n",
    "'908348490211872768-Ko1UngA5WCNCH4iw2Wp15eGuofMfaQf',\n",
    "'himUp95wG7zCIN0zCTqjOh3JWkIe9aubcFNnxHt6h5OcZ'),\n",
    "]:\n",
    "    export_credentials(\n",
    "    consumer_key, \n",
    "    consumer_secret,\n",
    "    access_token,\n",
    "    access_token_secret,\n",
    "    path_to_keys,\n",
    "    app,\n",
    "    name,\n",
    "    )"
   ]
  },
  {
   "cell_type": "code",
   "execution_count": 177,
   "metadata": {},
   "outputs": [
    {
     "name": "stdout",
     "output_type": "stream",
     "text": [
      "Save to files:\n",
      "Save: ../data/keys/WorldBankGroup6-sarah.json\n",
      "Save: ../data/keys/WorldBankGroup6-henry.json\n"
     ]
    }
   ],
   "source": [
    "print('Save to files:')\n",
    "\n",
    "app = 'WorldBankGroup6'\n",
    "consumer_key = app2consumer[app]['consumer_key']\n",
    "consumer_secret = app2consumer[app]['consumer_secret']\n",
    "\n",
    "for (name, access_token, access_token_secret) in [\n",
    "('ananth', \n",
    " '321919218-7oasmgcTN6Z8PCqZD8f3NTChvUY2eyMHfPfTr4Pr', \n",
    " '1OXuYpepd0v6IE7KshJ9wVcFPSpnT24jGUHmdpCJfOU02'),\n",
    "('anton1', \n",
    " '25561406-uwpgZV1KdnYSkiQsiFunNW59gSNh9MqcyrGMQw0s5', \n",
    " 'GG1MHcRk5haMN4kE3Mnwl4DocwDSicrVfc3FxSGPs1qMl'),\n",
    "('mukund', \n",
    " '1048311694857031682-75agOUDFogw9YsDjyfPpCuPIhWeQkC', \n",
    " 'ymgvvl4f7yBt2snhR0OmXe2sTveUPQKt2Wx1jNmOIVF4r'),\n",
    "('trevor', \n",
    " '14654798-VKIJ1VCTBsCA5EUtgEmlmcJcqHSI6bUYf1jLFVHXW', \n",
    " 'k7jX2UxVFkyMCBq13czz6nouMeY62DqSTOg7tVaz94TPD'),\n",
    "('anton2', \n",
    " '870703784-hHPEo5OL95551FTvEIMYiYP22tgyImt5WWNylNVl', \n",
    " 'jf5BEOn3GR5Ytme3Ot86w11Ksb7iqD7w3w6EYtgUQb4Qv'),\n",
    "('martin', \n",
    " '191382931-Pl4wc8vuNlSfGjRlSj3zhc0jeLlGwzmHjXmsdB36', \n",
    " 'q5OCRqF2E8SueTVRdnEEMQi2mFxtEqc3eZV5aOxTDF1pI'),\n",
    "('letouze', \n",
    " '930249554-0zMrmBjABXFc4Wnr31RKDIN6wiDQLxeHmPRDPJGm', \n",
    " '7HSYA0sCS9aqFJ2D4PAxFLFpAVBtrlfUt1qQEgkdVXx2a'),\n",
    "('zohar', \n",
    " '23389098-Sc78hUdDZj1x1bGCEorFJi74ccIq3WHUAnjjoBHtI',\n",
    " 'KcFk5TmvnIG8PzoqdQx1hviQs4VLp5zVYHrlkySIMtxd9'),\n",
    "('sam1',\n",
    " '143266773-JDp6HL1twT82bt9MHzoVdr1KdeKukUi3amxFxggj',\n",
    " 'sgduFcxp3MTfaFgvSTLME5kZgD6EiEO7hbeFpiavsESwN'),\n",
    "('marc',\n",
    " '299603744-sE7iBrQjiLALCGrugsbuTsNrr6nk8XvSswbVa2gx',\n",
    " '3qqYK8NQjdfKfGtwtRbOHRlGnMlk3PTfq5cJnkavXUMmp'),\n",
    "('fab',\n",
    " '2170673480-J1PD3O8o4TKIwZmrALoSehV5yfgcZ5305DOhWZH',\n",
    " 'Krf9IFCyQxkdhpw25tLrGPd2jqTQ9psQ0tka94i6zsyn2'),\n",
    "('dunstan',\n",
    " '1358478254-h4OaTUWOVcgNpOVhSkhThQm4xM8tNnYyPdHGDeu',\n",
    " 'eBnbCxHrEjMGLIsvgomMG8CZpL8RIrMPfWwsTDPptLAwI'),\n",
    "('david',\n",
    " '31396900-fmvTIGiXIt3FNu8iMzEinO28W7b1GYmPaRhgajk4G',\n",
    " 'GciNvcsNipBWnVlaCqV2GH2v2xOw4dp2lRfwLFx6dYF73'),\n",
    "('straschnov',\n",
    " '391373491-Wd57fNIChvnBY3nN6WKNz8mi0UE8K7juHzGdwfqL',\n",
    " 'Dciy9aOeMcevOPful9SeHL9LJpW3oWUMvX0RbeASXNZtv'),\n",
    "('eric',\n",
    " '27094359-4y2SrDxXxIJV3dz1ZUaEzN159J9KwYz1QnPdESlXZ',\n",
    " 'sCPiMY7MRNp3ikrojuo7TogY4PQVQD2Sy0FYQN68gnD4E'),\n",
    "('dharana',\n",
    " '1559123192-gJa7ZsZgGPzEseGjnGz5iEl9OetTb9j9NL7HNpM',\n",
    " 'LOaHIxQ1E996870LTqN2X7zpqTjS7R56XuNTrvoNTosqM'),\n",
    "('carolina1',\n",
    " '487705992-H2NjSgkjqsNrqHaM36LskIhtW1d1xAqGks8kHlS7',\n",
    " 'Q64mi2Wj0W2hPI7OlgJemdwqushxCRJOCxiyasFvkTy78'),\n",
    "('carolina2',\n",
    " '916168724268412928-IkadBY01Us48A206e0Dg2uazuU0C5yp',\n",
    " 'czQEXxddMcAi4kcDRm1jAsSDjDzC8V8zw2AWTnekworWT'),\n",
    "('sam3',\n",
    " '1141440600606162945-PjF4o8cadGJmeygBobMjhLkPd6jbLH',\n",
    " 'F1LezkdCVLaTxeAwa2Z3MDji2vOXq7UWthEOnaQGDSoTA'),\n",
    "('sana',\n",
    " '230484128-1hIPmuDrkHVJi7Y8UY165ziSNjhD3VJrmURwd8i4',\n",
    " 'F0SHwLLkyQCgdgpmD6JDlFKXb1NhlfxXElfUnM9SnwTwi'),\n",
    "('sam6',\n",
    " '1142214082868781057-ZxEko3mNCIVKrJY53hqde1YO8SZt2Z',\n",
    " 'ZkoEAeCSkmJxdyUPycYwkAK99pSi1eHw0jwWuSL7fbnZL'),\n",
    "('antoine',\n",
    "'123686761-wITbk7N7UiE8hgq3pdIoYXiv5Y2OWndzwgd90PFM',\n",
    "'FiD8pB9BYSflSvdoJLSFjJ9YKzsygwOZfjb2OdgbXjddA'),\n",
    "('sarah',\n",
    "'908348490211872768-eiwzetkJTG0OubZFuFTn5lo9htS3H34',\n",
    "'SmlMwApYfnU0ZZ34fZ1MDs2Ftt8ultbCV7UV2jutVDGsB'),\n",
    "('henry',\n",
    "'116107244-L11UUjS82rJKrGK8CWARzWu5iSbZKspABdz9PsQN',\n",
    "'qC4bou8ugdqvSXDwJJkFOP2DIAkXZyI3LzPm07IAd5R5t'),\n",
    "]:\n",
    "    export_credentials(\n",
    "    consumer_key, \n",
    "    consumer_secret,\n",
    "    access_token,\n",
    "    access_token_secret,\n",
    "    path_to_keys,\n",
    "    app,\n",
    "    name,\n",
    "    )"
   ]
  },
  {
   "cell_type": "code",
   "execution_count": 178,
   "metadata": {},
   "outputs": [
    {
     "name": "stdout",
     "output_type": "stream",
     "text": [
      "Save to files:\n",
      "Save: ../data/keys/gogps-sarah.json\n"
     ]
    }
   ],
   "source": [
    "print('Save to files:')\n",
    "\n",
    "app = 'gogps'\n",
    "consumer_key = app2consumer[app]['consumer_key']\n",
    "consumer_secret = app2consumer[app]['consumer_secret']\n",
    "\n",
    "for (name, access_token, access_token_secret) in [\n",
    "('anton2', \n",
    " '870703784-dqw3GcVTA5JcxZtcpCUg7bQKsXAULWNDWLs5IpIT', \n",
    " '97fR6GsMGElWh0usGGF5U0o7yh4nZV4CkHUGFhRIxWz4q'),\n",
    "('martin', \n",
    " '191382931-A18cVZHmcbLQKKXqoWYYjLbPmrMrW4o1nKztINyf', \n",
    " 'YpPhPrSQBfWSKKBP4Hs3kzpCbCVLbWXNBgCxkeGBz5kQh'),\n",
    "('letouze', \n",
    " '930249554-UbyFpk3r2cCVy3KErl0hDR6FPs7yUvthrIMayZkC', \n",
    " 'GQiwVkpL4ezlIZfaZHgvVBGg7YxqpfkvSpW34YAVdZe3b'),\n",
    "('zohar', \n",
    " '23389098-L7sSM2h3QkCRNoBylOnVDAXWS4lkyex47aEtpaeJ2',\n",
    " 'LYUdnOHUYeqmBEwlf89yf9WfSPX6mDiSlatwPFGK3VFxU'),\n",
    "('sam1',\n",
    " '143266773-5lgn19j6lSgwJ1et9WVm0wxnRDWWMdrB747PgK02',\n",
    " 'HzkYCxbgOjIpPtyKTCM92iaGfznSOXMOBIeVHE2Xr6h4s'),\n",
    "('sam2',\n",
    " '963203354317991936-pIVLmctVXOA5duNKKb0Rxgvrq423mwu',\n",
    " 'j3Im1yReD6Z3a58RpVsushAJJfWH0IywdN5ERYfCuzoHj'),\n",
    "('marc',\n",
    " '299603744-775X8EAlXOJC44S5rO7M2r0qDCDFZo7hUurOlWDt',\n",
    " 'Pce4mg7i9a3FOjH4iNFmGjebE2Yh55Dhr5GoUoVzCpuxY'),\n",
    "('fab',\n",
    " '2170673480-5JRUMlAQ8Bh24fx9bt429mfMcnYykBq27yuJOs2',\n",
    " 'tQgjvUbiIwemtTAQDbOKM62fEljNcpcGLGlhoPZ1swroB'),\n",
    "('dunstan',\n",
    " '1358478254-xyqfBxHA8CGmx0gSZQA0YKRNdDeQlszJY3yIepU',\n",
    " 'RPIukdHqjXvoMgv3brthHLoE9HEYee35o5caPopWH9uUd'),\n",
    "('straschnov',\n",
    " '391373491-QlJmh07atSbpt1dN7pUKRqmXdWJ3qoTQAH1NcX8P',\n",
    " 'PAgah9oB9vY7E9M6rFc7w5CeQC9FGn5Y8W0OjZgBCsBqX'),\n",
    "('eric',\n",
    " '27094359-05U2Nw3lQQJzUXqKlOCg6NCfWTcHTP8FSHNxRer7W',\n",
    " '3wS09hwc2X6hQ8FXQZYnp2e41tsA5NYTmLdhjLwyZHxLO'),\n",
    "('dharana',\n",
    " '1559123192-2kQldcAze9p3g3zCnVNEASjPo4FBeoX9viRZLH0',\n",
    " 'RMz3HImcDntzzM7j2782VphsFjrT2wdwBpaDp7vstsM39'),\n",
    "('carolina1',\n",
    " '487705992-DcqgO0Al4XWZRw5DpFH1A9gPcu9C7gJLlOLSkKwN',\n",
    " '3nwil9K3UAxHZ9t4NthYwu9SkGdhXgHiVWjLoBEwycHGv'),\n",
    "('carolina2',\n",
    " '916168724268412928-KP3QqUn1be33Q8wdUr3DVAFlmnv3pBS',\n",
    " '8mKGL6pLK7N1WZoTrimiF2ReJUG8ruerFOfp7rQz6bHZL'),\n",
    "('sam3',\n",
    " '1141440600606162945-tU6EhEXFL5erUfUZsDfn1fLBHIQWTz',\n",
    " 'hfufFna2JUighOLt3pxaljbr8WKcCrVxyPCRGRx09cpzB'),\n",
    "('sam6',\n",
    " '1142214082868781057-rsmqYCOJ3DNlBuRYghnMpObEypAwv8',\n",
    " 'UFm3eDINJn0aFIhZVSfYsslXevciU085T6ctf0j5Iyvx6'),\n",
    "('antoine',\n",
    "'123686761-uK35G2xcXhV86aKKeGLSVrcfSObgRdcpjatHSSLA',\n",
    "'HBvws7rBeD1M3i3PnaqasrmsKRxXawRcvw21P65GOFOFR'),\n",
    "('sarah',\n",
    "'908348490211872768-df7nJMJlh09VqamFkZNwsrU3LXFnh3L',\n",
    "'SRB968191vJlsjr23dvbeGnjZVkxtiEKBr6F7vXpLNFnI'),\n",
    "]:\n",
    "    export_credentials(\n",
    "    consumer_key, \n",
    "    consumer_secret,\n",
    "    access_token,\n",
    "    access_token_secret,\n",
    "    path_to_keys,\n",
    "    app,\n",
    "    name,\n",
    "    )"
   ]
  },
  {
   "cell_type": "code",
   "execution_count": 179,
   "metadata": {},
   "outputs": [
    {
     "name": "stdout",
     "output_type": "stream",
     "text": [
      "# ACCESS POINTS: 86\n"
     ]
    }
   ],
   "source": [
    "print('# ACCESS POINTS:', len([x for x in os.listdir(path_to_keys) if '.json' in x]))"
   ]
  }
 ],
 "metadata": {
  "kernelspec": {
   "display_name": "Python 3",
   "language": "python",
   "name": "python3"
  },
  "language_info": {
   "codemirror_mode": {
    "name": "ipython",
    "version": 3
   },
   "file_extension": ".py",
   "mimetype": "text/x-python",
   "name": "python",
   "nbconvert_exporter": "python",
   "pygments_lexer": "ipython3",
   "version": "3.6.8"
  }
 },
 "nbformat": 4,
 "nbformat_minor": 2
}
