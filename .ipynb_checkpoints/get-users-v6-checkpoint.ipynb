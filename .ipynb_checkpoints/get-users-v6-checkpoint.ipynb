{
 "cells": [
  {
   "cell_type": "code",
   "execution_count": 1,
   "metadata": {},
   "outputs": [],
   "source": [
    "import sys\n",
    "import os\n",
    "import pandas as pd\n",
    "import multiprocessing as mp\n",
    "import reverse_geocoder as rg\n",
    "from iso3166 import countries\n",
    "from timeit import default_timer as timer"
   ]
  },
  {
   "cell_type": "code",
   "execution_count": 2,
   "metadata": {},
   "outputs": [
    {
     "name": "stdout",
     "output_type": "stream",
     "text": [
      "# Input Files: 12\n"
     ]
    }
   ],
   "source": [
    "version_tweets = 'v4'\n",
    "version_users  = 'v6'\n",
    "\n",
    "path_to_tweets = './data/decahose/parsed/tweets/tweets-'+version_tweets+'/'\n",
    "path_to_users  = './data/decahose/parsed/users/'\n",
    "\n",
    "input_files = sorted([x for x in os.listdir(path_to_tweets) if '.pkl' in x and 'tweets' in x])\n",
    "\n",
    "print('# Input Files:', len(input_files))"
   ]
  },
  {
   "cell_type": "code",
   "execution_count": 4,
   "metadata": {},
   "outputs": [],
   "source": [
    "def get_users(input_file):\n",
    "    \n",
    "    tweets = pd.read_pickle(path_to_tweets+input_file,compression='xz')[['LAT','LON','USER ID']]\n",
    "    \n",
    "    tweets['USER ID'] = tweets['USER ID'].astype(int)\n",
    "    \n",
    "    tweets['CC'] = pd.DataFrame(rg.search(list(zip(list(tweets['LAT']),list(tweets['LON'])))))['cc']\n",
    "    \n",
    "    tweets.drop(['LAT','LON'],1,inplace=True)\n",
    "\n",
    "    tweets['COUNTRY'] = tweets['CC'].apply(lambda x:countries.get(x).name)\n",
    "\n",
    "    return tweets.groupby('COUNTRY')['USER ID'].apply(lambda x:sorted(set(x)))"
   ]
  },
  {
   "cell_type": "code",
   "execution_count": null,
   "metadata": {},
   "outputs": [],
   "source": [
    "users = pd.Series(name='USER ID')\n",
    "users.index.name='COUNTRY'\n",
    "\n",
    "for input_file in input_files:\n",
    "    \n",
    "    print()\n",
    "    print(input_file)\n",
    "    \n",
    "    try:\n",
    "        \n",
    "        start = timer()\n",
    "        \n",
    "        print('IMPORT:')\n",
    "        users = pd.concat([users, get_users(input_file)])\n",
    "        print('# USERS:', users.apply(len).sum())\n",
    "\n",
    "        print('CONCATENATE:')\n",
    "        users = users.groupby('COUNTRY').sum()\n",
    "        print('# USERS:', users.apply(len).sum())\n",
    "\n",
    "        print('UNIQUIFY:')\n",
    "        users = users.apply(lambda x:sorted(set(x)))\n",
    "        print('# USERS:', users.apply(len).sum())\n",
    "\n",
    "        end = timer()\n",
    "        print('Computing Time:', round(end - start), 'sec')\n",
    "        \n",
    "    except:\n",
    "        \n",
    "        print('Error Processing File')"
   ]
  },
  {
   "cell_type": "code",
   "execution_count": 32,
   "metadata": {},
   "outputs": [
    {
     "name": "stdout",
     "output_type": "stream",
     "text": [
      "Save users locations...\n",
      "\n",
      "Done!\n"
     ]
    },
    {
     "ename": "SystemExit",
     "evalue": "0",
     "output_type": "error",
     "traceback": [
      "An exception has occurred, use %tb to see the full traceback.\n",
      "\u001b[0;31mSystemExit\u001b[0m\u001b[0;31m:\u001b[0m 0\n"
     ]
    },
    {
     "name": "stderr",
     "output_type": "stream",
     "text": [
      "/Users/samuel.fraiberger/anaconda3/lib/python3.6/site-packages/IPython/core/interactiveshell.py:3273: UserWarning: To exit: use 'exit', 'quit', or Ctrl-D.\n",
      "  warn(\"To exit: use 'exit', 'quit', or Ctrl-D.\", stacklevel=1)\n"
     ]
    }
   ],
   "source": [
    "print('Save users locations...\\n')\n",
    "\n",
    "# Users By Geolocated Tweets Country\n",
    "users.to_pickle(path_to_users+'users-'+version_users+'.pkl')\n",
    "print('Done!')\n",
    "sys.exit(0)"
   ]
  }
 ],
 "metadata": {
  "kernelspec": {
   "display_name": "Python 3",
   "language": "python",
   "name": "python3"
  },
  "language_info": {
   "codemirror_mode": {
    "name": "ipython",
    "version": 3
   },
   "file_extension": ".py",
   "mimetype": "text/x-python",
   "name": "python",
   "nbconvert_exporter": "python",
   "pygments_lexer": "ipython3",
   "version": "3.6.8"
  }
 },
 "nbformat": 4,
 "nbformat_minor": 2
}
