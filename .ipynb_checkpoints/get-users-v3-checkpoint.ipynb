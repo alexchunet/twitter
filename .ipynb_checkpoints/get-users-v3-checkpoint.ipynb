{
 "cells": [
  {
   "cell_type": "code",
   "execution_count": 15,
   "metadata": {},
   "outputs": [],
   "source": [
    "import os\n",
    "import re\n",
    "import reverse_geocoder as rg\n",
    "from iso3166 import countries\n",
    "import multiprocessing as mp\n",
    "import numpy as np\n",
    "import pandas as pd\n",
    "import matplotlib.pyplot as plt\n",
    "import seaborn as sns\n",
    "%matplotlib inline"
   ]
  },
  {
   "cell_type": "code",
   "execution_count": 2,
   "metadata": {},
   "outputs": [],
   "source": [
    "version_users = 'v3'\n",
    "\n",
    "path_to_users_files = './data/decahose/parsed/users/user-id-'+version_users+'/'\n",
    "\n",
    "users_files = sorted(\n",
    "[x for x in os.listdir(path_to_users_files) \n",
    "if re.findall('user-id-'+version+'-'+'\\d\\d.csv',x)])"
   ]
  },
  {
   "cell_type": "code",
   "execution_count": 3,
   "metadata": {},
   "outputs": [
    {
     "name": "stdout",
     "output_type": "stream",
     "text": [
      "Import users files...\n",
      "\n",
      "\n",
      "# users with duplicates: 120960814\n",
      "CPU times: user 5.93 s, sys: 58.8 s, total: 1min 4s\n",
      "Wall time: 1min 21s\n"
     ]
    }
   ],
   "source": [
    "%%time\n",
    "\n",
    "def import_file(users_file):\n",
    "    return pd.read_csv(path_to_users_files+users_file)\n",
    "    \n",
    "print('Import users files...\\n')\n",
    "with mp.Pool() as pool:\n",
    "    all_users = pd.concat(pool.map(import_file,users_files),sort=False)\n",
    "    \n",
    "print()\n",
    "print('# users with duplicates:',all_users.shape[0])"
   ]
  },
  {
   "cell_type": "code",
   "execution_count": 4,
   "metadata": {},
   "outputs": [
    {
     "name": "stdout",
     "output_type": "stream",
     "text": [
      "Uniquify...\n",
      "\n",
      "# unique users: 34814876\n",
      "CPU times: user 27 s, sys: 8.7 s, total: 35.8 s\n",
      "Wall time: 37.7 s\n"
     ]
    }
   ],
   "source": [
    "%%time\n",
    "print('Uniquify...\\n')\n",
    "users = all_users.groupby('user_id',as_index=False)[['latitude','longitude']].mean()\n",
    "del all_users\n",
    "print('# unique users:', users.shape[0])"
   ]
  },
  {
   "cell_type": "code",
   "execution_count": 5,
   "metadata": {},
   "outputs": [
    {
     "data": {
      "text/html": [
       "<div>\n",
       "<style scoped>\n",
       "    .dataframe tbody tr th:only-of-type {\n",
       "        vertical-align: middle;\n",
       "    }\n",
       "\n",
       "    .dataframe tbody tr th {\n",
       "        vertical-align: top;\n",
       "    }\n",
       "\n",
       "    .dataframe thead th {\n",
       "        text-align: right;\n",
       "    }\n",
       "</style>\n",
       "<table border=\"1\" class=\"dataframe\">\n",
       "  <thead>\n",
       "    <tr style=\"text-align: right;\">\n",
       "      <th></th>\n",
       "      <th>user_id</th>\n",
       "      <th>latitude</th>\n",
       "      <th>longitude</th>\n",
       "    </tr>\n",
       "  </thead>\n",
       "  <tbody>\n",
       "    <tr>\n",
       "      <th>0</th>\n",
       "      <td>12</td>\n",
       "      <td>39.118140</td>\n",
       "      <td>-96.541656</td>\n",
       "    </tr>\n",
       "    <tr>\n",
       "      <th>1</th>\n",
       "      <td>13</td>\n",
       "      <td>40.738419</td>\n",
       "      <td>-73.985722</td>\n",
       "    </tr>\n",
       "    <tr>\n",
       "      <th>2</th>\n",
       "      <td>15</td>\n",
       "      <td>33.985484</td>\n",
       "      <td>-76.856044</td>\n",
       "    </tr>\n",
       "    <tr>\n",
       "      <th>3</th>\n",
       "      <td>17</td>\n",
       "      <td>38.323508</td>\n",
       "      <td>-112.682814</td>\n",
       "    </tr>\n",
       "    <tr>\n",
       "      <th>4</th>\n",
       "      <td>18</td>\n",
       "      <td>39.960313</td>\n",
       "      <td>-89.690078</td>\n",
       "    </tr>\n",
       "  </tbody>\n",
       "</table>\n",
       "</div>"
      ],
      "text/plain": [
       "   user_id   latitude   longitude\n",
       "0       12  39.118140  -96.541656\n",
       "1       13  40.738419  -73.985722\n",
       "2       15  33.985484  -76.856044\n",
       "3       17  38.323508 -112.682814\n",
       "4       18  39.960313  -89.690078"
      ]
     },
     "execution_count": 5,
     "metadata": {},
     "output_type": "execute_result"
    }
   ],
   "source": [
    "users.head()"
   ]
  },
  {
   "cell_type": "code",
   "execution_count": 6,
   "metadata": {},
   "outputs": [
    {
     "name": "stdout",
     "output_type": "stream",
     "text": [
      "Get Locations From Geocoordinates...\n",
      "\n",
      "Loading formatted geocoded file...\n",
      "CPU times: user 2min 30s, sys: 54.1 s, total: 3min 24s\n",
      "Wall time: 4min 10s\n"
     ]
    }
   ],
   "source": [
    "%%time\n",
    "print(\"Get Locations From Geocoordinates...\\n\")\n",
    "locations   = pd.DataFrame(rg.search(list(zip(list(users['latitude']),list(users['longitude'])))))\n",
    "users       = pd.concat([users,locations.drop(['lat','lon'],1)],1,sort=False)\n",
    "del locations"
   ]
  },
  {
   "cell_type": "code",
   "execution_count": 25,
   "metadata": {},
   "outputs": [
    {
     "name": "stdout",
     "output_type": "stream",
     "text": [
      "Get Country Names...\n",
      "\n",
      "CPU times: user 1min 19s, sys: 1.07 s, total: 1min 20s\n",
      "Wall time: 1min 22s\n"
     ]
    }
   ],
   "source": [
    "%%time\n",
    "print('Get Country Names...\\n')\n",
    "users['country'] = users['cc'].apply(lambda x:countries.get(x).name)"
   ]
  },
  {
   "cell_type": "code",
   "execution_count": 52,
   "metadata": {},
   "outputs": [
    {
     "name": "stdout",
     "output_type": "stream",
     "text": [
      "Save...\n",
      "\n",
      "CPU times: user 4min 19s, sys: 11.8 s, total: 4min 31s\n",
      "Wall time: 4min 44s\n"
     ]
    }
   ],
   "source": [
    "%%time\n",
    "print('Save...\\n')\n",
    "users.to_csv(path_to_users_files+'users-'+version_users+'.csv')"
   ]
  }
 ],
 "metadata": {
  "kernelspec": {
   "display_name": "Python 3",
   "language": "python",
   "name": "python3"
  },
  "language_info": {
   "codemirror_mode": {
    "name": "ipython",
    "version": 3
   },
   "file_extension": ".py",
   "mimetype": "text/x-python",
   "name": "python",
   "nbconvert_exporter": "python",
   "pygments_lexer": "ipython3",
   "version": "3.6.8"
  }
 },
 "nbformat": 4,
 "nbformat_minor": 2
}
