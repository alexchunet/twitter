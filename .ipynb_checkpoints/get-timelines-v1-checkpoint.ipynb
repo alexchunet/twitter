{
 "cells": [
  {
   "cell_type": "code",
   "execution_count": 2,
   "metadata": {},
   "outputs": [],
   "source": [
    "import sys\n",
    "import os\n",
    "import tweepy\n",
    "import ujson as json\n",
    "import pandas as pd\n",
    "import numpy as np\n",
    "import multiprocessing as mp\n",
    "from timeit import default_timer as timer\n",
    "import re"
   ]
  },
  {
   "cell_type": "code",
   "execution_count": 3,
   "metadata": {},
   "outputs": [
    {
     "name": "stdout",
     "output_type": "stream",
     "text": [
      "# Access Token: 4 \n",
      "\n",
      "gogps-anton2.json\n",
      "gogps-carolina1.json\n",
      "gogps-carolina2.json\n",
      "gogps-dev.json\n"
     ]
    }
   ],
   "source": [
    "country           = 'Brazil'\n",
    "version_timeline  = 'v1'\n",
    "version_users     = 'v3'\n",
    "path_to_users     = './data/decahose/parsed/users/users-'+version_users+'.csv'\n",
    "path_to_key_files = './data/api-keys/'\n",
    "path_to_timelines = './data/timelines/'+country.lower()+'/'\n",
    "start_key         = 0\n",
    "\n",
    "if not os.path.exists(path_to_timelines):\n",
    "    os.mkdir(path_to_timelines)\n",
    "    \n",
    "columns=[\n",
    "'TIME',\n",
    "'ID',\n",
    "'TEXT',\n",
    "'GEO',\n",
    "'LANG',\n",
    "'USER ID',\n",
    "'USER LOCATION',\n",
    "'USER STATUSES',\n",
    "]\n",
    "    \n",
    "# Use Less Keys Than CPU Available\n",
    "key_files = [x for x in os.listdir(path_to_key_files) if 'json' in x][start_key:start_key+mp.cpu_count()]\n",
    "print('# Access Token:', len(key_files),'\\n')\n",
    "print('\\n'.join(key_files))"
   ]
  },
  {
   "cell_type": "code",
   "execution_count": 3,
   "metadata": {},
   "outputs": [
    {
     "name": "stdout",
     "output_type": "stream",
     "text": [
      "# Collected Users: 0\n"
     ]
    }
   ],
   "source": [
    "def collected_users(path_to_timelines,country):\n",
    "    return [re.findall('([\\d]+)',x)[0] \n",
    "            for x in os.listdir(path_to_timelines) \n",
    "            if country.lower() in x and '.pkl' in x]\n",
    "\n",
    "collected_users = collected_users(path_to_timelines,country)\n",
    "print('# Collected Users:', len(collected_users))"
   ]
  },
  {
   "cell_type": "code",
   "execution_count": 4,
   "metadata": {},
   "outputs": [
    {
     "name": "stdout",
     "output_type": "stream",
     "text": [
      "Import Users...\n",
      "\n",
      "Country: Indonesia\n",
      "# Users: 4\n",
      "# Remaining Users: 4\n"
     ]
    }
   ],
   "source": [
    "# %%time\n",
    "print('Import Users...\\n')\n",
    "def select_users(country):\n",
    "\n",
    "    all_users = pd.read_csv(path_to_users,index_col=0)\n",
    "    users = list(all_users.loc[all_users['country']==country,'user_id'].sample(frac=1).values.astype(str))\n",
    "    del all_users\n",
    "    return users\n",
    "\n",
    "users = select_users(country)\n",
    "\n",
    "print('Country:', country)\n",
    "print('# Users:', len(users))\n",
    "\n",
    "users = [x for x in users if x not in collected_users]\n",
    "print('# Remaining Users:', len(users))"
   ]
  },
  {
   "cell_type": "code",
   "execution_count": 5,
   "metadata": {},
   "outputs": [],
   "source": [
    "def get_keys(path):\n",
    "    \n",
    "    with open(path) as f:\n",
    "        return json.load(f)\n",
    "    \n",
    "# key = get_keys(path_to_key_files+key_files[0])"
   ]
  },
  {
   "cell_type": "code",
   "execution_count": 6,
   "metadata": {},
   "outputs": [],
   "source": [
    "def get_auth(key):\n",
    "\n",
    "    # OAuth process, using the keys and tokens\n",
    "    auth = tweepy.OAuthHandler(key['consumer_key'], key['consumer_secret'])\n",
    "    auth.set_access_token(key['access_token'], key['access_token_secret'])\n",
    "\n",
    "    # Creation of the actual interface, using authentication\n",
    "    api = tweepy.API(auth, wait_on_rate_limit=True)\n",
    "    \n",
    "    return api\n",
    "\n",
    "# api = get_auth(key)"
   ]
  },
  {
   "cell_type": "code",
   "execution_count": 7,
   "metadata": {},
   "outputs": [],
   "source": [
    "def get_timeline(api,user):\n",
    "    \n",
    "    timeline = []\n",
    "    \n",
    "    try:\n",
    "        \n",
    "        # Collect Statuses Using Extended Text and Excluding Retweets \n",
    "        statuses = tweepy.Cursor(\n",
    "        api.user_timeline, \n",
    "        user_id=user, \n",
    "        count=3200, \n",
    "        tweet_mode=\"extended\", \n",
    "        include_rts=False).items()\n",
    "        \n",
    "        for status in statuses:\n",
    "            \n",
    "            # Pull Json Data \n",
    "            data = status._json\n",
    "            \n",
    "            # Select Fields\n",
    "            timeline.append([\n",
    "            data['created_at'],\n",
    "            data['id_str'],\n",
    "            data['full_text'],\n",
    "            data['coordinates'],\n",
    "            data['lang'],\n",
    "            data['user']['id_str'],\n",
    "            data['user']['location'],\n",
    "            data['user']['statuses_count'],\n",
    "            # data['user']['description'],\n",
    "            # data['user']['profile_image_url'],\n",
    "            ])\n",
    "            \n",
    "            del data, status\n",
    "            \n",
    "        del statuses\n",
    "        \n",
    "    except tweepy.error.TweepError as e:\n",
    "#         print(user, e)\n",
    "        pass\n",
    "\n",
    "    return pd.DataFrame(timeline, columns=columns)\n",
    "\n",
    "# timeline = get_timeline(api,users[0])"
   ]
  },
  {
   "cell_type": "code",
   "execution_count": 8,
   "metadata": {},
   "outputs": [],
   "source": [
    "def get_timeline_by_block(index_block):\n",
    "    \n",
    "    # Create Access For Each Block\n",
    "    key = get_keys(path_to_key_files+key_files[index_block])\n",
    "    api = get_auth(key)\n",
    "    \n",
    "    for user in users[n_blocks*index_block:n_blocks*(index_block+1)]:\n",
    "        \n",
    "        timeline = get_timeline(api,user)\n",
    "\n",
    "        if timeline.shape[0]:\n",
    "            timeline.to_pickle(path_to_timelines+user+'-'+country.lower()+'-'+version_timeline+'.pkl')\n",
    "            del timeline\n",
    "            \n",
    "    return 0"
   ]
  },
  {
   "cell_type": "code",
   "execution_count": 9,
   "metadata": {},
   "outputs": [
    {
     "name": "stdout",
     "output_type": "stream",
     "text": [
      "# Processes: 4\n",
      "# Users by Block: 1\n"
     ]
    }
   ],
   "source": [
    "# Number of Process is Min(Number of CPU Available, Number of Keys)\n",
    "processes = min(len(key_files),mp.cpu_count())\n",
    "print('# Processes:',processes)\n",
    "\n",
    "# Split Users By Block\n",
    "n_blocks = len(users)//processes + len(users)%processes\n",
    "print('# Users by Block:', n_blocks)  "
   ]
  },
  {
   "cell_type": "code",
   "execution_count": 10,
   "metadata": {},
   "outputs": [
    {
     "name": "stdout",
     "output_type": "stream",
     "text": [
      "Extract Timelines...\n",
      "\n",
      "Computing Time: 35 sec\n"
     ]
    }
   ],
   "source": [
    "# %%time\n",
    "start = timer()\n",
    "print('Extract Timelines...\\n')\n",
    "\n",
    "with mp.Pool(processes=processes) as pool:\n",
    "    results = pool.map(get_timeline_by_block,range(processes))\n",
    "\n",
    "end = timer()\n",
    "print('Computing Time:', round(end - start), 'sec')"
   ]
  },
  {
   "cell_type": "code",
   "execution_count": 11,
   "metadata": {},
   "outputs": [
    {
     "name": "stdout",
     "output_type": "stream",
     "text": [
      "Done!\n"
     ]
    }
   ],
   "source": [
    "print('Done!')"
   ]
  }
 ],
 "metadata": {
  "kernelspec": {
   "display_name": "Python 3",
   "language": "python",
   "name": "python3"
  },
  "language_info": {
   "codemirror_mode": {
    "name": "ipython",
    "version": 3
   },
   "file_extension": ".py",
   "mimetype": "text/x-python",
   "name": "python",
   "nbconvert_exporter": "python",
   "pygments_lexer": "ipython3",
   "version": "3.6.8"
  }
 },
 "nbformat": 4,
 "nbformat_minor": 2
}
