{
 "cells": [
  {
   "cell_type": "code",
   "execution_count": 1,
   "metadata": {},
   "outputs": [],
   "source": [
    "from glob import glob\n",
    "import pandas as pd\n",
    "import numpy as np\n",
    "from timeit import default_timer as timer\n",
    "from itertools import chain"
   ]
  },
  {
   "cell_type": "code",
   "execution_count": 2,
   "metadata": {},
   "outputs": [],
   "source": [
    "def groupby_apply(df, func, sort=True):\n",
    "    \n",
    "    # Groupby name_key then apply func on the values in name_value\n",
    "    # Speed up pandas groupby a fractor of 10 ;)\n",
    "    \n",
    "    # Input a dataframe with columns [name_key, name_value]\n",
    "    name_key, name_value = df.columns\n",
    "    \n",
    "    if sort:\n",
    "        keys, values = df.sort_values(by=name_key).values.T\n",
    "    else:\n",
    "        keys, values = df.values.T\n",
    "        \n",
    "    # Extract Unique Keys And Index Of Transitions\n",
    "    unique_keys, index = np.unique(keys, True)\n",
    "    \n",
    "    # Split Values According to Transitions\n",
    "    arrays = np.split(values, index[1:])\n",
    "    \n",
    "    # Apply func to each array of values corresponding to a given key\n",
    "    return pd.Series([func(a) for a in arrays], name=name_value, index=pd.Index(unique_keys,name=name_key))"
   ]
  },
  {
   "cell_type": "code",
   "execution_count": 3,
   "metadata": {},
   "outputs": [],
   "source": [
    "path_to_input_files  = '../data/decahose/parsed/users/'\n",
    "path_to_output_files = '../data/decahose/parsed/'"
   ]
  },
  {
   "cell_type": "code",
   "execution_count": 4,
   "metadata": {},
   "outputs": [
    {
     "name": "stdout",
     "output_type": "stream",
     "text": [
      "# Input Files: 2\n"
     ]
    }
   ],
   "source": [
    "input_files = glob(path_to_input_files+'users-from-decahose*')\n",
    "print('# Input Files:', len(input_files))"
   ]
  },
  {
   "cell_type": "code",
   "execution_count": 5,
   "metadata": {},
   "outputs": [],
   "source": [
    "def get_users_and_locations(input_file):\n",
    "    \n",
    "    data = pd.read_pickle(input_file,compression='xz')\n",
    "    \n",
    "    # Sort Before Concatenation\n",
    "    data.sort_values(by='USER ID',inplace=True)\n",
    "    \n",
    "    # Concatenate By User\n",
    "    users = groupby_apply(data[['USER ID','USER LOCATION']],lambda x:set(x),sort=False)\n",
    "    \n",
    "    # Sort Before Concatenation\n",
    "    data.sort_values(by='USER LOCATION',inplace=True)\n",
    "\n",
    "    # Concatenate By Location\n",
    "    locations = groupby_apply(data[['USER LOCATION','USER ID']],lambda x:set(x),sort=False)\n",
    "    \n",
    "    del data\n",
    "    \n",
    "    return users, locations"
   ]
  },
  {
   "cell_type": "code",
   "execution_count": 6,
   "metadata": {},
   "outputs": [],
   "source": [
    "def main():\n",
    "\n",
    "    for i,input_file in enumerate(sorted(input_files)):\n",
    "        \n",
    "        start = timer()\n",
    "\n",
    "        print()\n",
    "        print('File:', i, input_file)\n",
    "\n",
    "        if not i:\n",
    "\n",
    "            all_users, all_locations = get_users_and_locations(input_file)\n",
    "\n",
    "        else:\n",
    "\n",
    "            users, locations = get_users_and_locations(input_file)\n",
    "\n",
    "            print('# New Users:', users.shape[0])\n",
    "            print('# News Locations:', locations.shape[0])\n",
    "\n",
    "            all_users = pd.concat([all_users, users]).sort_index().reset_index()\n",
    "            del users\n",
    "            \n",
    "            print('# All Users after Concatenation:', all_users.shape[0])\n",
    "\n",
    "            all_users = groupby_apply(all_users,lambda x:set(chain.from_iterable(x)),sort=False)\n",
    "\n",
    "            print('# All Users after Reduction:', all_users.shape[0])\n",
    "\n",
    "            all_locations = pd.concat([all_locations, locations]).sort_index().reset_index()\n",
    "            del locations\n",
    "            \n",
    "            print('# All Locations after Concatenation:', all_locations.shape[0])\n",
    "\n",
    "            all_locations = groupby_apply(all_locations,lambda x:set(chain.from_iterable(x)),sort=False)\n",
    "\n",
    "            print('# All Locations after Reduction:', all_locations.shape[0])\n",
    "\n",
    "        print('# All Users:', all_users.shape[0])\n",
    "        print('# All Locations:', all_locations.shape[0])\n",
    "        \n",
    "        print(\"Done in\", round(timer()-start), \"sec\")\n",
    "    \n",
    "    print('Save:')\n",
    "    start = timer()\n",
    "    \n",
    "    all_users.to_pickle(path_to_output_files+'all-users-from-decahose.pkl.xz',compression='xz')\n",
    "    all_locations.to_pickle(path_to_output_files+'all-locations-from-decahose.pkl.xz',compression='xz')\n",
    "    \n",
    "    print(\"Done in\", round(timer()-start), \"sec\")\n",
    "\n",
    "    return 0"
   ]
  },
  {
   "cell_type": "code",
   "execution_count": 7,
   "metadata": {},
   "outputs": [
    {
     "name": "stdout",
     "output_type": "stream",
     "text": [
      "Concatenate Files...\n",
      "\n",
      "File: 0 ../data/decahose/parsed/users/users-from-decahose-partition-0-block-0.pkl.xz\n",
      "# All Users: 202917\n",
      "# All Locations: 110887\n",
      "Done in 3 sec\n",
      "\n",
      "File: 1 ../data/decahose/parsed/users/users-from-decahose-partition-0-block-1.pkl.xz\n",
      "# New Users: 202917\n",
      "# News Locations: 110887\n",
      "# All Users after Concatenation: 405834\n",
      "# All Users after Reduction: 202917\n",
      "# All Locations after Concatenation: 221774\n",
      "# All Locations after Reduction: 110887\n",
      "# All Users: 202917\n",
      "# All Locations: 110887\n",
      "Done in 9 sec\n",
      "Save:\n",
      "Done in 9 sec\n",
      "\n",
      "Total Computing Time: 21 Sec\n"
     ]
    }
   ],
   "source": [
    "print(\"Concatenate Files...\")\n",
    "start = timer()\n",
    "\n",
    "if __name__ == \"__main__\":\n",
    "    main()\n",
    "    \n",
    "end = timer()\n",
    "print()\n",
    "print('Total Computing Time:', round(end - start), 'Sec')"
   ]
  },
  {
   "cell_type": "code",
   "execution_count": 9,
   "metadata": {},
   "outputs": [
    {
     "data": {
      "text/plain": [
       "USER ID\n",
       "100004737                       {Ucayali, Peru}\n",
       "1000062301             {En tus sueños húmedos.}\n",
       "100007440       {Under the Contrails, Michigan}\n",
       "100007602                    {Obson, Sonora,Mx}\n",
       "100008258                               {あぁーっと}\n",
       "100008734                              {Brazil}\n",
       "100010191                            {海のみえない横浜}\n",
       "1000114350                              {Metz }\n",
       "1000170540                        {Puerto Rico}\n",
       "100017257                    {Salvador - Bahia}\n",
       "100021049     {Abu Dhabi, United Arab Emirates}\n",
       "1000219934                          {Argentina}\n",
       "1000223816                   {Spiro, Oklahoma }\n",
       "100028313                   {on the road again}\n",
       "1000306848                             {Earth }\n",
       "1000309268          {Vicente Lopez,  Argentina}\n",
       "1000310990                              {vic!¡}\n",
       "1000328197              {somewhere performing }\n",
       "1000334659     {#LiveLongChris,Rest Easy Meeka}\n",
       "100038386                     {Granada, España}\n",
       "1000385274     {Where my feet r on SolidGround}\n",
       "100039370                       {Asheville, NC}\n",
       "1000405238                           {sa al ag}\n",
       "1000408478                      {Cork, Ireland}\n",
       "1000421868                 {Rosario, Argentina}\n",
       "100043287                              {Bergen}\n",
       "100046855                           {Akron, OH}\n",
       "1000514354                          {Mexicana }\n",
       "100056409                 {Northern New Jersey}\n",
       "1000569006           {Lil / Ellie #1 + Brandy }\n",
       "                            ...                \n",
       "99923855                    {Chicago, Illinois}\n",
       "999260594           {GB saçmalamacaları.com.tr}\n",
       "999279746           {A bit east of the Nowhere}\n",
       "999337267                 {Edinburgh, Scotland}\n",
       "999343825                             {千葉 関東地方}\n",
       "99935747                       {Sapporo, JAPAN}\n",
       "99938472           {ÜT: -6.3410963,106.8357972}\n",
       "999393402                             {suceava}\n",
       "999434070                      {Wisconsin, USA}\n",
       "99943864                       {United Kingdom}\n",
       "999523693         {Suburbs of Philadelphia, Pa}\n",
       "999542491                           {sud-ouest}\n",
       "999566911              {Rouen, Haute-Normandie}\n",
       "999569888          {Amsterdam, The Netherlands}\n",
       "99958640                              {Florida}\n",
       "999615583                  {Bucharest, Romania}\n",
       "999621690                      {B∆STILLE & FOB}\n",
       "999725450                                  {77}\n",
       "99974363                      {facebook/nordar}\n",
       "999758186                             {germany}\n",
       "999771618                       {Patria Grande}\n",
       "999821228                               {Paris}\n",
       "999822853                    {Catlettsburg, KY}\n",
       "999824503                            {Portugal}\n",
       "999892819                    {hunt-in for stew}\n",
       "99989509                                   {茶畑}\n",
       "999928706      {Planète Terre ... quelque part}\n",
       "999955753                          {محايل عسير}\n",
       "999969840                        { nate & teju}\n",
       "99998327           {Dermatologist (طبيب جلدية)}\n",
       "Name: USER LOCATION, Length: 202917, dtype: object"
      ]
     },
     "execution_count": 9,
     "metadata": {},
     "output_type": "execute_result"
    }
   ],
   "source": [
    "pd.read_pickle(path_to_output_files+'all-users-from-decahose.pkl.xz',compression='xz')"
   ]
  },
  {
   "cell_type": "code",
   "execution_count": null,
   "metadata": {},
   "outputs": [],
   "source": []
  }
 ],
 "metadata": {
  "kernelspec": {
   "display_name": "Python 3",
   "language": "python",
   "name": "python3"
  },
  "language_info": {
   "codemirror_mode": {
    "name": "ipython",
    "version": 3
   },
   "file_extension": ".py",
   "mimetype": "text/x-python",
   "name": "python",
   "nbconvert_exporter": "python",
   "pygments_lexer": "ipython3",
   "version": "3.6.8"
  }
 },
 "nbformat": 4,
 "nbformat_minor": 2
}
