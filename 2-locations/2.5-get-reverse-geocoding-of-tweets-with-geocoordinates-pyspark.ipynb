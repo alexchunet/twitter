{
 "cells": [
  {
   "cell_type": "code",
   "execution_count": 1,
   "metadata": {},
   "outputs": [],
   "source": [
    "from timeit import default_timer as timer\n",
    "import socket\n",
    "import sys\n",
    "import os\n",
    "import numpy as np\n",
    "import pandas as pd\n",
    "import re\n",
    "import string\n",
    "import reverse_geocoder as rg\n",
    "from iso3166 import countries\n",
    "from glob import glob"
   ]
  },
  {
   "cell_type": "code",
   "execution_count": 2,
   "metadata": {},
   "outputs": [
    {
     "name": "stdout",
     "output_type": "stream",
     "text": [
      "Hostname: Samuels-MacBook-Pro.local\n",
      "../../data/decahose/parsed/tweets/tweets-with-geocoordinates-or-place-extract\n"
     ]
    }
   ],
   "source": [
    "# Local\n",
    "print('Hostname:', socket.gethostname())\n",
    "if 'samuel' in socket.gethostname().lower():\n",
    "    path_to_data='../../data/tweets/tweets-with-geocoordinates-or-place/extract'\n",
    "# Cluster\n",
    "else:\n",
    "    path_to_data='/scratch/spf248/twitter/data/tweets/tweets-with-geocoordinates-or-place/extract'\n",
    "\n",
    "print(path_to_data)"
   ]
  },
  {
   "cell_type": "code",
   "execution_count": 3,
   "metadata": {},
   "outputs": [
    {
     "name": "stdout",
     "output_type": "stream",
     "text": [
      "LOAD\n",
      "# Tweets: 7560\n"
     ]
    }
   ],
   "source": [
    "print(\"LOAD\")\n",
    "tweets=spark.read.parquet(path_to_data)"
   ]
  },
  {
   "cell_type": "code",
   "execution_count": 4,
   "metadata": {},
   "outputs": [
    {
     "data": {
      "text/plain": [
       "DataFrame[tweet_id: string, created_at: timestamp, text: string, tweet_lang: string, user_id: string, user_location: string, place_id: string, tweet_longitude: double, tweet_latitude: double]"
      ]
     },
     "execution_count": 4,
     "metadata": {},
     "output_type": "execute_result"
    }
   ],
   "source": [
    "print(\"CACHE\")\n",
    "tweets.cache()"
   ]
  },
  {
   "cell_type": "code",
   "execution_count": 8,
   "metadata": {},
   "outputs": [
    {
     "name": "stdout",
     "output_type": "stream",
     "text": [
      "Drop Missing Geocoordinates...\n"
     ]
    },
    {
     "data": {
      "text/plain": [
       "1131"
      ]
     },
     "execution_count": 8,
     "metadata": {},
     "output_type": "execute_result"
    }
   ],
   "source": [
    "print(\"Drop Missing Geocoordinates...\")\n",
    "tweets=tweets.filter((tweets[\"tweet_latitude\"].isNotNull())&(tweets[\"tweet_longitude\"].isNotNull()))"
   ]
  },
  {
   "cell_type": "code",
   "execution_count": 9,
   "metadata": {},
   "outputs": [
    {
     "name": "stdout",
     "output_type": "stream",
     "text": [
      "Loading formatted geocoded file...\n"
     ]
    },
    {
     "data": {
      "text/plain": [
       "[OrderedDict([('lat', '4.88447'),\n",
       "              ('lon', '-1.75536'),\n",
       "              ('name', 'Takoradi'),\n",
       "              ('admin1', 'Western'),\n",
       "              ('admin2', ''),\n",
       "              ('cc', 'GH')])]"
      ]
     },
     "execution_count": 9,
     "metadata": {},
     "output_type": "execute_result"
    }
   ],
   "source": [
    "rg.search((0,0))"
   ]
  },
  {
   "cell_type": "code",
   "execution_count": null,
   "metadata": {},
   "outputs": [],
   "source": [
    "def reverse_geocode(x,y):\n",
    "    return abs(x-y)\n",
    "\n",
    "udf_dict = udf(dict, IntegerType())"
   ]
  },
  {
   "cell_type": "code",
   "execution_count": 11,
   "metadata": {},
   "outputs": [
    {
     "name": "stdout",
     "output_type": "stream",
     "text": [
      "Reverse geocode representative point...\n",
      "Done in 0 sec\n"
     ]
    }
   ],
   "source": [
    "print(\"Reverse geocode representative point...\")\n",
    "start = timer()\n",
    "\n",
    "tweets['tweet_point'] = list(zip(tweets['tweet_latitude'], tweets['tweet_longitude']))\n",
    "\n",
    "reversed_geocodes = pd.DataFrame(rg.search(list(tweets['tweet_point'].values))).drop(['lat','lon'],1)\n",
    "\n",
    "reversed_geocodes['country'] = reversed_geocodes['cc'].apply(lambda x:countries.get(x).name)\n",
    "\n",
    "tweets = pd.concat([tweets.drop('tweet_point',1),reversed_geocodes.rename(columns=lambda x:'tweet_'+x)],1)\n",
    "\n",
    "del reversed_geocodes\n",
    "\n",
    "print(\"Done in\", round(timer()-start), \"sec\")"
   ]
  },
  {
   "cell_type": "code",
   "execution_count": 12,
   "metadata": {},
   "outputs": [
    {
     "data": {
      "text/html": [
       "<div>\n",
       "<style scoped>\n",
       "    .dataframe tbody tr th:only-of-type {\n",
       "        vertical-align: middle;\n",
       "    }\n",
       "\n",
       "    .dataframe tbody tr th {\n",
       "        vertical-align: top;\n",
       "    }\n",
       "\n",
       "    .dataframe thead th {\n",
       "        text-align: right;\n",
       "    }\n",
       "</style>\n",
       "<table border=\"1\" class=\"dataframe\">\n",
       "  <thead>\n",
       "    <tr style=\"text-align: right;\">\n",
       "      <th></th>\n",
       "      <th>tweet_id</th>\n",
       "      <th>created_at</th>\n",
       "      <th>text</th>\n",
       "      <th>tweet_lang</th>\n",
       "      <th>user_id</th>\n",
       "      <th>user_location</th>\n",
       "      <th>place_id</th>\n",
       "      <th>tweet_longitude</th>\n",
       "      <th>tweet_latitude</th>\n",
       "      <th>tweet_name</th>\n",
       "      <th>tweet_admin1</th>\n",
       "      <th>tweet_admin2</th>\n",
       "      <th>tweet_cc</th>\n",
       "      <th>tweet_country</th>\n",
       "    </tr>\n",
       "  </thead>\n",
       "  <tbody>\n",
       "    <tr>\n",
       "      <td>0</td>\n",
       "      <td>812406347430031361</td>\n",
       "      <td>2016-12-23 21:15:41</td>\n",
       "      <td>Almuerzo navideño (@ Mar y Punto in Miraflores...</td>\n",
       "      <td>es</td>\n",
       "      <td>79900019</td>\n",
       "      <td>Lima, Peru</td>\n",
       "      <td>005bf2190435cf68</td>\n",
       "      <td>-77.009212</td>\n",
       "      <td>-12.130520</td>\n",
       "      <td>Surco</td>\n",
       "      <td>Lima</td>\n",
       "      <td>Lima</td>\n",
       "      <td>PE</td>\n",
       "      <td>Peru</td>\n",
       "    </tr>\n",
       "    <tr>\n",
       "      <td>1</td>\n",
       "      <td>812411665807507456</td>\n",
       "      <td>2016-12-23 21:36:49</td>\n",
       "      <td>#Veiomever\\n@dihanfreitas @ Academia Norpra Fí...</td>\n",
       "      <td>pt</td>\n",
       "      <td>389819773</td>\n",
       "      <td>None</td>\n",
       "      <td>37b82f7e75d4f3b0</td>\n",
       "      <td>-43.034610</td>\n",
       "      <td>-22.650760</td>\n",
       "      <td>Guapimirim</td>\n",
       "      <td>Rio de Janeiro</td>\n",
       "      <td>Guapimirim</td>\n",
       "      <td>BR</td>\n",
       "      <td>Brazil</td>\n",
       "    </tr>\n",
       "    <tr>\n",
       "      <td>2</td>\n",
       "      <td>812425498617753601</td>\n",
       "      <td>2016-12-23 22:31:47</td>\n",
       "      <td>Want to work at Mercy? We're #hiring in #Festu...</td>\n",
       "      <td>en</td>\n",
       "      <td>1898258479</td>\n",
       "      <td>None</td>\n",
       "      <td>cace34546a1607a9</td>\n",
       "      <td>-90.395954</td>\n",
       "      <td>38.220610</td>\n",
       "      <td>Festus</td>\n",
       "      <td>Missouri</td>\n",
       "      <td>Jefferson County</td>\n",
       "      <td>US</td>\n",
       "      <td>United States of America</td>\n",
       "    </tr>\n",
       "    <tr>\n",
       "      <td>3</td>\n",
       "      <td>812425884476981249</td>\n",
       "      <td>2016-12-23 22:33:19</td>\n",
       "      <td>Viernes de tranqui 🍹🍻☕ @ El Cuélebre Negro htt...</td>\n",
       "      <td>es</td>\n",
       "      <td>3169714036</td>\n",
       "      <td>Langreo, España</td>\n",
       "      <td>fac43a227940d7b2</td>\n",
       "      <td>-5.689620</td>\n",
       "      <td>43.311560</td>\n",
       "      <td>Sama</td>\n",
       "      <td>Asturias</td>\n",
       "      <td>Province of Asturias</td>\n",
       "      <td>ES</td>\n",
       "      <td>Spain</td>\n",
       "    </tr>\n",
       "    <tr>\n",
       "      <td>4</td>\n",
       "      <td>812431567750660097</td>\n",
       "      <td>2016-12-23 22:55:54</td>\n",
       "      <td>R-R-Reunited pt.2\\n#iceskating #missedyou #did...</td>\n",
       "      <td>es</td>\n",
       "      <td>439148331</td>\n",
       "      <td>Barcelona</td>\n",
       "      <td>1a27537478dd8e38</td>\n",
       "      <td>2.119873</td>\n",
       "      <td>41.380644</td>\n",
       "      <td>les Corts</td>\n",
       "      <td>Catalonia</td>\n",
       "      <td>Provincia de Barcelona</td>\n",
       "      <td>ES</td>\n",
       "      <td>Spain</td>\n",
       "    </tr>\n",
       "  </tbody>\n",
       "</table>\n",
       "</div>"
      ],
      "text/plain": [
       "             tweet_id          created_at  \\\n",
       "0  812406347430031361 2016-12-23 21:15:41   \n",
       "1  812411665807507456 2016-12-23 21:36:49   \n",
       "2  812425498617753601 2016-12-23 22:31:47   \n",
       "3  812425884476981249 2016-12-23 22:33:19   \n",
       "4  812431567750660097 2016-12-23 22:55:54   \n",
       "\n",
       "                                                text tweet_lang     user_id  \\\n",
       "0  Almuerzo navideño (@ Mar y Punto in Miraflores...         es    79900019   \n",
       "1  #Veiomever\\n@dihanfreitas @ Academia Norpra Fí...         pt   389819773   \n",
       "2  Want to work at Mercy? We're #hiring in #Festu...         en  1898258479   \n",
       "3  Viernes de tranqui 🍹🍻☕ @ El Cuélebre Negro htt...         es  3169714036   \n",
       "4  R-R-Reunited pt.2\\n#iceskating #missedyou #did...         es   439148331   \n",
       "\n",
       "     user_location          place_id  tweet_longitude  tweet_latitude  \\\n",
       "0       Lima, Peru  005bf2190435cf68       -77.009212      -12.130520   \n",
       "1             None  37b82f7e75d4f3b0       -43.034610      -22.650760   \n",
       "2             None  cace34546a1607a9       -90.395954       38.220610   \n",
       "3  Langreo, España  fac43a227940d7b2        -5.689620       43.311560   \n",
       "4        Barcelona  1a27537478dd8e38         2.119873       41.380644   \n",
       "\n",
       "   tweet_name    tweet_admin1            tweet_admin2 tweet_cc  \\\n",
       "0       Surco            Lima                    Lima       PE   \n",
       "1  Guapimirim  Rio de Janeiro              Guapimirim       BR   \n",
       "2      Festus        Missouri        Jefferson County       US   \n",
       "3        Sama        Asturias    Province of Asturias       ES   \n",
       "4   les Corts       Catalonia  Provincia de Barcelona       ES   \n",
       "\n",
       "              tweet_country  \n",
       "0                      Peru  \n",
       "1                    Brazil  \n",
       "2  United States of America  \n",
       "3                     Spain  \n",
       "4                     Spain  "
      ]
     },
     "execution_count": 12,
     "metadata": {},
     "output_type": "execute_result"
    }
   ],
   "source": [
    "tweets.head()"
   ]
  }
 ],
 "metadata": {
  "kernelspec": {
   "display_name": "Python 3",
   "language": "python",
   "name": "python3"
  },
  "language_info": {
   "codemirror_mode": {
    "name": "ipython",
    "version": 3
   },
   "file_extension": ".py",
   "mimetype": "text/x-python",
   "name": "python",
   "nbconvert_exporter": "python",
   "pygments_lexer": "ipython3",
   "version": "3.7.4"
  }
 },
 "nbformat": 4,
 "nbformat_minor": 2
}
