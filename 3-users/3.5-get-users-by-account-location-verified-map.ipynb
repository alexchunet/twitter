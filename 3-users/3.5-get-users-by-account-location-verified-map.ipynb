{
 "cells": [
  {
   "cell_type": "code",
   "execution_count": 1,
   "metadata": {},
   "outputs": [],
   "source": [
    "import os\n",
    "import socket\n",
    "import numpy as np\n",
    "import pandas as pd\n",
    "from glob import glob\n",
    "from timeit import default_timer as timer\n",
    "from shapely.geometry import Polygon, Point\n",
    "import folium "
   ]
  },
  {
   "cell_type": "code",
   "execution_count": 2,
   "metadata": {},
   "outputs": [
    {
     "name": "stdout",
     "output_type": "stream",
     "text": [
      "Hostname: c41-04\n"
     ]
    }
   ],
   "source": [
    "print('Hostname:', socket.gethostname())\n",
    "if 'samuel' in socket.gethostname().lower():\n",
    "    path_to_users='../data/decahose/parsed/users'\n",
    "    path_to_locations='../data/decahose/parsed/locations'\n",
    "else:\n",
    "    path_to_users='/scratch/spf248/twitter/data/decahose/parsed/users'\n",
    "    path_to_locations='/scratch/spf248/twitter/data/decahose/parsed/locations'"
   ]
  },
  {
   "cell_type": "code",
   "execution_count": 3,
   "metadata": {},
   "outputs": [
    {
     "name": "stdout",
     "output_type": "stream",
     "text": [
      "Import Users By Account Locations\n",
      "# Locations: 39779\n",
      "# Users Total: 92088032\n",
      "Computing Time: 196 sec\n"
     ]
    }
   ],
   "source": [
    "print('Import Users By Account Locations')\n",
    "start = timer()\n",
    "\n",
    "l = []\n",
    "for filename in sorted(glob(os.path.join(path_to_users,'user-ids-by-account-location-verified-json/*.json'))):\n",
    "    try:\n",
    "        df = pd.read_json(filename,lines=True)\n",
    "        l.append(df)\n",
    "    except:\n",
    "        print('error importing', filename)\n",
    "users_by_account_location=pd.concat(l, axis=0, ignore_index=True)\n",
    "users_by_account_location=users_by_account_location.set_index('user_location')['user_id']\n",
    "users_by_account_location=users_by_account_location.apply(eval).apply(lambda x:[str(y) for y in x])\n",
    "users_by_account_location=users_by_account_location.apply(len)\n",
    "print('# Locations:', len(users_by_account_location))\n",
    "print('# Users Total:', users_by_account_location.sum())\n",
    "\n",
    "end = timer()\n",
    "print('Computing Time:', round(end - start), 'sec')"
   ]
  },
  {
   "cell_type": "code",
   "execution_count": 6,
   "metadata": {},
   "outputs": [
    {
     "name": "stdout",
     "output_type": "stream",
     "text": [
      "Merge With Identified Locations:\n",
      "Computing Time: 0 sec\n"
     ]
    }
   ],
   "source": [
    "print('Merge With Identified Locations:')\n",
    "start=timer()\n",
    "\n",
    "account_locations_identified=pd.read_pickle(\n",
    "os.path.join(path_to_locations,'account-locations-identified.pkl'))\n",
    "\n",
    "account_locations_identified=account_locations_identified[\n",
    "['LOCATION', 'latitude', 'longitude', 'locality_long']].copy()\n",
    "\n",
    "users_by_city=pd.merge(account_locations_identified,\n",
    "users_by_account_location.reset_index().rename(\n",
    "columns={'user_location':'LOCATION'})).drop(['LOCATION'],1).dropna().groupby(\n",
    "'locality_long',as_index=False).agg({'latitude':'first','longitude':'first','user_id':'sum'}).rename(\n",
    "columns={'user_id':'n_users'}).sort_values(by='n_users',ascending=False).reset_index(drop=True)\n",
    "\n",
    "end=timer()\n",
    "print('Computing Time:', round(end - start), 'sec')"
   ]
  },
  {
   "cell_type": "code",
   "execution_count": 7,
   "metadata": {},
   "outputs": [
    {
     "name": "stdout",
     "output_type": "stream",
     "text": [
      "# Identified Cities: 7700\n"
     ]
    }
   ],
   "source": [
    "print(\"# Identified Cities:\", users_by_city.shape[0])"
   ]
  },
  {
   "cell_type": "code",
   "execution_count": 8,
   "metadata": {},
   "outputs": [
    {
     "name": "stdout",
     "output_type": "stream",
     "text": [
      "# Users Identified At the City Level: 57067437\n"
     ]
    }
   ],
   "source": [
    "print(\"# Users Identified At the City Level:\", users_by_city['n_users'].sum())"
   ]
  },
  {
   "cell_type": "code",
   "execution_count": 11,
   "metadata": {},
   "outputs": [],
   "source": [
    "print('Map Twitter Users Per City:')\n",
    "start = timer()\n",
    "\n",
    "map_city = folium.Map(\n",
    "location = [20, 0], \n",
    "zoom_start=2, \n",
    "tiles='cartodbpositron',\n",
    ")\n",
    "\n",
    "for i, (city, lat, lon, n_users) in enumerate(zip(\n",
    "users_by_city['locality_long'],\n",
    "users_by_city['latitude'],\n",
    "users_by_city['longitude'],\n",
    "users_by_city['n_users'])):\n",
    "    folium.CircleMarker(\n",
    "    [lat, lon],\n",
    "    radius=0.01*np.sqrt(n_users),\n",
    "    tooltip = folium.Popup(\n",
    "    city.title() + ' (' + '{:,}'.format(n_users) + ' Users)', \n",
    "    parse_html=True,\n",
    "    max_width=10000),\n",
    "    color='b',\n",
    "    fill=True,\n",
    "    fill_opacity=0.5,\n",
    "    ).add_to(map_city)\n",
    "    \n",
    "end = timer()\n",
    "print('Computing Time:', round(end - start), 'sec')"
   ]
  },
  {
   "cell_type": "code",
   "execution_count": null,
   "metadata": {},
   "outputs": [],
   "source": [
    "map_city.save('../fig/map-twitter-users-per-city.html')"
   ]
  }
 ],
 "metadata": {
  "kernelspec": {
   "display_name": "Python 3",
   "language": "python",
   "name": "python3"
  },
  "language_info": {
   "codemirror_mode": {
    "name": "ipython",
    "version": 3
   },
   "file_extension": ".py",
   "mimetype": "text/x-python",
   "name": "python",
   "nbconvert_exporter": "python",
   "pygments_lexer": "ipython3",
   "version": "3.7.0"
  }
 },
 "nbformat": 4,
 "nbformat_minor": 2
}
